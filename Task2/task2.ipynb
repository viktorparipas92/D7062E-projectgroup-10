{
 "cells": [
  {
   "cell_type": "markdown",
   "metadata": {
    "id": "xsm10C7KRTiq",
    "pycharm": {
     "name": "#%% md\n"
    }
   },
   "source": [
    "#Task 1"
   ]
  },
  {
   "cell_type": "markdown",
   "metadata": {
    "collapsed": false,
    "id": "sNw45BR0m62X",
    "pycharm": {
     "name": "#%% md\n"
    }
   },
   "source": [
    "## Importing dependencies\n",
    "We used the following libraries in the first task:\n",
    "- `pandas` to manipulate the data\n",
    "- `scikit-learn` for imputing and scaling the data\n",
    "- `seaborn` and `matplotlib` for visualization."
   ]
  },
  {
   "cell_type": "code",
   "execution_count": null,
   "metadata": {
    "id": "4CRS48qom62Z",
    "pycharm": {
     "name": "#%%\n"
    }
   },
   "outputs": [],
   "source": [
    "import pandas as pd\n",
    "from sklearn import preprocessing\n",
    "import numpy as np\n",
    "from matplotlib import pyplot as plt\n",
    "import seaborn as sns"
   ]
  },
  {
   "cell_type": "markdown",
   "metadata": {
    "collapsed": false,
    "id": "XyY6wwS-m62a",
    "pycharm": {
     "name": "#%% md\n"
    }
   },
   "source": [
    "## Data exploration\n",
    "Let's load the training dataset from the corresponding .csv file.\n",
    "Since we know that the columns represent the mean/standard deviation of the positions and angles of the 60 points, respectively, followed by the label name and code, let us rename the columns accordingly to allow for easier reading."
   ]
  },
  {
   "cell_type": "code",
   "execution_count": null,
   "metadata": {
    "id": "KNoDyk_fm62a",
    "pycharm": {
     "name": "#%%\n"
    }
   },
   "outputs": [],
   "source": [
    "def load_data():\n",
    "  training_data = pd.read_csv('train-final.csv', header=None)\n",
    "  test_data = pd.read_csv('test-final.csv', header=None)\n",
    "\n",
    "  name_mappings = {\n",
    "      # Feature columns\n",
    "      **{i:f'positions_mean_{i}' for i in range(60)},\n",
    "      **{i:f'positions_std_{i}' for i in range(60, 120)},\n",
    "      **{i:f'angles_mean_{i}' for i in range(120, 180)},\n",
    "      **{i:f'angles_std_{i}' for i in range(180, 240)},\n",
    "      # Label columns\n",
    "      **{240: 'label_name', 241: 'label_code'},\n",
    "  }\n",
    "\n",
    "  training_data.rename(name_mappings, axis=1, inplace=True)\n",
    "  training_feature_columns = training_data.columns[:-2]\n",
    "\n",
    "  training_features = training_data[training_feature_columns]\n",
    "  training_labels = training_data.label_name\n",
    "  training_codes = training_data.label_code\n",
    "\n",
    "  test_data.rename(name_mappings, axis=1, inplace=True)\n",
    "  test_feature_columns = test_data.columns[:-2]\n",
    "\n",
    "  test_features = test_data[test_feature_columns]\n",
    "  test_labels = test_data.label_name\n",
    "\n",
    "  return training_features, training_labels, training_codes, test_features, test_labels\n",
    "\n",
    "\n",
    "training_features, training_labels, training_codes, test_features, test_labels = load_data()"
   ]
  },
  {
   "cell_type": "markdown",
   "metadata": {
    "collapsed": false,
    "id": "_aYlx2ckm62b",
    "pycharm": {
     "name": "#%% md\n"
    }
   },
   "source": [
    "Let's show some of the data"
   ]
  },
  {
   "cell_type": "code",
   "execution_count": null,
   "metadata": {
    "colab": {
     "base_uri": "https://localhost:8080/",
     "height": 236
    },
    "id": "paURPIp3m62b",
    "outputId": "142e6a7e-3558-4685-c990-c24ddfbeee78",
    "pycharm": {
     "name": "#%%\n"
    }
   },
   "outputs": [
    {
     "data": {
      "text/html": [
       "\n",
       "  <div id=\"df-24871180-4ed7-4fbe-9fc5-3b99ee6675d5\">\n",
       "    <div class=\"colab-df-container\">\n",
       "      <div>\n",
       "<style scoped>\n",
       "    .dataframe tbody tr th:only-of-type {\n",
       "        vertical-align: middle;\n",
       "    }\n",
       "\n",
       "    .dataframe tbody tr th {\n",
       "        vertical-align: top;\n",
       "    }\n",
       "\n",
       "    .dataframe thead th {\n",
       "        text-align: right;\n",
       "    }\n",
       "</style>\n",
       "<table border=\"1\" class=\"dataframe\">\n",
       "  <thead>\n",
       "    <tr style=\"text-align: right;\">\n",
       "      <th></th>\n",
       "      <th>positions_mean_0</th>\n",
       "      <th>positions_mean_1</th>\n",
       "      <th>positions_mean_2</th>\n",
       "      <th>positions_mean_3</th>\n",
       "      <th>positions_mean_4</th>\n",
       "      <th>positions_mean_5</th>\n",
       "      <th>positions_mean_6</th>\n",
       "      <th>positions_mean_7</th>\n",
       "      <th>positions_mean_8</th>\n",
       "      <th>positions_mean_9</th>\n",
       "      <th>...</th>\n",
       "      <th>angles_std_230</th>\n",
       "      <th>angles_std_231</th>\n",
       "      <th>angles_std_232</th>\n",
       "      <th>angles_std_233</th>\n",
       "      <th>angles_std_234</th>\n",
       "      <th>angles_std_235</th>\n",
       "      <th>angles_std_236</th>\n",
       "      <th>angles_std_237</th>\n",
       "      <th>angles_std_238</th>\n",
       "      <th>angles_std_239</th>\n",
       "    </tr>\n",
       "  </thead>\n",
       "  <tbody>\n",
       "    <tr>\n",
       "      <th>0</th>\n",
       "      <td>-0.479730</td>\n",
       "      <td>0.726079</td>\n",
       "      <td>2.403713</td>\n",
       "      <td>-0.481913</td>\n",
       "      <td>0.540689</td>\n",
       "      <td>2.455865</td>\n",
       "      <td>-0.646274</td>\n",
       "      <td>0.406351</td>\n",
       "      <td>2.428461</td>\n",
       "      <td>-0.312905</td>\n",
       "      <td>...</td>\n",
       "      <td>0.403147</td>\n",
       "      <td>0.422235</td>\n",
       "      <td>0.730551</td>\n",
       "      <td>0.367526</td>\n",
       "      <td>0.520040</td>\n",
       "      <td>0.493564</td>\n",
       "      <td>0.485049</td>\n",
       "      <td>0.477886</td>\n",
       "      <td>0.607874</td>\n",
       "      <td>0.441320</td>\n",
       "    </tr>\n",
       "    <tr>\n",
       "      <th>1</th>\n",
       "      <td>0.051888</td>\n",
       "      <td>0.646871</td>\n",
       "      <td>2.409750</td>\n",
       "      <td>0.060117</td>\n",
       "      <td>0.451912</td>\n",
       "      <td>2.449198</td>\n",
       "      <td>-0.106647</td>\n",
       "      <td>0.344324</td>\n",
       "      <td>2.461468</td>\n",
       "      <td>0.183852</td>\n",
       "      <td>...</td>\n",
       "      <td>0.458585</td>\n",
       "      <td>0.365385</td>\n",
       "      <td>0.428723</td>\n",
       "      <td>0.571661</td>\n",
       "      <td>0.431776</td>\n",
       "      <td>0.279627</td>\n",
       "      <td>0.595978</td>\n",
       "      <td>0.389501</td>\n",
       "      <td>0.241849</td>\n",
       "      <td>0.617291</td>\n",
       "    </tr>\n",
       "    <tr>\n",
       "      <th>2</th>\n",
       "      <td>-0.002692</td>\n",
       "      <td>0.624926</td>\n",
       "      <td>2.240212</td>\n",
       "      <td>0.018586</td>\n",
       "      <td>0.435987</td>\n",
       "      <td>2.269613</td>\n",
       "      <td>-0.152985</td>\n",
       "      <td>0.336314</td>\n",
       "      <td>2.305371</td>\n",
       "      <td>0.164105</td>\n",
       "      <td>...</td>\n",
       "      <td>0.556154</td>\n",
       "      <td>0.449078</td>\n",
       "      <td>0.537268</td>\n",
       "      <td>0.488480</td>\n",
       "      <td>0.540547</td>\n",
       "      <td>0.542650</td>\n",
       "      <td>0.430114</td>\n",
       "      <td>0.542999</td>\n",
       "      <td>0.454954</td>\n",
       "      <td>0.479623</td>\n",
       "    </tr>\n",
       "    <tr>\n",
       "      <th>3</th>\n",
       "      <td>-0.029336</td>\n",
       "      <td>0.664426</td>\n",
       "      <td>2.443440</td>\n",
       "      <td>-0.023426</td>\n",
       "      <td>0.480809</td>\n",
       "      <td>2.451577</td>\n",
       "      <td>-0.203417</td>\n",
       "      <td>0.353489</td>\n",
       "      <td>2.506273</td>\n",
       "      <td>0.119183</td>\n",
       "      <td>...</td>\n",
       "      <td>0.458485</td>\n",
       "      <td>0.420331</td>\n",
       "      <td>0.713397</td>\n",
       "      <td>0.387092</td>\n",
       "      <td>0.439498</td>\n",
       "      <td>0.417769</td>\n",
       "      <td>0.554555</td>\n",
       "      <td>0.498407</td>\n",
       "      <td>0.565789</td>\n",
       "      <td>0.455313</td>\n",
       "    </tr>\n",
       "    <tr>\n",
       "      <th>4</th>\n",
       "      <td>0.065604</td>\n",
       "      <td>0.639172</td>\n",
       "      <td>2.377587</td>\n",
       "      <td>0.069247</td>\n",
       "      <td>0.447377</td>\n",
       "      <td>2.405972</td>\n",
       "      <td>-0.092707</td>\n",
       "      <td>0.339007</td>\n",
       "      <td>2.368022</td>\n",
       "      <td>0.231172</td>\n",
       "      <td>...</td>\n",
       "      <td>0.498700</td>\n",
       "      <td>0.280299</td>\n",
       "      <td>0.671461</td>\n",
       "      <td>0.475014</td>\n",
       "      <td>0.401192</td>\n",
       "      <td>0.372539</td>\n",
       "      <td>0.578720</td>\n",
       "      <td>0.446630</td>\n",
       "      <td>0.580236</td>\n",
       "      <td>0.460550</td>\n",
       "    </tr>\n",
       "  </tbody>\n",
       "</table>\n",
       "<p>5 rows × 240 columns</p>\n",
       "</div>\n",
       "      <button class=\"colab-df-convert\" onclick=\"convertToInteractive('df-24871180-4ed7-4fbe-9fc5-3b99ee6675d5')\"\n",
       "              title=\"Convert this dataframe to an interactive table.\"\n",
       "              style=\"display:none;\">\n",
       "        \n",
       "  <svg xmlns=\"http://www.w3.org/2000/svg\" height=\"24px\"viewBox=\"0 0 24 24\"\n",
       "       width=\"24px\">\n",
       "    <path d=\"M0 0h24v24H0V0z\" fill=\"none\"/>\n",
       "    <path d=\"M18.56 5.44l.94 2.06.94-2.06 2.06-.94-2.06-.94-.94-2.06-.94 2.06-2.06.94zm-11 1L8.5 8.5l.94-2.06 2.06-.94-2.06-.94L8.5 2.5l-.94 2.06-2.06.94zm10 10l.94 2.06.94-2.06 2.06-.94-2.06-.94-.94-2.06-.94 2.06-2.06.94z\"/><path d=\"M17.41 7.96l-1.37-1.37c-.4-.4-.92-.59-1.43-.59-.52 0-1.04.2-1.43.59L10.3 9.45l-7.72 7.72c-.78.78-.78 2.05 0 2.83L4 21.41c.39.39.9.59 1.41.59.51 0 1.02-.2 1.41-.59l7.78-7.78 2.81-2.81c.8-.78.8-2.07 0-2.86zM5.41 20L4 18.59l7.72-7.72 1.47 1.35L5.41 20z\"/>\n",
       "  </svg>\n",
       "      </button>\n",
       "      \n",
       "  <style>\n",
       "    .colab-df-container {\n",
       "      display:flex;\n",
       "      flex-wrap:wrap;\n",
       "      gap: 12px;\n",
       "    }\n",
       "\n",
       "    .colab-df-convert {\n",
       "      background-color: #E8F0FE;\n",
       "      border: none;\n",
       "      border-radius: 50%;\n",
       "      cursor: pointer;\n",
       "      display: none;\n",
       "      fill: #1967D2;\n",
       "      height: 32px;\n",
       "      padding: 0 0 0 0;\n",
       "      width: 32px;\n",
       "    }\n",
       "\n",
       "    .colab-df-convert:hover {\n",
       "      background-color: #E2EBFA;\n",
       "      box-shadow: 0px 1px 2px rgba(60, 64, 67, 0.3), 0px 1px 3px 1px rgba(60, 64, 67, 0.15);\n",
       "      fill: #174EA6;\n",
       "    }\n",
       "\n",
       "    [theme=dark] .colab-df-convert {\n",
       "      background-color: #3B4455;\n",
       "      fill: #D2E3FC;\n",
       "    }\n",
       "\n",
       "    [theme=dark] .colab-df-convert:hover {\n",
       "      background-color: #434B5C;\n",
       "      box-shadow: 0px 1px 3px 1px rgba(0, 0, 0, 0.15);\n",
       "      filter: drop-shadow(0px 1px 2px rgba(0, 0, 0, 0.3));\n",
       "      fill: #FFFFFF;\n",
       "    }\n",
       "  </style>\n",
       "\n",
       "      <script>\n",
       "        const buttonEl =\n",
       "          document.querySelector('#df-24871180-4ed7-4fbe-9fc5-3b99ee6675d5 button.colab-df-convert');\n",
       "        buttonEl.style.display =\n",
       "          google.colab.kernel.accessAllowed ? 'block' : 'none';\n",
       "\n",
       "        async function convertToInteractive(key) {\n",
       "          const element = document.querySelector('#df-24871180-4ed7-4fbe-9fc5-3b99ee6675d5');\n",
       "          const dataTable =\n",
       "            await google.colab.kernel.invokeFunction('convertToInteractive',\n",
       "                                                     [key], {});\n",
       "          if (!dataTable) return;\n",
       "\n",
       "          const docLinkHtml = 'Like what you see? Visit the ' +\n",
       "            '<a target=\"_blank\" href=https://colab.research.google.com/notebooks/data_table.ipynb>data table notebook</a>'\n",
       "            + ' to learn more about interactive tables.';\n",
       "          element.innerHTML = '';\n",
       "          dataTable['output_type'] = 'display_data';\n",
       "          await google.colab.output.renderOutput(dataTable, element);\n",
       "          const docLink = document.createElement('div');\n",
       "          docLink.innerHTML = docLinkHtml;\n",
       "          element.appendChild(docLink);\n",
       "        }\n",
       "      </script>\n",
       "    </div>\n",
       "  </div>\n",
       "  "
      ],
      "text/plain": [
       "   positions_mean_0  positions_mean_1  positions_mean_2  positions_mean_3  \\\n",
       "0         -0.479730          0.726079          2.403713         -0.481913   \n",
       "1          0.051888          0.646871          2.409750          0.060117   \n",
       "2         -0.002692          0.624926          2.240212          0.018586   \n",
       "3         -0.029336          0.664426          2.443440         -0.023426   \n",
       "4          0.065604          0.639172          2.377587          0.069247   \n",
       "\n",
       "   positions_mean_4  positions_mean_5  positions_mean_6  positions_mean_7  \\\n",
       "0          0.540689          2.455865         -0.646274          0.406351   \n",
       "1          0.451912          2.449198         -0.106647          0.344324   \n",
       "2          0.435987          2.269613         -0.152985          0.336314   \n",
       "3          0.480809          2.451577         -0.203417          0.353489   \n",
       "4          0.447377          2.405972         -0.092707          0.339007   \n",
       "\n",
       "   positions_mean_8  positions_mean_9  ...  angles_std_230  angles_std_231  \\\n",
       "0          2.428461         -0.312905  ...        0.403147        0.422235   \n",
       "1          2.461468          0.183852  ...        0.458585        0.365385   \n",
       "2          2.305371          0.164105  ...        0.556154        0.449078   \n",
       "3          2.506273          0.119183  ...        0.458485        0.420331   \n",
       "4          2.368022          0.231172  ...        0.498700        0.280299   \n",
       "\n",
       "   angles_std_232  angles_std_233  angles_std_234  angles_std_235  \\\n",
       "0        0.730551        0.367526        0.520040        0.493564   \n",
       "1        0.428723        0.571661        0.431776        0.279627   \n",
       "2        0.537268        0.488480        0.540547        0.542650   \n",
       "3        0.713397        0.387092        0.439498        0.417769   \n",
       "4        0.671461        0.475014        0.401192        0.372539   \n",
       "\n",
       "   angles_std_236  angles_std_237  angles_std_238  angles_std_239  \n",
       "0        0.485049        0.477886        0.607874        0.441320  \n",
       "1        0.595978        0.389501        0.241849        0.617291  \n",
       "2        0.430114        0.542999        0.454954        0.479623  \n",
       "3        0.554555        0.498407        0.565789        0.455313  \n",
       "4        0.578720        0.446630        0.580236        0.460550  \n",
       "\n",
       "[5 rows x 240 columns]"
      ]
     },
     "execution_count": 48,
     "metadata": {},
     "output_type": "execute_result"
    }
   ],
   "source": [
    "training_features.head()"
   ]
  },
  {
   "cell_type": "code",
   "execution_count": null,
   "metadata": {
    "colab": {
     "base_uri": "https://localhost:8080/",
     "height": 236
    },
    "id": "Yir2V2VRJNj8",
    "outputId": "5c6b91bf-f558-48cc-8b48-e598a2a7b000",
    "pycharm": {
     "name": "#%%\n"
    }
   },
   "outputs": [
    {
     "data": {
      "text/html": [
       "\n",
       "  <div id=\"df-d5472377-0a67-4aac-ac7c-fd7e666114cb\">\n",
       "    <div class=\"colab-df-container\">\n",
       "      <div>\n",
       "<style scoped>\n",
       "    .dataframe tbody tr th:only-of-type {\n",
       "        vertical-align: middle;\n",
       "    }\n",
       "\n",
       "    .dataframe tbody tr th {\n",
       "        vertical-align: top;\n",
       "    }\n",
       "\n",
       "    .dataframe thead th {\n",
       "        text-align: right;\n",
       "    }\n",
       "</style>\n",
       "<table border=\"1\" class=\"dataframe\">\n",
       "  <thead>\n",
       "    <tr style=\"text-align: right;\">\n",
       "      <th></th>\n",
       "      <th>positions_mean_0</th>\n",
       "      <th>positions_mean_1</th>\n",
       "      <th>positions_mean_2</th>\n",
       "      <th>positions_mean_3</th>\n",
       "      <th>positions_mean_4</th>\n",
       "      <th>positions_mean_5</th>\n",
       "      <th>positions_mean_6</th>\n",
       "      <th>positions_mean_7</th>\n",
       "      <th>positions_mean_8</th>\n",
       "      <th>positions_mean_9</th>\n",
       "      <th>...</th>\n",
       "      <th>angles_std_230</th>\n",
       "      <th>angles_std_231</th>\n",
       "      <th>angles_std_232</th>\n",
       "      <th>angles_std_233</th>\n",
       "      <th>angles_std_234</th>\n",
       "      <th>angles_std_235</th>\n",
       "      <th>angles_std_236</th>\n",
       "      <th>angles_std_237</th>\n",
       "      <th>angles_std_238</th>\n",
       "      <th>angles_std_239</th>\n",
       "    </tr>\n",
       "  </thead>\n",
       "  <tbody>\n",
       "    <tr>\n",
       "      <th>0</th>\n",
       "      <td>-0.332255</td>\n",
       "      <td>0.672471</td>\n",
       "      <td>2.450465</td>\n",
       "      <td>-0.323645</td>\n",
       "      <td>0.486062</td>\n",
       "      <td>2.526748</td>\n",
       "      <td>-0.483695</td>\n",
       "      <td>0.370296</td>\n",
       "      <td>2.534973</td>\n",
       "      <td>-0.172186</td>\n",
       "      <td>...</td>\n",
       "      <td>0.348333</td>\n",
       "      <td>0.426959</td>\n",
       "      <td>0.604953</td>\n",
       "      <td>0.464157</td>\n",
       "      <td>0.751404</td>\n",
       "      <td>0.467516</td>\n",
       "      <td>0.306133</td>\n",
       "      <td>0.521694</td>\n",
       "      <td>0.546094</td>\n",
       "      <td>0.439480</td>\n",
       "    </tr>\n",
       "    <tr>\n",
       "      <th>1</th>\n",
       "      <td>-0.089784</td>\n",
       "      <td>0.656778</td>\n",
       "      <td>2.431880</td>\n",
       "      <td>-0.079363</td>\n",
       "      <td>0.467939</td>\n",
       "      <td>2.429239</td>\n",
       "      <td>-0.193909</td>\n",
       "      <td>0.349866</td>\n",
       "      <td>2.329680</td>\n",
       "      <td>0.081013</td>\n",
       "      <td>...</td>\n",
       "      <td>0.482754</td>\n",
       "      <td>0.456633</td>\n",
       "      <td>0.596048</td>\n",
       "      <td>0.461552</td>\n",
       "      <td>0.557319</td>\n",
       "      <td>0.373754</td>\n",
       "      <td>0.515013</td>\n",
       "      <td>0.413323</td>\n",
       "      <td>0.491261</td>\n",
       "      <td>0.530069</td>\n",
       "    </tr>\n",
       "    <tr>\n",
       "      <th>2</th>\n",
       "      <td>-0.427810</td>\n",
       "      <td>0.699557</td>\n",
       "      <td>2.347763</td>\n",
       "      <td>-0.444873</td>\n",
       "      <td>0.530140</td>\n",
       "      <td>2.433568</td>\n",
       "      <td>-0.610365</td>\n",
       "      <td>0.402565</td>\n",
       "      <td>2.398841</td>\n",
       "      <td>-0.264254</td>\n",
       "      <td>...</td>\n",
       "      <td>0.582908</td>\n",
       "      <td>0.412314</td>\n",
       "      <td>0.777705</td>\n",
       "      <td>0.318174</td>\n",
       "      <td>0.532617</td>\n",
       "      <td>0.476989</td>\n",
       "      <td>0.487606</td>\n",
       "      <td>0.604556</td>\n",
       "      <td>0.489667</td>\n",
       "      <td>0.433812</td>\n",
       "    </tr>\n",
       "    <tr>\n",
       "      <th>3</th>\n",
       "      <td>-0.089790</td>\n",
       "      <td>0.694279</td>\n",
       "      <td>2.428455</td>\n",
       "      <td>-0.072881</td>\n",
       "      <td>0.520537</td>\n",
       "      <td>2.496676</td>\n",
       "      <td>-0.255747</td>\n",
       "      <td>0.404209</td>\n",
       "      <td>2.520148</td>\n",
       "      <td>0.115363</td>\n",
       "      <td>...</td>\n",
       "      <td>0.409941</td>\n",
       "      <td>0.328799</td>\n",
       "      <td>0.551472</td>\n",
       "      <td>0.498960</td>\n",
       "      <td>0.313094</td>\n",
       "      <td>0.450005</td>\n",
       "      <td>0.581886</td>\n",
       "      <td>0.409794</td>\n",
       "      <td>0.377352</td>\n",
       "      <td>0.578679</td>\n",
       "    </tr>\n",
       "    <tr>\n",
       "      <th>4</th>\n",
       "      <td>-0.387741</td>\n",
       "      <td>0.540410</td>\n",
       "      <td>2.399926</td>\n",
       "      <td>-0.406310</td>\n",
       "      <td>0.361768</td>\n",
       "      <td>2.459448</td>\n",
       "      <td>-0.576004</td>\n",
       "      <td>0.262814</td>\n",
       "      <td>2.457772</td>\n",
       "      <td>-0.256852</td>\n",
       "      <td>...</td>\n",
       "      <td>0.348730</td>\n",
       "      <td>0.311284</td>\n",
       "      <td>0.684091</td>\n",
       "      <td>0.457543</td>\n",
       "      <td>0.446787</td>\n",
       "      <td>0.499285</td>\n",
       "      <td>0.512345</td>\n",
       "      <td>0.366741</td>\n",
       "      <td>0.468337</td>\n",
       "      <td>0.526775</td>\n",
       "    </tr>\n",
       "  </tbody>\n",
       "</table>\n",
       "<p>5 rows × 240 columns</p>\n",
       "</div>\n",
       "      <button class=\"colab-df-convert\" onclick=\"convertToInteractive('df-d5472377-0a67-4aac-ac7c-fd7e666114cb')\"\n",
       "              title=\"Convert this dataframe to an interactive table.\"\n",
       "              style=\"display:none;\">\n",
       "        \n",
       "  <svg xmlns=\"http://www.w3.org/2000/svg\" height=\"24px\"viewBox=\"0 0 24 24\"\n",
       "       width=\"24px\">\n",
       "    <path d=\"M0 0h24v24H0V0z\" fill=\"none\"/>\n",
       "    <path d=\"M18.56 5.44l.94 2.06.94-2.06 2.06-.94-2.06-.94-.94-2.06-.94 2.06-2.06.94zm-11 1L8.5 8.5l.94-2.06 2.06-.94-2.06-.94L8.5 2.5l-.94 2.06-2.06.94zm10 10l.94 2.06.94-2.06 2.06-.94-2.06-.94-.94-2.06-.94 2.06-2.06.94z\"/><path d=\"M17.41 7.96l-1.37-1.37c-.4-.4-.92-.59-1.43-.59-.52 0-1.04.2-1.43.59L10.3 9.45l-7.72 7.72c-.78.78-.78 2.05 0 2.83L4 21.41c.39.39.9.59 1.41.59.51 0 1.02-.2 1.41-.59l7.78-7.78 2.81-2.81c.8-.78.8-2.07 0-2.86zM5.41 20L4 18.59l7.72-7.72 1.47 1.35L5.41 20z\"/>\n",
       "  </svg>\n",
       "      </button>\n",
       "      \n",
       "  <style>\n",
       "    .colab-df-container {\n",
       "      display:flex;\n",
       "      flex-wrap:wrap;\n",
       "      gap: 12px;\n",
       "    }\n",
       "\n",
       "    .colab-df-convert {\n",
       "      background-color: #E8F0FE;\n",
       "      border: none;\n",
       "      border-radius: 50%;\n",
       "      cursor: pointer;\n",
       "      display: none;\n",
       "      fill: #1967D2;\n",
       "      height: 32px;\n",
       "      padding: 0 0 0 0;\n",
       "      width: 32px;\n",
       "    }\n",
       "\n",
       "    .colab-df-convert:hover {\n",
       "      background-color: #E2EBFA;\n",
       "      box-shadow: 0px 1px 2px rgba(60, 64, 67, 0.3), 0px 1px 3px 1px rgba(60, 64, 67, 0.15);\n",
       "      fill: #174EA6;\n",
       "    }\n",
       "\n",
       "    [theme=dark] .colab-df-convert {\n",
       "      background-color: #3B4455;\n",
       "      fill: #D2E3FC;\n",
       "    }\n",
       "\n",
       "    [theme=dark] .colab-df-convert:hover {\n",
       "      background-color: #434B5C;\n",
       "      box-shadow: 0px 1px 3px 1px rgba(0, 0, 0, 0.15);\n",
       "      filter: drop-shadow(0px 1px 2px rgba(0, 0, 0, 0.3));\n",
       "      fill: #FFFFFF;\n",
       "    }\n",
       "  </style>\n",
       "\n",
       "      <script>\n",
       "        const buttonEl =\n",
       "          document.querySelector('#df-d5472377-0a67-4aac-ac7c-fd7e666114cb button.colab-df-convert');\n",
       "        buttonEl.style.display =\n",
       "          google.colab.kernel.accessAllowed ? 'block' : 'none';\n",
       "\n",
       "        async function convertToInteractive(key) {\n",
       "          const element = document.querySelector('#df-d5472377-0a67-4aac-ac7c-fd7e666114cb');\n",
       "          const dataTable =\n",
       "            await google.colab.kernel.invokeFunction('convertToInteractive',\n",
       "                                                     [key], {});\n",
       "          if (!dataTable) return;\n",
       "\n",
       "          const docLinkHtml = 'Like what you see? Visit the ' +\n",
       "            '<a target=\"_blank\" href=https://colab.research.google.com/notebooks/data_table.ipynb>data table notebook</a>'\n",
       "            + ' to learn more about interactive tables.';\n",
       "          element.innerHTML = '';\n",
       "          dataTable['output_type'] = 'display_data';\n",
       "          await google.colab.output.renderOutput(dataTable, element);\n",
       "          const docLink = document.createElement('div');\n",
       "          docLink.innerHTML = docLinkHtml;\n",
       "          element.appendChild(docLink);\n",
       "        }\n",
       "      </script>\n",
       "    </div>\n",
       "  </div>\n",
       "  "
      ],
      "text/plain": [
       "   positions_mean_0  positions_mean_1  positions_mean_2  positions_mean_3  \\\n",
       "0         -0.332255          0.672471          2.450465         -0.323645   \n",
       "1         -0.089784          0.656778          2.431880         -0.079363   \n",
       "2         -0.427810          0.699557          2.347763         -0.444873   \n",
       "3         -0.089790          0.694279          2.428455         -0.072881   \n",
       "4         -0.387741          0.540410          2.399926         -0.406310   \n",
       "\n",
       "   positions_mean_4  positions_mean_5  positions_mean_6  positions_mean_7  \\\n",
       "0          0.486062          2.526748         -0.483695          0.370296   \n",
       "1          0.467939          2.429239         -0.193909          0.349866   \n",
       "2          0.530140          2.433568         -0.610365          0.402565   \n",
       "3          0.520537          2.496676         -0.255747          0.404209   \n",
       "4          0.361768          2.459448         -0.576004          0.262814   \n",
       "\n",
       "   positions_mean_8  positions_mean_9  ...  angles_std_230  angles_std_231  \\\n",
       "0          2.534973         -0.172186  ...        0.348333        0.426959   \n",
       "1          2.329680          0.081013  ...        0.482754        0.456633   \n",
       "2          2.398841         -0.264254  ...        0.582908        0.412314   \n",
       "3          2.520148          0.115363  ...        0.409941        0.328799   \n",
       "4          2.457772         -0.256852  ...        0.348730        0.311284   \n",
       "\n",
       "   angles_std_232  angles_std_233  angles_std_234  angles_std_235  \\\n",
       "0        0.604953        0.464157        0.751404        0.467516   \n",
       "1        0.596048        0.461552        0.557319        0.373754   \n",
       "2        0.777705        0.318174        0.532617        0.476989   \n",
       "3        0.551472        0.498960        0.313094        0.450005   \n",
       "4        0.684091        0.457543        0.446787        0.499285   \n",
       "\n",
       "   angles_std_236  angles_std_237  angles_std_238  angles_std_239  \n",
       "0        0.306133        0.521694        0.546094        0.439480  \n",
       "1        0.515013        0.413323        0.491261        0.530069  \n",
       "2        0.487606        0.604556        0.489667        0.433812  \n",
       "3        0.581886        0.409794        0.377352        0.578679  \n",
       "4        0.512345        0.366741        0.468337        0.526775  \n",
       "\n",
       "[5 rows x 240 columns]"
      ]
     },
     "execution_count": 49,
     "metadata": {},
     "output_type": "execute_result"
    }
   ],
   "source": [
    "test_features.head()"
   ]
  },
  {
   "cell_type": "markdown",
   "metadata": {
    "collapsed": false,
    "id": "DYPTNtFmm62c",
    "pycharm": {
     "name": "#%% md\n"
    }
   },
   "source": [
    "How many different labels do we have in the training dataset?"
   ]
  },
  {
   "cell_type": "code",
   "execution_count": null,
   "metadata": {
    "colab": {
     "base_uri": "https://localhost:8080/"
    },
    "id": "l8hDw1bgm62c",
    "outputId": "bb0922e6-7595-45a2-8521-30a573391ad6",
    "pycharm": {
     "name": "#%%\n"
    }
   },
   "outputs": [
    {
     "data": {
      "text/plain": [
       "30"
      ]
     },
     "execution_count": 50,
     "metadata": {},
     "output_type": "execute_result"
    }
   ],
   "source": [
    "number_of_classes = training_labels.nunique()\n",
    "number_of_classes"
   ]
  },
  {
   "cell_type": "markdown",
   "metadata": {
    "collapsed": false,
    "id": "2NwxuXvqm62c",
    "pycharm": {
     "name": "#%% md\n"
    }
   },
   "source": [
    "Now let's take a look at how many occurrences we have of each label."
   ]
  },
  {
   "cell_type": "code",
   "execution_count": null,
   "metadata": {
    "colab": {
     "base_uri": "https://localhost:8080/",
     "height": 321
    },
    "id": "_O-CkrFfm62d",
    "outputId": "fd23a889-cae4-4877-b2f1-64e5855fcb5a",
    "pycharm": {
     "name": "#%%\n"
    }
   },
   "outputs": [
    {
     "data": {
      "text/plain": [
       "<matplotlib.axes._subplots.AxesSubplot at 0x7fee0b734590>"
      ]
     },
     "execution_count": 51,
     "metadata": {},
     "output_type": "execute_result"
    },
    {
     "data": {
      "image/png": "[encoded data removed]",
      "text/plain": [
       "<Figure size 720x288 with 1 Axes>"
      ]
     },
     "metadata": {
      "needs_background": "light"
     },
     "output_type": "display_data"
    }
   ],
   "source": [
    "training_labels.value_counts().plot(kind='bar', figsize=(10, 4))"
   ]
  },
  {
   "cell_type": "markdown",
   "metadata": {
    "collapsed": false,
    "id": "YlISrYJpm62d",
    "pycharm": {
     "name": "#%% md\n"
    }
   },
   "source": [
    "We can see that `child` is the most common label in the training dataset and that `go` is the least common label."
   ]
  },
  {
   "cell_type": "markdown",
   "metadata": {
    "collapsed": false,
    "id": "AhOTmkwRm62d",
    "pycharm": {
     "name": "#%% md\n"
    }
   },
   "source": [
    "Now let's look for columns that have missing values. The missing values are in the following columns (along with the missing value count):\n"
   ]
  },
  {
   "cell_type": "code",
   "execution_count": null,
   "metadata": {
    "colab": {
     "base_uri": "https://localhost:8080/"
    },
    "id": "rTfhsEE8m62f",
    "lines_to_next_cell": 2,
    "outputId": "a6ad1ea6-9061-437c-c399-3355bdcbf530",
    "pycharm": {
     "name": "#%%\n"
    }
   },
   "outputs": [
    {
     "name": "stdout",
     "output_type": "stream",
     "text": [
      "Total amount of missing values in the dataframe: 21\n",
      "Missing values in the following column indexes (and missing value count):\n",
      "positions_mean_7     4\n",
      "positions_mean_8     4\n",
      "positions_mean_9     4\n",
      "positions_mean_14    3\n",
      "positions_mean_15    3\n",
      "positions_mean_16    3\n",
      "dtype: int64\n"
     ]
    }
   ],
   "source": [
    "# Look for columns that have missing values\n",
    "columns_null_sum = training_features.isnull().sum()\n",
    "columns_with_nulls = columns_null_sum[columns_null_sum > 0]\n",
    "\n",
    "print(\n",
    "    \"Total amount of missing values in the dataframe:\", \n",
    "    training_features.isnull().sum().sum()\n",
    ")\n",
    "print(\n",
    "    \"Missing values in the following column indexes (and missing value count):\"\n",
    ")\n",
    "print(columns_with_nulls)"
   ]
  },
  {
   "cell_type": "markdown",
   "metadata": {
    "id": "yprFNiVkm62j",
    "pycharm": {
     "name": "#%% md\n"
    }
   },
   "source": [
    "Some classifiers are more sensitive to the range, mean & outliers of the features, such as linear regression models, for example.\n",
    "In order to be able to train a wide range of classifiers and compare them, we will need to preprocess the data for scaling and outlier treatment."
   ]
  },
  {
   "cell_type": "markdown",
   "metadata": {
    "id": "t9yB47dLm62k",
    "pycharm": {
     "name": "#%% md\n"
    }
   },
   "source": [
    "Let's see if the dataset also contains outliers. There are quite a few way to detect outliers (Source:\n",
    "[Outlier detection methods in Scikit-Learn](https://scikit-learn.org/stable/modules/outlier_detection.html)):\n",
    "- Isolation forest\n",
    "- Local outlier factor\n",
    "- One-class support vector machine (SVM)\n",
    "- Elliptic envelope\n",
    "\n",
    "We start by doing a boxplot for all features to get a visual indication of the outlier situation."
   ]
  },
  {
   "cell_type": "code",
   "execution_count": null,
   "metadata": {
    "colab": {
     "base_uri": "https://localhost:8080/",
     "height": 435
    },
    "id": "r77J-ZiOm62k",
    "outputId": "85265cc2-eeff-4995-bfc8-510d5910c20e",
    "pycharm": {
     "name": "#%%\n"
    }
   },
   "outputs": [
    {
     "data": {
      "text/plain": [
       "([<matplotlib.axis.XTick at 0x7fee0b60bad0>], [Text(0, 0, '')])"
      ]
     },
     "execution_count": 53,
     "metadata": {},
     "output_type": "execute_result"
    },
    {
     "data": {
      "image/png": "[encoded data removed]",
      "text/plain": [
       "<Figure size 1296x504 with 1 Axes>"
      ]
     },
     "metadata": {
      "needs_background": "light"
     },
     "output_type": "display_data"
    }
   ],
   "source": [
    "training_features.boxplot(figsize=(18,7))\n",
    "plt.xticks([1], [''])"
   ]
  },
  {
   "cell_type": "markdown",
   "metadata": {
    "id": "m4tCX_XRnYRS",
    "pycharm": {
     "name": "#%% md\n"
    }
   },
   "source": [
    "Based on the boxplot, there appears to be many columns with outliers. Many classifiers, e.g. linear classifiers like Logistic Regression will not handle outliers well, so we need to find a way to handle also outliers."
   ]
  },
  {
   "cell_type": "markdown",
   "metadata": {
    "id": "J1sVekRXoT4Q",
    "pycharm": {
     "name": "#%% md\n"
    }
   },
   "source": [
    "## Methods"
   ]
  },
  {
   "cell_type": "markdown",
   "metadata": {
    "id": "Kq-ne6mOolOy",
    "pycharm": {
     "name": "#%% md\n"
    }
   },
   "source": [
    "### Outliers\n",
    "\n",
    "As we saw in the boxplot above, there are many columns with outliers. And while there are many methods to detect outliers,let's begin with just identifying the **values** that are farthest from the mean. \n",
    "\n",
    "A simple approach is to identify the values that lie outside of 3$\\sigma$ (that is, three times the standard deviation) as outliers, and drop the rows that have at least one outlier. Let's give it a try."
   ]
  },
  {
   "cell_type": "code",
   "execution_count": null,
   "metadata": {
    "id": "sOaxwVV_m62k",
    "pycharm": {
     "name": "#%%\n"
    }
   },
   "outputs": [],
   "source": [
    "#training_features_outliers_marked = training_features[abs(training_features) <= 3]\n",
    "from scipy import stats\n",
    "\n",
    "training_features_outliers_marked = training_features[\n",
    "    np.abs(stats.zscore(training_features.fillna(training_features.mean()))) < 3\n",
    "]"
   ]
  },
  {
   "cell_type": "code",
   "execution_count": null,
   "metadata": {
    "colab": {
     "base_uri": "https://localhost:8080/",
     "height": 236
    },
    "id": "gGFZoxbwpqaE",
    "outputId": "0f86cb71-63cb-4585-9128-65fa55ae8b62",
    "pycharm": {
     "name": "#%%\n"
    }
   },
   "outputs": [
    {
     "data": {
      "text/html": [
       "\n",
       "  <div id=\"df-d324030b-8712-4290-9483-9fcc94d94f7c\">\n",
       "    <div class=\"colab-df-container\">\n",
       "      <div>\n",
       "<style scoped>\n",
       "    .dataframe tbody tr th:only-of-type {\n",
       "        vertical-align: middle;\n",
       "    }\n",
       "\n",
       "    .dataframe tbody tr th {\n",
       "        vertical-align: top;\n",
       "    }\n",
       "\n",
       "    .dataframe thead th {\n",
       "        text-align: right;\n",
       "    }\n",
       "</style>\n",
       "<table border=\"1\" class=\"dataframe\">\n",
       "  <thead>\n",
       "    <tr style=\"text-align: right;\">\n",
       "      <th></th>\n",
       "      <th>positions_mean_0</th>\n",
       "      <th>positions_mean_1</th>\n",
       "      <th>positions_mean_2</th>\n",
       "      <th>positions_mean_3</th>\n",
       "      <th>positions_mean_4</th>\n",
       "      <th>positions_mean_5</th>\n",
       "      <th>positions_mean_6</th>\n",
       "      <th>positions_mean_7</th>\n",
       "      <th>positions_mean_8</th>\n",
       "      <th>positions_mean_9</th>\n",
       "      <th>...</th>\n",
       "      <th>angles_std_230</th>\n",
       "      <th>angles_std_231</th>\n",
       "      <th>angles_std_232</th>\n",
       "      <th>angles_std_233</th>\n",
       "      <th>angles_std_234</th>\n",
       "      <th>angles_std_235</th>\n",
       "      <th>angles_std_236</th>\n",
       "      <th>angles_std_237</th>\n",
       "      <th>angles_std_238</th>\n",
       "      <th>angles_std_239</th>\n",
       "    </tr>\n",
       "  </thead>\n",
       "  <tbody>\n",
       "    <tr>\n",
       "      <th>0</th>\n",
       "      <td>-0.479730</td>\n",
       "      <td>0.726079</td>\n",
       "      <td>2.403713</td>\n",
       "      <td>-0.481913</td>\n",
       "      <td>0.540689</td>\n",
       "      <td>2.455865</td>\n",
       "      <td>-0.646274</td>\n",
       "      <td>0.406351</td>\n",
       "      <td>2.428461</td>\n",
       "      <td>-0.312905</td>\n",
       "      <td>...</td>\n",
       "      <td>0.403147</td>\n",
       "      <td>0.422235</td>\n",
       "      <td>0.730551</td>\n",
       "      <td>0.367526</td>\n",
       "      <td>0.520040</td>\n",
       "      <td>0.493564</td>\n",
       "      <td>0.485049</td>\n",
       "      <td>0.477886</td>\n",
       "      <td>0.607874</td>\n",
       "      <td>0.441320</td>\n",
       "    </tr>\n",
       "    <tr>\n",
       "      <th>1</th>\n",
       "      <td>0.051888</td>\n",
       "      <td>0.646871</td>\n",
       "      <td>2.409750</td>\n",
       "      <td>0.060117</td>\n",
       "      <td>0.451912</td>\n",
       "      <td>2.449198</td>\n",
       "      <td>-0.106647</td>\n",
       "      <td>0.344324</td>\n",
       "      <td>2.461468</td>\n",
       "      <td>0.183852</td>\n",
       "      <td>...</td>\n",
       "      <td>0.458585</td>\n",
       "      <td>0.365385</td>\n",
       "      <td>0.428723</td>\n",
       "      <td>0.571661</td>\n",
       "      <td>0.431776</td>\n",
       "      <td>0.279627</td>\n",
       "      <td>0.595978</td>\n",
       "      <td>0.389501</td>\n",
       "      <td>0.241849</td>\n",
       "      <td>0.617291</td>\n",
       "    </tr>\n",
       "    <tr>\n",
       "      <th>2</th>\n",
       "      <td>-0.002692</td>\n",
       "      <td>0.624926</td>\n",
       "      <td>2.240212</td>\n",
       "      <td>0.018586</td>\n",
       "      <td>0.435987</td>\n",
       "      <td>2.269613</td>\n",
       "      <td>-0.152985</td>\n",
       "      <td>0.336314</td>\n",
       "      <td>2.305371</td>\n",
       "      <td>0.164105</td>\n",
       "      <td>...</td>\n",
       "      <td>0.556154</td>\n",
       "      <td>0.449078</td>\n",
       "      <td>0.537268</td>\n",
       "      <td>0.488480</td>\n",
       "      <td>0.540547</td>\n",
       "      <td>0.542650</td>\n",
       "      <td>0.430114</td>\n",
       "      <td>0.542999</td>\n",
       "      <td>0.454954</td>\n",
       "      <td>0.479623</td>\n",
       "    </tr>\n",
       "    <tr>\n",
       "      <th>3</th>\n",
       "      <td>-0.029336</td>\n",
       "      <td>0.664426</td>\n",
       "      <td>2.443440</td>\n",
       "      <td>-0.023426</td>\n",
       "      <td>0.480809</td>\n",
       "      <td>2.451577</td>\n",
       "      <td>-0.203417</td>\n",
       "      <td>0.353489</td>\n",
       "      <td>2.506273</td>\n",
       "      <td>0.119183</td>\n",
       "      <td>...</td>\n",
       "      <td>0.458485</td>\n",
       "      <td>0.420331</td>\n",
       "      <td>0.713397</td>\n",
       "      <td>0.387092</td>\n",
       "      <td>0.439498</td>\n",
       "      <td>0.417769</td>\n",
       "      <td>0.554555</td>\n",
       "      <td>0.498407</td>\n",
       "      <td>0.565789</td>\n",
       "      <td>0.455313</td>\n",
       "    </tr>\n",
       "    <tr>\n",
       "      <th>4</th>\n",
       "      <td>0.065604</td>\n",
       "      <td>0.639172</td>\n",
       "      <td>2.377587</td>\n",
       "      <td>0.069247</td>\n",
       "      <td>0.447377</td>\n",
       "      <td>2.405972</td>\n",
       "      <td>-0.092707</td>\n",
       "      <td>0.339007</td>\n",
       "      <td>2.368022</td>\n",
       "      <td>0.231172</td>\n",
       "      <td>...</td>\n",
       "      <td>0.498700</td>\n",
       "      <td>0.280299</td>\n",
       "      <td>0.671461</td>\n",
       "      <td>0.475014</td>\n",
       "      <td>0.401192</td>\n",
       "      <td>0.372539</td>\n",
       "      <td>0.578720</td>\n",
       "      <td>0.446630</td>\n",
       "      <td>0.580236</td>\n",
       "      <td>0.460550</td>\n",
       "    </tr>\n",
       "  </tbody>\n",
       "</table>\n",
       "<p>5 rows × 240 columns</p>\n",
       "</div>\n",
       "      <button class=\"colab-df-convert\" onclick=\"convertToInteractive('df-d324030b-8712-4290-9483-9fcc94d94f7c')\"\n",
       "              title=\"Convert this dataframe to an interactive table.\"\n",
       "              style=\"display:none;\">\n",
       "        \n",
       "  <svg xmlns=\"http://www.w3.org/2000/svg\" height=\"24px\"viewBox=\"0 0 24 24\"\n",
       "       width=\"24px\">\n",
       "    <path d=\"M0 0h24v24H0V0z\" fill=\"none\"/>\n",
       "    <path d=\"M18.56 5.44l.94 2.06.94-2.06 2.06-.94-2.06-.94-.94-2.06-.94 2.06-2.06.94zm-11 1L8.5 8.5l.94-2.06 2.06-.94-2.06-.94L8.5 2.5l-.94 2.06-2.06.94zm10 10l.94 2.06.94-2.06 2.06-.94-2.06-.94-.94-2.06-.94 2.06-2.06.94z\"/><path d=\"M17.41 7.96l-1.37-1.37c-.4-.4-.92-.59-1.43-.59-.52 0-1.04.2-1.43.59L10.3 9.45l-7.72 7.72c-.78.78-.78 2.05 0 2.83L4 21.41c.39.39.9.59 1.41.59.51 0 1.02-.2 1.41-.59l7.78-7.78 2.81-2.81c.8-.78.8-2.07 0-2.86zM5.41 20L4 18.59l7.72-7.72 1.47 1.35L5.41 20z\"/>\n",
       "  </svg>\n",
       "      </button>\n",
       "      \n",
       "  <style>\n",
       "    .colab-df-container {\n",
       "      display:flex;\n",
       "      flex-wrap:wrap;\n",
       "      gap: 12px;\n",
       "    }\n",
       "\n",
       "    .colab-df-convert {\n",
       "      background-color: #E8F0FE;\n",
       "      border: none;\n",
       "      border-radius: 50%;\n",
       "      cursor: pointer;\n",
       "      display: none;\n",
       "      fill: #1967D2;\n",
       "      height: 32px;\n",
       "      padding: 0 0 0 0;\n",
       "      width: 32px;\n",
       "    }\n",
       "\n",
       "    .colab-df-convert:hover {\n",
       "      background-color: #E2EBFA;\n",
       "      box-shadow: 0px 1px 2px rgba(60, 64, 67, 0.3), 0px 1px 3px 1px rgba(60, 64, 67, 0.15);\n",
       "      fill: #174EA6;\n",
       "    }\n",
       "\n",
       "    [theme=dark] .colab-df-convert {\n",
       "      background-color: #3B4455;\n",
       "      fill: #D2E3FC;\n",
       "    }\n",
       "\n",
       "    [theme=dark] .colab-df-convert:hover {\n",
       "      background-color: #434B5C;\n",
       "      box-shadow: 0px 1px 3px 1px rgba(0, 0, 0, 0.15);\n",
       "      filter: drop-shadow(0px 1px 2px rgba(0, 0, 0, 0.3));\n",
       "      fill: #FFFFFF;\n",
       "    }\n",
       "  </style>\n",
       "\n",
       "      <script>\n",
       "        const buttonEl =\n",
       "          document.querySelector('#df-d324030b-8712-4290-9483-9fcc94d94f7c button.colab-df-convert');\n",
       "        buttonEl.style.display =\n",
       "          google.colab.kernel.accessAllowed ? 'block' : 'none';\n",
       "\n",
       "        async function convertToInteractive(key) {\n",
       "          const element = document.querySelector('#df-d324030b-8712-4290-9483-9fcc94d94f7c');\n",
       "          const dataTable =\n",
       "            await google.colab.kernel.invokeFunction('convertToInteractive',\n",
       "                                                     [key], {});\n",
       "          if (!dataTable) return;\n",
       "\n",
       "          const docLinkHtml = 'Like what you see? Visit the ' +\n",
       "            '<a target=\"_blank\" href=https://colab.research.google.com/notebooks/data_table.ipynb>data table notebook</a>'\n",
       "            + ' to learn more about interactive tables.';\n",
       "          element.innerHTML = '';\n",
       "          dataTable['output_type'] = 'display_data';\n",
       "          await google.colab.output.renderOutput(dataTable, element);\n",
       "          const docLink = document.createElement('div');\n",
       "          docLink.innerHTML = docLinkHtml;\n",
       "          element.appendChild(docLink);\n",
       "        }\n",
       "      </script>\n",
       "    </div>\n",
       "  </div>\n",
       "  "
      ],
      "text/plain": [
       "   positions_mean_0  positions_mean_1  positions_mean_2  positions_mean_3  \\\n",
       "0         -0.479730          0.726079          2.403713         -0.481913   \n",
       "1          0.051888          0.646871          2.409750          0.060117   \n",
       "2         -0.002692          0.624926          2.240212          0.018586   \n",
       "3         -0.029336          0.664426          2.443440         -0.023426   \n",
       "4          0.065604          0.639172          2.377587          0.069247   \n",
       "\n",
       "   positions_mean_4  positions_mean_5  positions_mean_6  positions_mean_7  \\\n",
       "0          0.540689          2.455865         -0.646274          0.406351   \n",
       "1          0.451912          2.449198         -0.106647          0.344324   \n",
       "2          0.435987          2.269613         -0.152985          0.336314   \n",
       "3          0.480809          2.451577         -0.203417          0.353489   \n",
       "4          0.447377          2.405972         -0.092707          0.339007   \n",
       "\n",
       "   positions_mean_8  positions_mean_9  ...  angles_std_230  angles_std_231  \\\n",
       "0          2.428461         -0.312905  ...        0.403147        0.422235   \n",
       "1          2.461468          0.183852  ...        0.458585        0.365385   \n",
       "2          2.305371          0.164105  ...        0.556154        0.449078   \n",
       "3          2.506273          0.119183  ...        0.458485        0.420331   \n",
       "4          2.368022          0.231172  ...        0.498700        0.280299   \n",
       "\n",
       "   angles_std_232  angles_std_233  angles_std_234  angles_std_235  \\\n",
       "0        0.730551        0.367526        0.520040        0.493564   \n",
       "1        0.428723        0.571661        0.431776        0.279627   \n",
       "2        0.537268        0.488480        0.540547        0.542650   \n",
       "3        0.713397        0.387092        0.439498        0.417769   \n",
       "4        0.671461        0.475014        0.401192        0.372539   \n",
       "\n",
       "   angles_std_236  angles_std_237  angles_std_238  angles_std_239  \n",
       "0        0.485049        0.477886        0.607874        0.441320  \n",
       "1        0.595978        0.389501        0.241849        0.617291  \n",
       "2        0.430114        0.542999        0.454954        0.479623  \n",
       "3        0.554555        0.498407        0.565789        0.455313  \n",
       "4        0.578720        0.446630        0.580236        0.460550  \n",
       "\n",
       "[5 rows x 240 columns]"
      ]
     },
     "execution_count": 55,
     "metadata": {},
     "output_type": "execute_result"
    }
   ],
   "source": [
    "training_features_outliers_marked.head()"
   ]
  },
  {
   "cell_type": "code",
   "execution_count": null,
   "metadata": {
    "colab": {
     "base_uri": "https://localhost:8080/",
     "height": 435
    },
    "id": "j2OIbvJTm62l",
    "outputId": "1f94e750-c063-4925-c356-c84e5809e4b0",
    "pycharm": {
     "name": "#%%\n"
    }
   },
   "outputs": [
    {
     "name": "stdout",
     "output_type": "stream",
     "text": [
      "Number of rows left 250\n"
     ]
    },
    {
     "data": {
      "image/png": "[encoded data removed]",
      "text/plain": [
       "<Figure size 1296x504 with 1 Axes>"
      ]
     },
     "metadata": {
      "needs_background": "light"
     },
     "output_type": "display_data"
    }
   ],
   "source": [
    "training_features_outliers_removed = training_features_outliers_marked.dropna()\n",
    "training_features_outliers_removed.boxplot(figsize=(18,7))\n",
    "plt.xticks([1], [''])\n",
    "print(\"Number of rows left\", training_features_outliers_removed.shape[0])"
   ]
  },
  {
   "cell_type": "markdown",
   "metadata": {
    "collapsed": false,
    "id": "r8fsvlJZm62l",
    "pycharm": {
     "name": "#%% md\n"
    }
   },
   "source": [
    "The boxplot now looks better, except for the second part (columns 60 to 120), which is `positions_std_i`.\n",
    "We can also see that if we remove all the rows with at least one detected outlier, we are left with less than half of the original data! This is due to the large number of features.\n",
    "\n",
    "We need another method for this dataset, let's instead cap the outliers to 3 sigma."
   ]
  },
  {
   "cell_type": "code",
   "execution_count": null,
   "metadata": {
    "id": "-artO4WUm62l",
    "pycharm": {
     "name": "#%%\n"
    }
   },
   "outputs": [],
   "source": [
    "def pipeline_outliers(df, std_cap=3):\n",
    "  df = df.copy()\n",
    "\n",
    "  for column in df.columns:\n",
    "\n",
    "    mean = df[column].mean(skipna = True)\n",
    "    std = df[column].std(skipna = True)\n",
    "    \n",
    "    df[column] = np.clip(df[column], -(mean + std_cap*std), mean + std_cap*std)\n",
    "\n",
    "  return df"
   ]
  },
  {
   "cell_type": "code",
   "execution_count": null,
   "metadata": {
    "colab": {
     "base_uri": "https://localhost:8080/",
     "height": 436
    },
    "id": "oDGrLk2Jm62l",
    "outputId": "e17f2c4d-80f8-46d8-cc5f-49c8c48a0a4c",
    "pycharm": {
     "name": "#%%\n"
    }
   },
   "outputs": [
    {
     "data": {
      "text/plain": [
       "([<matplotlib.axis.XTick at 0x7fee08834990>], [Text(0, 0, '')])"
      ]
     },
     "execution_count": 58,
     "metadata": {},
     "output_type": "execute_result"
    },
    {
     "data": {
      "image/png": "[encoded data removed]",
      "text/plain": [
       "<Figure size 1296x504 with 1 Axes>"
      ]
     },
     "metadata": {
      "needs_background": "light"
     },
     "output_type": "display_data"
    }
   ],
   "source": [
    "df = pipeline_outliers(training_features)\n",
    "df.boxplot(figsize=(18,7))\n",
    "plt.xticks([1], [''])"
   ]
  },
  {
   "cell_type": "markdown",
   "metadata": {
    "id": "QHeOA5iqm62g",
    "pycharm": {
     "name": "#%% md\n"
    }
   },
   "source": [
    "### Missing data"
   ]
  },
  {
   "cell_type": "markdown",
   "metadata": {
    "id": "T-HJFZs8m62g",
    "pycharm": {
     "name": "#%% md\n"
    }
   },
   "source": [
    "As we saw above, there are 6 columns that have missing values (3 or 4 missing values each). Many classifiers do not handle missing values directly, such as Logistic Regression and SVM, for example. As such we need to find a way to manage the missing values."
   ]
  },
  {
   "cell_type": "markdown",
   "metadata": {
    "collapsed": false,
    "id": "ENEICm2Om62g",
    "pycharm": {
     "name": "#%% md\n"
    }
   },
   "source": [
    "There are many different ways of handling missing values and we will explore a few of them here. To get started, let's examine the features/columns that contain missing data. The two visualizations chosen for each of the features/columns are:\n",
    "\n",
    "- *Histogram* - This will give a good indication of the distribution, for example if it appears to be normal.\n",
    "- *Boxplot* - We get some additional information from the boxplot showing the median, quartiles as well as outliers.\n",
    "\n",
    "Let's plot the distributions for the columns with missing data:"
   ]
  },
  {
   "cell_type": "code",
   "execution_count": null,
   "metadata": {
    "colab": {
     "base_uri": "https://localhost:8080/",
     "height": 441
    },
    "id": "3-dLLDaPm62g",
    "outputId": "4bfb4a02-a8ef-43b4-b3c2-443fe6ee8906",
    "pycharm": {
     "name": "#%%\n"
    }
   },
   "outputs": [
    {
     "data": {
      "image/png": "[encoded data removed]",
      "text/plain": [
       "<Figure size 864x432 with 12 Axes>"
      ]
     },
     "metadata": {
      "needs_background": "light"
     },
     "output_type": "display_data"
    }
   ],
   "source": [
    "def plot_distributions_for_columns(dataframe, columns):\n",
    "    # Plot distributions for each of the columns that have missing values\n",
    "    figure, axes = plt.subplots(2, len(columns), figsize=(12, 6))\n",
    "\n",
    "    for index, column in enumerate(columns):\n",
    "        # plot a histogram of the column for the first row\n",
    "        dataframe[column].plot(\n",
    "            kind='hist', ax=axes[0, index], title=column, bins=15\n",
    "        )\n",
    "        # Do a box plot as well\n",
    "        sns.boxplot(y=dataframe[column], ax=axes[1, index]).set_title(column)\n",
    "\n",
    "    plt.tight_layout()\n",
    "\n",
    "\n",
    "plot_distributions_for_columns(training_features, columns_with_nulls.index)"
   ]
  },
  {
   "cell_type": "markdown",
   "metadata": {
    "id": "TBDoZnucm62h",
    "pycharm": {
     "name": "#%% md\n"
    }
   },
   "source": [
    "The distributions are quite different, which mean we may need different imputation techniques for each column.\n",
    "For example, the columns `positions_mean_9` and `positions_mean_15` are clearly not normal distributions and replacing missing values with the mean would likely not be ideal.\n",
    "For instance in the case of `positions_mean_9` the mean is close to 0 where few other samples are, moreover this feature may even need to be split into two separate features as it appears to be the combination of two gaussian distributions.\n",
    "\n",
    "Also, we do not know if the missing values themselves have a significance, i.e. we might want to create a separate column to indicate that a missing value is present or not. There are relatively few rows that have missing values, though, that may limit the usefulness of this technique and usefulness will also depend on the classifier used in the end.\n",
    "\n",
    "For now, we will implement support for the following imputation strategies:\n",
    "- Replacing with **mean**\n",
    "- **Drop the rows** containing at least one missing value\n",
    "- **K-Nearest Neighbour (KNN)** imputation, i.e. use the mean value of the K nearest neighbours"
   ]
  },
  {
   "cell_type": "code",
   "execution_count": null,
   "metadata": {
    "id": "AjTqPq0Qm62h",
    "pycharm": {
     "name": "#%%\n"
    }
   },
   "outputs": [],
   "source": [
    "from sklearn.impute import KNNImputer, SimpleImputer\n",
    "\n",
    "def impute(dataframe, imputer_class, **kwargs):\n",
    "    imputer = imputer_class(**kwargs)\n",
    "    dataframe = dataframe.copy()\n",
    "    dataframe[dataframe.columns] = imputer.fit_transform(dataframe.values)\n",
    "    return dataframe\n",
    "\n",
    "# KNN imputation\n",
    "def impute_knn(dataframe):\n",
    "    return impute(dataframe, KNNImputer, n_neighbors=2, weights='uniform')\n",
    "\n",
    "# Drop rows\n",
    "def impute_drop_rows(dataframe):\n",
    "    return dataframe.dropna()\n",
    "\n",
    "# Mean imputation\n",
    "def impute_mean(dataframe):\n",
    "    return impute(\n",
    "        dataframe, SimpleImputer, missing_values=np.nan, strategy='mean'\n",
    "    )\n"
   ]
  },
  {
   "cell_type": "markdown",
   "metadata": {
    "collapsed": false,
    "id": "o09ETbgLm62h",
    "pycharm": {
     "name": "#%% md\n"
    }
   },
   "source": [
    "Let's compare the mean and KNN imputation methods."
   ]
  },
  {
   "cell_type": "code",
   "execution_count": null,
   "metadata": {
    "id": "C8MiBZ8Jm62h",
    "pycharm": {
     "name": "#%%\n"
    }
   },
   "outputs": [],
   "source": [
    "columns_null_sum = training_features.isnull().sum()\n",
    "columns_with_nulls = columns_null_sum[columns_null_sum > 0]"
   ]
  },
  {
   "cell_type": "code",
   "execution_count": null,
   "metadata": {
    "id": "PUSYg7HNm62h",
    "pycharm": {
     "name": "#%%\n"
    }
   },
   "outputs": [],
   "source": [
    "#training_features = training_data[training_feature_columns]\n",
    "all_na_values = training_features.isna()"
   ]
  },
  {
   "cell_type": "markdown",
   "metadata": {
    "collapsed": false,
    "id": "FTGyuLvum62h",
    "pycharm": {
     "name": "#%% md\n"
    }
   },
   "source": [
    "First let's execute both imputations individually.\n",
    "Starting with the mean imputation, the imputed values are the following:"
   ]
  },
  {
   "cell_type": "code",
   "execution_count": null,
   "metadata": {
    "colab": {
     "base_uri": "https://localhost:8080/"
    },
    "id": "v14LUk-Km62i",
    "outputId": "2a69477c-695b-4bdc-d679-30fbaa22caa3",
    "pycharm": {
     "name": "#%%\n"
    }
   },
   "outputs": [
    {
     "data": {
      "text/plain": [
       "array([ 0.33458168,  2.31761983, -0.03841946,  0.33458168,  2.31761983,\n",
       "       -0.03841946,  0.33458168,  2.31761983, -0.03841946,  0.33458168,\n",
       "        2.31761983, -0.03841946,  2.25511306,  0.08066904,  0.24483198,\n",
       "        2.25511306,  0.08066904,  0.24483198,  2.25511306,  0.08066904,\n",
       "        0.24483198])"
      ]
     },
     "execution_count": 63,
     "metadata": {},
     "output_type": "execute_result"
    }
   ],
   "source": [
    "training_data_mean_imputed = impute_mean(training_features)\n",
    "training_data_mean_imputed.values[all_na_values]"
   ]
  },
  {
   "cell_type": "markdown",
   "metadata": {
    "collapsed": false,
    "id": "lGKhqpOsm62i",
    "pycharm": {
     "name": "#%% md\n"
    }
   },
   "source": [
    "While the KNN-imputed values look like this:"
   ]
  },
  {
   "cell_type": "code",
   "execution_count": null,
   "metadata": {
    "colab": {
     "base_uri": "https://localhost:8080/"
    },
    "id": "FscTkmDLm62i",
    "outputId": "d049d58e-2121-4889-dd75-6b3477d06f6f",
    "pycharm": {
     "name": "#%%\n"
    }
   },
   "outputs": [
    {
     "data": {
      "text/plain": [
       "array([ 0.34047311,  2.31943747,  0.28644774,  0.3482031 ,  2.39881444,\n",
       "       -0.1273677 ,  0.35056898,  2.50631498,  0.39795417,  0.36853525,\n",
       "        2.44980983, -0.2093955 ,  2.30348019,  0.1777522 ,  0.21750797,\n",
       "        2.05630751,  0.31015251,  0.20072834,  2.31141073,  0.18122421,\n",
       "        0.22825797])"
      ]
     },
     "execution_count": 64,
     "metadata": {},
     "output_type": "execute_result"
    }
   ],
   "source": [
    "training_data_knn_imputed = impute_knn(training_features)\n",
    "training_data_knn_imputed.values[all_na_values]"
   ]
  },
  {
   "cell_type": "markdown",
   "metadata": {
    "collapsed": false,
    "id": "EtCVnW3um62i",
    "pycharm": {
     "name": "#%% md\n"
    }
   },
   "source": [
    "### Comparison of mean and KNN\n",
    "Now it is time to compare the results and visualize the differences on a histogram"
   ]
  },
  {
   "cell_type": "code",
   "execution_count": null,
   "metadata": {
    "colab": {
     "base_uri": "https://localhost:8080/",
     "height": 265
    },
    "id": "Ne7NYuHXm62i",
    "outputId": "948ed5da-41e2-47f3-ddc2-55d1a5034dc1",
    "pycharm": {
     "name": "#%%\n"
    }
   },
   "outputs": [
    {
     "data": {
      "image/png": "[encoded data removed]",
      "text/plain": [
       "<Figure size 432x288 with 1 Axes>"
      ]
     },
     "metadata": {
      "needs_background": "light"
     },
     "output_type": "display_data"
    }
   ],
   "source": [
    "differences = (\n",
    "    training_data_mean_imputed.values[all_na_values]\n",
    "    - training_data_knn_imputed.values[all_na_values]\n",
    ")\n",
    "plt.hist(differences);"
   ]
  },
  {
   "cell_type": "markdown",
   "metadata": {
    "collapsed": false,
    "id": "rQTrrd-qm62i",
    "pycharm": {
     "name": "#%% md\n"
    }
   },
   "source": [
    "We can conclude that the differences between the methods are not significant, the mode is close to zero, for most of the missing values the two methods give very similar imputed values - more than half of the values are in the range [-0.1,0.1]\n",
    "\n",
    "Now let's look at how the difference is distributed for each column using a boxplot and a swarm plot.\n"
   ]
  },
  {
   "cell_type": "code",
   "execution_count": null,
   "metadata": {
    "colab": {
     "base_uri": "https://localhost:8080/",
     "height": 297
    },
    "id": "WGeg5UJDm62j",
    "outputId": "2913062b-337f-43c9-d65a-37a0d6a1534f",
    "pycharm": {
     "name": "#%%\n"
    }
   },
   "outputs": [
    {
     "data": {
      "image/png": "[encoded data removed]",
      "text/plain": [
       "<Figure size 432x288 with 2 Axes>"
      ]
     },
     "metadata": {
      "needs_background": "light"
     },
     "output_type": "display_data"
    }
   ],
   "source": [
    "na_rows, na_columns = np.where(all_na_values)\n",
    "dataframe_differences_columns = pd.DataFrame(\n",
    "    {'diff': differences, 'column': training_features.columns[na_columns]}\n",
    ")\n",
    "\n",
    "fig, axs = plt.subplots(ncols=2)\n",
    "\n",
    "axis = sns.boxplot(\n",
    "    x='column', data=dataframe_differences_columns, y='diff', ax=axs[0]\n",
    ")\n",
    "axis.set_xticklabels(axis.get_xticklabels(), rotation=90);\n",
    "\n",
    "axis = sns.swarmplot(\n",
    "    x='column', data=dataframe_differences_columns, y='diff', ax=axs[1]\n",
    ")\n",
    "axis.set_xticklabels(axis.get_xticklabels(), rotation=90);\n",
    "\n",
    "fig.tight_layout()"
   ]
  },
  {
   "cell_type": "markdown",
   "metadata": {
    "id": "BeH5QKZUm62j",
    "pycharm": {
     "name": "#%% md\n"
    }
   },
   "source": [
    "When comparing the imputed values between the 'mean' and 'KNN' approaches, we see that they produce very similar values for columns `positions_mean_7` and `positions_mean_16` but larger differences by varying degrees for the other columns. The largest (absolute) deviance is for `positions_mean_9`.\n",
    "\n",
    "\n",
    "Based on this it is likely that we may need to employ different imputation techniques depending on the column/feature."
   ]
  },
  {
   "cell_type": "markdown",
   "metadata": {
    "collapsed": false,
    "id": "7EvO3QTJm62j",
    "pycharm": {
     "name": "#%% md\n"
    }
   },
   "source": [
    "For now, however, let's use KNN imputation and make sure that after the imputation there are no more missing values in our dataset. We will bring these three different methods into Task 2 of the project.\n"
   ]
  },
  {
   "cell_type": "code",
   "execution_count": null,
   "metadata": {
    "id": "cJCnEdNqok3O",
    "pycharm": {
     "name": "#%%\n"
    }
   },
   "outputs": [],
   "source": [
    "# Let's create a pipeline function that uses the KNN imputation\n",
    "def pipeline_missing_values(df, method = \"knn\"):\n",
    "  df = df.copy()\n",
    "  \n",
    "  columns_null_sum = df.isnull().sum()\n",
    "  columns_with_nulls = columns_null_sum[columns_null_sum > 0]\n",
    "\n",
    "  if method == \"knn\":\n",
    "    df[columns_with_nulls.index] = impute_knn(df[columns_with_nulls.index])\n",
    "  elif method == \"mean\":\n",
    "    df[columns_with_nulls.index] = impute_mean(df[columns_with_nulls.index])\n",
    "  else:\n",
    "    raise f\"Unknown method {method}\"\n",
    "\n",
    "  assert df.isnull().sum().sum() == 0\n",
    "\n",
    "  return df"
   ]
  },
  {
   "cell_type": "markdown",
   "metadata": {
    "collapsed": false,
    "id": "UIZibV1-m62j",
    "pycharm": {
     "name": "#%% md\n"
    }
   },
   "source": [
    "### Scaling\n",
    "First we will take a look at how the data looks by feature/column. While the dataset contains a lot of features, we can use a boxplot to get an overview understanding of how the different columns compare."
   ]
  },
  {
   "cell_type": "markdown",
   "metadata": {
    "collapsed": false,
    "id": "1UU_s9ajm62j",
    "pycharm": {
     "name": "#%% md\n"
    }
   },
   "source": [
    "Let's make a boxplot for every feature to get an overview of how they all relate in terms of range & centre. No need to have labels for the feature names, we just want to show all of them in one plot."
   ]
  },
  {
   "cell_type": "code",
   "execution_count": null,
   "metadata": {
    "colab": {
     "base_uri": "https://localhost:8080/",
     "height": 435
    },
    "id": "zZ8mc_GWm62k",
    "outputId": "48fe2e46-b7bc-4db0-db2e-cbbfa8989441",
    "pycharm": {
     "name": "#%%\n"
    }
   },
   "outputs": [
    {
     "data": {
      "text/plain": [
       "([<matplotlib.axis.XTick at 0x7fee069e5290>], [Text(0, 0, '')])"
      ]
     },
     "execution_count": 68,
     "metadata": {},
     "output_type": "execute_result"
    },
    {
     "data": {
      "image/png": "[encoded data removed]",
      "text/plain": [
       "<Figure size 1296x504 with 1 Axes>"
      ]
     },
     "metadata": {
      "needs_background": "light"
     },
     "output_type": "display_data"
    }
   ],
   "source": [
    "training_features.boxplot(figsize=(18, 7))\n",
    "plt.xticks([1], [''])"
   ]
  },
  {
   "cell_type": "markdown",
   "metadata": {
    "id": "IabX4HxSm62k",
    "pycharm": {
     "name": "#%% md\n"
    }
   },
   "source": [
    "The columns are clearly not all scaled to the same range and they have different means. As such a scaler that centers the mean and normalizes (scale to the variance) may be suitable. Let's use scikit's `StandardScaler` for this.\n",
    "\n",
    "The `StandardScaler`normalizes the data so that the mean becomes zero, and the variance one, i.e. the scaled dataset follows a *standard* normal distribution."
   ]
  },
  {
   "cell_type": "code",
   "execution_count": null,
   "metadata": {
    "colab": {
     "base_uri": "https://localhost:8080/",
     "height": 236
    },
    "id": "aeXO-9R9m62k",
    "outputId": "1c1974ff-cf0d-4c44-f5e8-9d45ec60d702",
    "pycharm": {
     "name": "#%%\n"
    }
   },
   "outputs": [
    {
     "data": {
      "text/html": [
       "\n",
       "  <div id=\"df-bd1aa41d-55a4-4329-9a5b-3b38334cb2af\">\n",
       "    <div class=\"colab-df-container\">\n",
       "      <div>\n",
       "<style scoped>\n",
       "    .dataframe tbody tr th:only-of-type {\n",
       "        vertical-align: middle;\n",
       "    }\n",
       "\n",
       "    .dataframe tbody tr th {\n",
       "        vertical-align: top;\n",
       "    }\n",
       "\n",
       "    .dataframe thead th {\n",
       "        text-align: right;\n",
       "    }\n",
       "</style>\n",
       "<table border=\"1\" class=\"dataframe\">\n",
       "  <thead>\n",
       "    <tr style=\"text-align: right;\">\n",
       "      <th></th>\n",
       "      <th>0</th>\n",
       "      <th>1</th>\n",
       "      <th>2</th>\n",
       "      <th>3</th>\n",
       "      <th>4</th>\n",
       "      <th>5</th>\n",
       "      <th>6</th>\n",
       "      <th>7</th>\n",
       "      <th>8</th>\n",
       "      <th>9</th>\n",
       "      <th>...</th>\n",
       "      <th>230</th>\n",
       "      <th>231</th>\n",
       "      <th>232</th>\n",
       "      <th>233</th>\n",
       "      <th>234</th>\n",
       "      <th>235</th>\n",
       "      <th>236</th>\n",
       "      <th>237</th>\n",
       "      <th>238</th>\n",
       "      <th>239</th>\n",
       "    </tr>\n",
       "  </thead>\n",
       "  <tbody>\n",
       "    <tr>\n",
       "      <th>0</th>\n",
       "      <td>-1.323633</td>\n",
       "      <td>1.421746</td>\n",
       "      <td>0.733025</td>\n",
       "      <td>-1.232600</td>\n",
       "      <td>1.399904</td>\n",
       "      <td>0.822277</td>\n",
       "      <td>-1.422333</td>\n",
       "      <td>1.259873</td>\n",
       "      <td>0.852019</td>\n",
       "      <td>-1.153361</td>\n",
       "      <td>...</td>\n",
       "      <td>-0.970529</td>\n",
       "      <td>0.275952</td>\n",
       "      <td>1.047194</td>\n",
       "      <td>-1.135466</td>\n",
       "      <td>0.769486</td>\n",
       "      <td>0.395003</td>\n",
       "      <td>-0.513685</td>\n",
       "      <td>0.020178</td>\n",
       "      <td>2.181665</td>\n",
       "      <td>-1.544711</td>\n",
       "    </tr>\n",
       "    <tr>\n",
       "      <th>1</th>\n",
       "      <td>1.003039</td>\n",
       "      <td>0.078953</td>\n",
       "      <td>0.794440</td>\n",
       "      <td>1.093898</td>\n",
       "      <td>-0.102009</td>\n",
       "      <td>0.757567</td>\n",
       "      <td>0.931582</td>\n",
       "      <td>0.171022</td>\n",
       "      <td>1.105739</td>\n",
       "      <td>0.933965</td>\n",
       "      <td>...</td>\n",
       "      <td>0.047047</td>\n",
       "      <td>-0.367940</td>\n",
       "      <td>-1.823802</td>\n",
       "      <td>1.842487</td>\n",
       "      <td>-0.235120</td>\n",
       "      <td>-1.990480</td>\n",
       "      <td>1.426960</td>\n",
       "      <td>-0.876203</td>\n",
       "      <td>-2.053768</td>\n",
       "      <td>1.825020</td>\n",
       "    </tr>\n",
       "    <tr>\n",
       "      <th>2</th>\n",
       "      <td>0.764166</td>\n",
       "      <td>-0.293088</td>\n",
       "      <td>-0.930321</td>\n",
       "      <td>0.915639</td>\n",
       "      <td>-0.371414</td>\n",
       "      <td>-0.985672</td>\n",
       "      <td>0.729450</td>\n",
       "      <td>0.030405</td>\n",
       "      <td>-0.094153</td>\n",
       "      <td>0.850991</td>\n",
       "      <td>...</td>\n",
       "      <td>1.837917</td>\n",
       "      <td>0.579975</td>\n",
       "      <td>-0.791318</td>\n",
       "      <td>0.629031</td>\n",
       "      <td>1.002887</td>\n",
       "      <td>0.942327</td>\n",
       "      <td>-1.474741</td>\n",
       "      <td>0.680542</td>\n",
       "      <td>0.412169</td>\n",
       "      <td>-0.811236</td>\n",
       "    </tr>\n",
       "    <tr>\n",
       "      <th>3</th>\n",
       "      <td>0.647555</td>\n",
       "      <td>0.376563</td>\n",
       "      <td>1.137173</td>\n",
       "      <td>0.735317</td>\n",
       "      <td>0.386874</td>\n",
       "      <td>0.780659</td>\n",
       "      <td>0.509463</td>\n",
       "      <td>0.331900</td>\n",
       "      <td>1.450155</td>\n",
       "      <td>0.662231</td>\n",
       "      <td>...</td>\n",
       "      <td>0.045200</td>\n",
       "      <td>0.254384</td>\n",
       "      <td>0.884029</td>\n",
       "      <td>-0.850038</td>\n",
       "      <td>-0.147232</td>\n",
       "      <td>-0.450141</td>\n",
       "      <td>0.702284</td>\n",
       "      <td>0.228297</td>\n",
       "      <td>1.694685</td>\n",
       "      <td>-1.276755</td>\n",
       "    </tr>\n",
       "    <tr>\n",
       "      <th>4</th>\n",
       "      <td>1.063069</td>\n",
       "      <td>-0.051572</td>\n",
       "      <td>0.467238</td>\n",
       "      <td>1.133087</td>\n",
       "      <td>-0.178730</td>\n",
       "      <td>0.337967</td>\n",
       "      <td>0.992393</td>\n",
       "      <td>0.077691</td>\n",
       "      <td>0.387438</td>\n",
       "      <td>1.132799</td>\n",
       "      <td>...</td>\n",
       "      <td>0.783348</td>\n",
       "      <td>-1.331643</td>\n",
       "      <td>0.485131</td>\n",
       "      <td>0.432586</td>\n",
       "      <td>-0.583229</td>\n",
       "      <td>-0.954479</td>\n",
       "      <td>1.125046</td>\n",
       "      <td>-0.296817</td>\n",
       "      <td>1.861857</td>\n",
       "      <td>-1.176475</td>\n",
       "    </tr>\n",
       "  </tbody>\n",
       "</table>\n",
       "<p>5 rows × 240 columns</p>\n",
       "</div>\n",
       "      <button class=\"colab-df-convert\" onclick=\"convertToInteractive('df-bd1aa41d-55a4-4329-9a5b-3b38334cb2af')\"\n",
       "              title=\"Convert this dataframe to an interactive table.\"\n",
       "              style=\"display:none;\">\n",
       "        \n",
       "  <svg xmlns=\"http://www.w3.org/2000/svg\" height=\"24px\"viewBox=\"0 0 24 24\"\n",
       "       width=\"24px\">\n",
       "    <path d=\"M0 0h24v24H0V0z\" fill=\"none\"/>\n",
       "    <path d=\"M18.56 5.44l.94 2.06.94-2.06 2.06-.94-2.06-.94-.94-2.06-.94 2.06-2.06.94zm-11 1L8.5 8.5l.94-2.06 2.06-.94-2.06-.94L8.5 2.5l-.94 2.06-2.06.94zm10 10l.94 2.06.94-2.06 2.06-.94-2.06-.94-.94-2.06-.94 2.06-2.06.94z\"/><path d=\"M17.41 7.96l-1.37-1.37c-.4-.4-.92-.59-1.43-.59-.52 0-1.04.2-1.43.59L10.3 9.45l-7.72 7.72c-.78.78-.78 2.05 0 2.83L4 21.41c.39.39.9.59 1.41.59.51 0 1.02-.2 1.41-.59l7.78-7.78 2.81-2.81c.8-.78.8-2.07 0-2.86zM5.41 20L4 18.59l7.72-7.72 1.47 1.35L5.41 20z\"/>\n",
       "  </svg>\n",
       "      </button>\n",
       "      \n",
       "  <style>\n",
       "    .colab-df-container {\n",
       "      display:flex;\n",
       "      flex-wrap:wrap;\n",
       "      gap: 12px;\n",
       "    }\n",
       "\n",
       "    .colab-df-convert {\n",
       "      background-color: #E8F0FE;\n",
       "      border: none;\n",
       "      border-radius: 50%;\n",
       "      cursor: pointer;\n",
       "      display: none;\n",
       "      fill: #1967D2;\n",
       "      height: 32px;\n",
       "      padding: 0 0 0 0;\n",
       "      width: 32px;\n",
       "    }\n",
       "\n",
       "    .colab-df-convert:hover {\n",
       "      background-color: #E2EBFA;\n",
       "      box-shadow: 0px 1px 2px rgba(60, 64, 67, 0.3), 0px 1px 3px 1px rgba(60, 64, 67, 0.15);\n",
       "      fill: #174EA6;\n",
       "    }\n",
       "\n",
       "    [theme=dark] .colab-df-convert {\n",
       "      background-color: #3B4455;\n",
       "      fill: #D2E3FC;\n",
       "    }\n",
       "\n",
       "    [theme=dark] .colab-df-convert:hover {\n",
       "      background-color: #434B5C;\n",
       "      box-shadow: 0px 1px 3px 1px rgba(0, 0, 0, 0.15);\n",
       "      filter: drop-shadow(0px 1px 2px rgba(0, 0, 0, 0.3));\n",
       "      fill: #FFFFFF;\n",
       "    }\n",
       "  </style>\n",
       "\n",
       "      <script>\n",
       "        const buttonEl =\n",
       "          document.querySelector('#df-bd1aa41d-55a4-4329-9a5b-3b38334cb2af button.colab-df-convert');\n",
       "        buttonEl.style.display =\n",
       "          google.colab.kernel.accessAllowed ? 'block' : 'none';\n",
       "\n",
       "        async function convertToInteractive(key) {\n",
       "          const element = document.querySelector('#df-bd1aa41d-55a4-4329-9a5b-3b38334cb2af');\n",
       "          const dataTable =\n",
       "            await google.colab.kernel.invokeFunction('convertToInteractive',\n",
       "                                                     [key], {});\n",
       "          if (!dataTable) return;\n",
       "\n",
       "          const docLinkHtml = 'Like what you see? Visit the ' +\n",
       "            '<a target=\"_blank\" href=https://colab.research.google.com/notebooks/data_table.ipynb>data table notebook</a>'\n",
       "            + ' to learn more about interactive tables.';\n",
       "          element.innerHTML = '';\n",
       "          dataTable['output_type'] = 'display_data';\n",
       "          await google.colab.output.renderOutput(dataTable, element);\n",
       "          const docLink = document.createElement('div');\n",
       "          docLink.innerHTML = docLinkHtml;\n",
       "          element.appendChild(docLink);\n",
       "        }\n",
       "      </script>\n",
       "    </div>\n",
       "  </div>\n",
       "  "
      ],
      "text/plain": [
       "        0         1         2         3         4         5         6    \\\n",
       "0 -1.323633  1.421746  0.733025 -1.232600  1.399904  0.822277 -1.422333   \n",
       "1  1.003039  0.078953  0.794440  1.093898 -0.102009  0.757567  0.931582   \n",
       "2  0.764166 -0.293088 -0.930321  0.915639 -0.371414 -0.985672  0.729450   \n",
       "3  0.647555  0.376563  1.137173  0.735317  0.386874  0.780659  0.509463   \n",
       "4  1.063069 -0.051572  0.467238  1.133087 -0.178730  0.337967  0.992393   \n",
       "\n",
       "        7         8         9    ...       230       231       232       233  \\\n",
       "0  1.259873  0.852019 -1.153361  ... -0.970529  0.275952  1.047194 -1.135466   \n",
       "1  0.171022  1.105739  0.933965  ...  0.047047 -0.367940 -1.823802  1.842487   \n",
       "2  0.030405 -0.094153  0.850991  ...  1.837917  0.579975 -0.791318  0.629031   \n",
       "3  0.331900  1.450155  0.662231  ...  0.045200  0.254384  0.884029 -0.850038   \n",
       "4  0.077691  0.387438  1.132799  ...  0.783348 -1.331643  0.485131  0.432586   \n",
       "\n",
       "        234       235       236       237       238       239  \n",
       "0  0.769486  0.395003 -0.513685  0.020178  2.181665 -1.544711  \n",
       "1 -0.235120 -1.990480  1.426960 -0.876203 -2.053768  1.825020  \n",
       "2  1.002887  0.942327 -1.474741  0.680542  0.412169 -0.811236  \n",
       "3 -0.147232 -0.450141  0.702284  0.228297  1.694685 -1.276755  \n",
       "4 -0.583229 -0.954479  1.125046 -0.296817  1.861857 -1.176475  \n",
       "\n",
       "[5 rows x 240 columns]"
      ]
     },
     "execution_count": 69,
     "metadata": {},
     "output_type": "execute_result"
    }
   ],
   "source": [
    "def pipeline_scale(dataframe):\n",
    "    scaler = preprocessing.StandardScaler()\n",
    "    scaled_values = scaler.fit_transform(dataframe.values)\n",
    "    return pd.DataFrame(scaled_values)\n",
    "\n",
    "\n",
    "training_features_scaled = pipeline_scale(training_features)\n",
    "training_features_scaled.head()"
   ]
  },
  {
   "cell_type": "markdown",
   "metadata": {
    "collapsed": false,
    "id": "z3ewuEEFm62k",
    "pycharm": {
     "name": "#%% md\n"
    }
   },
   "source": [
    "Looks good, i.e. the mean is about 0 and the standard deviation is around 1. All the columns have now been scaled. Let's rerun the boxplot."
   ]
  },
  {
   "cell_type": "code",
   "execution_count": null,
   "metadata": {
    "colab": {
     "base_uri": "https://localhost:8080/",
     "height": 432
    },
    "id": "W1uf0D3QsqPH",
    "outputId": "3e37475c-a847-40b2-853e-0703236c7b25",
    "pycharm": {
     "name": "#%%\n"
    }
   },
   "outputs": [
    {
     "data": {
      "text/plain": [
       "([<matplotlib.axis.XTick at 0x7fee06e0a610>], [Text(0, 0, '')])"
      ]
     },
     "execution_count": 70,
     "metadata": {},
     "output_type": "execute_result"
    },
    {
     "data": {
      "image/png": "[encoded data removed]",
      "text/plain": [
       "<Figure size 1296x504 with 1 Axes>"
      ]
     },
     "metadata": {
      "needs_background": "light"
     },
     "output_type": "display_data"
    }
   ],
   "source": [
    "training_features_scaled.boxplot(figsize=(18, 7))\n",
    "plt.xticks([1], [''])"
   ]
  },
  {
   "cell_type": "markdown",
   "metadata": {
    "id": "Unie-y19uJpv",
    "pycharm": {
     "name": "#%% md\n"
    }
   },
   "source": [
    "## Pipeline"
   ]
  },
  {
   "cell_type": "markdown",
   "metadata": {
    "id": "wTBLe3qVvs2f",
    "pycharm": {
     "name": "#%% md\n"
    }
   },
   "source": [
    "In the Methods section above we have defined the pipeline methods needed for handling outliers, missing data and scaling. Let's put them all together."
   ]
  },
  {
   "cell_type": "code",
   "execution_count": null,
   "metadata": {
    "colab": {
     "base_uri": "https://localhost:8080/",
     "height": 435
    },
    "id": "1kLsdpktv7pS",
    "outputId": "cd5c6199-608b-4c5e-87a2-d093207df08d",
    "pycharm": {
     "name": "#%%\n"
    }
   },
   "outputs": [
    {
     "data": {
      "text/plain": [
       "([<matplotlib.axis.XTick at 0x7fee056e8290>], [Text(0, 0, '')])"
      ]
     },
     "execution_count": 71,
     "metadata": {},
     "output_type": "execute_result"
    },
    {
     "data": {
      "image/png": "[encoded data removed]",
      "text/plain": [
       "<Figure size 1296x504 with 1 Axes>"
      ]
     },
     "metadata": {
      "needs_background": "light"
     },
     "output_type": "display_data"
    }
   ],
   "source": [
    "# Load the data\n",
    "training_features, training_labels, training_codes, test_features, test_labels = load_data()\n",
    "\n",
    "# Plot before pipeline\n",
    "training_features.boxplot(figsize=(18, 7))\n",
    "plt.xticks([1], [''])"
   ]
  },
  {
   "cell_type": "code",
   "execution_count": null,
   "metadata": {
    "colab": {
     "base_uri": "https://localhost:8080/",
     "height": 436
    },
    "id": "ur_pyuFHJ5ZA",
    "outputId": "63a84896-33f2-4316-f549-6066942c24dd",
    "pycharm": {
     "name": "#%%\n"
    }
   },
   "outputs": [
    {
     "data": {
      "text/plain": [
       "([<matplotlib.axis.XTick at 0x7fee03f23c10>], [Text(0, 0, '')])"
      ]
     },
     "execution_count": 72,
     "metadata": {},
     "output_type": "execute_result"
    },
    {
     "data": {
      "image/png": "[encoded data removed]",
      "text/plain": [
       "<Figure size 1296x504 with 1 Axes>"
      ]
     },
     "metadata": {
      "needs_background": "light"
     },
     "output_type": "display_data"
    }
   ],
   "source": [
    "test_features.boxplot(figsize=(18, 7))\n",
    "plt.xticks([1], [''])"
   ]
  },
  {
   "cell_type": "markdown",
   "metadata": {
    "id": "NqTkoxZQv7EW",
    "pycharm": {
     "name": "#%% md\n"
    }
   },
   "source": [
    "Run the pipeline and rerun the boxplot on the resulting dataset"
   ]
  },
  {
   "cell_type": "code",
   "execution_count": null,
   "metadata": {
    "colab": {
     "base_uri": "https://localhost:8080/",
     "height": 432
    },
    "id": "8TDqvcNTzgQ4",
    "outputId": "92498ebf-c59c-494b-d45d-76a5b69c2d34",
    "pycharm": {
     "name": "#%%\n"
    }
   },
   "outputs": [
    {
     "data": {
      "text/plain": [
       "([<matplotlib.axis.XTick at 0x7fee0275d890>], [Text(0, 0, '')])"
      ]
     },
     "execution_count": 73,
     "metadata": {},
     "output_type": "execute_result"
    },
    {
     "data": {
      "image/png": "[encoded data removed]",
      "text/plain": [
       "<Figure size 1296x504 with 1 Axes>"
      ]
     },
     "metadata": {
      "needs_background": "light"
     },
     "output_type": "display_data"
    }
   ],
   "source": [
    "def run_data_pipeline(features, std_cap = 3, impute_method = \"knn\"):\n",
    "  df = pipeline_outliers(features, std_cap=std_cap)\n",
    "  df = pipeline_missing_values(df, method = impute_method)\n",
    "  df = pipeline_scale(df)\n",
    "\n",
    "  return df\n",
    "\n",
    "train_df = run_data_pipeline(training_features)\n",
    "train_df.boxplot(figsize=(18, 7))\n",
    "plt.xticks([1], [''])"
   ]
  },
  {
   "cell_type": "code",
   "execution_count": null,
   "metadata": {
    "colab": {
     "base_uri": "https://localhost:8080/",
     "height": 432
    },
    "id": "ZaGMyZWgKufn",
    "outputId": "56506dee-769b-4928-e543-abef143b2b75",
    "pycharm": {
     "name": "#%%\n"
    }
   },
   "outputs": [
    {
     "data": {
      "text/plain": [
       "([<matplotlib.axis.XTick at 0x7fee00e50fd0>], [Text(0, 0, '')])"
      ]
     },
     "execution_count": 74,
     "metadata": {},
     "output_type": "execute_result"
    },
    {
     "data": {
      "image/png": "[encoded data removed]",
      "text/plain": [
       "<Figure size 1296x504 with 1 Axes>"
      ]
     },
     "metadata": {
      "needs_background": "light"
     },
     "output_type": "display_data"
    }
   ],
   "source": [
    "test_df = run_data_pipeline(test_features)\n",
    "\n",
    "test_df.boxplot(figsize=(18, 7))\n",
    "plt.xticks([1], [''])"
   ]
  },
  {
   "cell_type": "markdown",
   "metadata": {
    "id": "-reuHaPjRu-4",
    "pycharm": {
     "name": "#%% md\n"
    }
   },
   "source": [
    "#Task 2"
   ]
  },
  {
   "cell_type": "markdown",
   "metadata": {
    "id": "Iew8uiL1L0wx",
    "pycharm": {
     "name": "#%% md\n"
    }
   },
   "source": [
    "## Model selection\n",
    "All avaliable classifiers from sklearn are imported along with classifications metrics for evaluation."
   ]
  },
  {
   "cell_type": "code",
   "execution_count": null,
   "metadata": {
    "id": "fJ_WBMvngTVT",
    "pycharm": {
     "name": "#%%\n"
    }
   },
   "outputs": [],
   "source": [
    "# suppress warnings\n",
    "import warnings\n",
    "warnings.filterwarnings(\"ignore\")\n",
    "\n",
    "# import every avaliable classifier in sklearn\n",
    "from sklearn.linear_model import LogisticRegression\n",
    "from sklearn.tree import DecisionTreeClassifier\n",
    "from sklearn.ensemble import RandomForestClassifier\n",
    "from sklearn.svm import SVC\n",
    "from sklearn.neighbors import KNeighborsClassifier\n",
    "from sklearn.naive_bayes import GaussianNB\n",
    "from sklearn.ensemble import GradientBoostingClassifier\n",
    "from sklearn.ensemble import AdaBoostClassifier\n",
    "from sklearn.ensemble import BaggingClassifier\n",
    "from sklearn.ensemble import ExtraTreesClassifier\n",
    "from sklearn.neural_network import MLPClassifier\n",
    "from sklearn.dummy import DummyClassifier\n",
    "\n",
    "# import classifications metrics\n",
    "from sklearn.metrics import accuracy_score\n",
    "from sklearn.metrics import f1_score\n",
    "from sklearn.metrics import precision_score\n",
    "from sklearn.metrics import recall_score\n",
    "from sklearn.metrics import roc_auc_score"
   ]
  },
  {
   "cell_type": "markdown",
   "metadata": {
    "id": "u_f2WeK1glEx",
    "pycharm": {
     "name": "#%% md\n"
    }
   },
   "source": []
  },
  {
   "cell_type": "markdown",
   "metadata": {
    "id": "uWYeRvSngHzp",
    "pycharm": {
     "name": "#%% md\n"
    }
   },
   "source": [
    "###Training and evaluation on the training data set"
   ]
  },
  {
   "cell_type": "markdown",
   "metadata": {
    "id": "bhMjB2hF2A7a",
    "pycharm": {
     "name": "#%% md\n"
    }
   },
   "source": [
    "We start by creating a function that trains and evaluates a model for each of the selected classifiers with default hyperparameters on a test/train split of the training data."
   ]
  },
  {
   "cell_type": "code",
   "execution_count": null,
   "metadata": {
    "id": "cjVriXEiLcSL",
    "pycharm": {
     "name": "#%%\n"
    }
   },
   "outputs": [],
   "source": [
    "def evaluate_all_classifiers(X_train, X_test, y_train, y_test):\n",
    "    classifiers = [\n",
    "        LogisticRegression(),\n",
    "        DecisionTreeClassifier(),\n",
    "        RandomForestClassifier(),\n",
    "        SVC(),\n",
    "        KNeighborsClassifier(),\n",
    "        GaussianNB(),\n",
    "        GradientBoostingClassifier(),\n",
    "        AdaBoostClassifier(),\n",
    "        BaggingClassifier(),\n",
    "        ExtraTreesClassifier(),\n",
    "        MLPClassifier(),\n",
    "        # use dummy classifier to get a baseline\n",
    "        DummyClassifier(strategy=\"most_frequent\")\n",
    "    ]\n",
    "\n",
    "    # initialize a dataframe to store the results\n",
    "    df_results_all = pd.DataFrame(columns=[\"classifier\", \"train_accuracy\", \"test_accuracy\", \"train_f1\", \"test_f1\", \"train_precision\", \"test_precision\", \"train_recall\", \"test_recall\"])\n",
    "\n",
    "    for clf in classifiers:\n",
    "        clf.fit(X_train, y_train)\n",
    "        y_test_pred = clf.predict(X_test)\n",
    "        y_train_pred = clf.predict(X_train)\n",
    "        print(\"Training\")\n",
    "        print(f\"Classifier: {clf.__class__.__name__}\")\n",
    "\n",
    "        # save the evaluation results in a dataframe\n",
    "        df_results = pd.DataFrame({\"classifier\": [clf.__class__.__name__],\n",
    "                                    \"train_accuracy\": [accuracy_score(y_train, y_train_pred)],\n",
    "                                        \"test_accuracy\": [accuracy_score(y_test, y_test_pred)],\n",
    "                                        \"train_f1\": [f1_score(y_train, y_train_pred, average='weighted')],\n",
    "                                        \"test_f1\": [f1_score(y_test, y_test_pred, average='weighted')],\n",
    "                                        \"train_precision\": [precision_score(y_train, y_train_pred, average='weighted')],\n",
    "                                        \"test_precision\": [precision_score(y_test, y_test_pred, average='weighted')],\n",
    "                                        \"train_recall\": [recall_score(y_train, y_train_pred, average='weighted')],\n",
    "                                        \"test_recall\": [recall_score(y_test, y_test_pred, average='weighted')],\n",
    "                                        })\n",
    "        # append the results to the dataframe\n",
    "        df_results_all = df_results_all.append(df_results, ignore_index=True)\n",
    "\n",
    "    return df_results_all"
   ]
  },
  {
   "cell_type": "markdown",
   "metadata": {
    "id": "sCHy2RNGPluN",
    "pycharm": {
     "name": "#%% md\n"
    }
   },
   "source": [
    "The training data with our default preprocessing is split into training and test sets with an 80/20 split to avoid overfitting the models towards the final testing data."
   ]
  },
  {
   "cell_type": "code",
   "execution_count": null,
   "metadata": {
    "colab": {
     "base_uri": "https://localhost:8080/"
    },
    "id": "NbNgRaBtOY4g",
    "outputId": "2238506a-9c25-4f8b-a352-f1557239b6eb",
    "pycharm": {
     "name": "#%%\n"
    }
   },
   "outputs": [
    {
     "name": "stdout",
     "output_type": "stream",
     "text": [
      "Traning data set shape before split: (540, 240)\n",
      "X_train shape: (432, 240)\n",
      "X_test shape: (108, 240)\n"
     ]
    }
   ],
   "source": [
    "#import train_test_split\n",
    "from sklearn.model_selection import train_test_split\n",
    "X = train_df\n",
    "y = training_labels\n",
    "X_train, X_test, y_train, y_test = train_test_split(X, y, test_size=0.2, random_state=42)\n",
    "\n",
    "print(f\"Traning data set shape before split: {train_df.shape}\")\n",
    "print(f\"X_train shape: {X_train.shape}\")\n",
    "print(f\"X_test shape: {X_test.shape}\")"
   ]
  },
  {
   "cell_type": "markdown",
   "metadata": {
    "id": "2DozcujgLYRf",
    "pycharm": {
     "name": "#%% md\n"
    }
   },
   "source": [
    "The models are then evaluated on the split data:"
   ]
  },
  {
   "cell_type": "code",
   "execution_count": null,
   "metadata": {
    "colab": {
     "base_uri": "https://localhost:8080/"
    },
    "id": "YrR_WmTchOVv",
    "outputId": "619d12ef-a99f-4ee5-ebe9-c9308423aef3",
    "pycharm": {
     "name": "#%%\n"
    }
   },
   "outputs": [
    {
     "name": "stdout",
     "output_type": "stream",
     "text": [
      "Training\n",
      "Classifier: LogisticRegression\n",
      "Training\n",
      "Classifier: DecisionTreeClassifier\n",
      "Training\n",
      "Classifier: RandomForestClassifier\n",
      "Training\n",
      "Classifier: SVC\n",
      "Training\n",
      "Classifier: KNeighborsClassifier\n",
      "Training\n",
      "Classifier: GaussianNB\n",
      "Training\n",
      "Classifier: GradientBoostingClassifier\n",
      "Training\n",
      "Classifier: AdaBoostClassifier\n",
      "Training\n",
      "Classifier: BaggingClassifier\n",
      "Training\n",
      "Classifier: ExtraTreesClassifier\n",
      "Training\n",
      "Classifier: MLPClassifier\n",
      "Training\n",
      "Classifier: DummyClassifier\n"
     ]
    }
   ],
   "source": [
    "results_default = evaluate_all_classifiers(X_train, X_test, y_train, y_test)"
   ]
  },
  {
   "cell_type": "code",
   "execution_count": null,
   "metadata": {
    "colab": {
     "base_uri": "https://localhost:8080/",
     "height": 426
    },
    "id": "w4t3IrDjhtRo",
    "outputId": "7ff05694-fdfc-49d4-b04f-8a098b364bb5",
    "pycharm": {
     "name": "#%%\n"
    }
   },
   "outputs": [
    {
     "data": {
      "text/html": [
       "\n",
       "  <div id=\"df-fa4b853e-8786-41e5-ad08-9888152e7372\">\n",
       "    <div class=\"colab-df-container\">\n",
       "      <div>\n",
       "<style scoped>\n",
       "    .dataframe tbody tr th:only-of-type {\n",
       "        vertical-align: middle;\n",
       "    }\n",
       "\n",
       "    .dataframe tbody tr th {\n",
       "        vertical-align: top;\n",
       "    }\n",
       "\n",
       "    .dataframe thead th {\n",
       "        text-align: right;\n",
       "    }\n",
       "</style>\n",
       "<table border=\"1\" class=\"dataframe\">\n",
       "  <thead>\n",
       "    <tr style=\"text-align: right;\">\n",
       "      <th></th>\n",
       "      <th>classifier</th>\n",
       "      <th>train_accuracy</th>\n",
       "      <th>test_accuracy</th>\n",
       "      <th>train_f1</th>\n",
       "      <th>test_f1</th>\n",
       "      <th>train_precision</th>\n",
       "      <th>test_precision</th>\n",
       "      <th>train_recall</th>\n",
       "      <th>test_recall</th>\n",
       "    </tr>\n",
       "  </thead>\n",
       "  <tbody>\n",
       "    <tr>\n",
       "      <th>0</th>\n",
       "      <td>LogisticRegression</td>\n",
       "      <td>1.000000</td>\n",
       "      <td>0.712963</td>\n",
       "      <td>1.000000</td>\n",
       "      <td>0.716740</td>\n",
       "      <td>1.000000</td>\n",
       "      <td>0.806481</td>\n",
       "      <td>1.000000</td>\n",
       "      <td>0.712963</td>\n",
       "    </tr>\n",
       "    <tr>\n",
       "      <th>1</th>\n",
       "      <td>DecisionTreeClassifier</td>\n",
       "      <td>1.000000</td>\n",
       "      <td>0.537037</td>\n",
       "      <td>1.000000</td>\n",
       "      <td>0.530968</td>\n",
       "      <td>1.000000</td>\n",
       "      <td>0.590351</td>\n",
       "      <td>1.000000</td>\n",
       "      <td>0.537037</td>\n",
       "    </tr>\n",
       "    <tr>\n",
       "      <th>2</th>\n",
       "      <td>RandomForestClassifier</td>\n",
       "      <td>1.000000</td>\n",
       "      <td>0.759259</td>\n",
       "      <td>1.000000</td>\n",
       "      <td>0.755833</td>\n",
       "      <td>1.000000</td>\n",
       "      <td>0.863911</td>\n",
       "      <td>1.000000</td>\n",
       "      <td>0.759259</td>\n",
       "    </tr>\n",
       "    <tr>\n",
       "      <th>3</th>\n",
       "      <td>SVC</td>\n",
       "      <td>0.979167</td>\n",
       "      <td>0.601852</td>\n",
       "      <td>0.978828</td>\n",
       "      <td>0.606083</td>\n",
       "      <td>0.981381</td>\n",
       "      <td>0.737140</td>\n",
       "      <td>0.979167</td>\n",
       "      <td>0.601852</td>\n",
       "    </tr>\n",
       "    <tr>\n",
       "      <th>4</th>\n",
       "      <td>KNeighborsClassifier</td>\n",
       "      <td>0.738426</td>\n",
       "      <td>0.388889</td>\n",
       "      <td>0.730351</td>\n",
       "      <td>0.371366</td>\n",
       "      <td>0.789512</td>\n",
       "      <td>0.534796</td>\n",
       "      <td>0.738426</td>\n",
       "      <td>0.388889</td>\n",
       "    </tr>\n",
       "    <tr>\n",
       "      <th>5</th>\n",
       "      <td>GaussianNB</td>\n",
       "      <td>0.949074</td>\n",
       "      <td>0.657407</td>\n",
       "      <td>0.945415</td>\n",
       "      <td>0.662033</td>\n",
       "      <td>0.955393</td>\n",
       "      <td>0.778660</td>\n",
       "      <td>0.949074</td>\n",
       "      <td>0.657407</td>\n",
       "    </tr>\n",
       "    <tr>\n",
       "      <th>6</th>\n",
       "      <td>GradientBoostingClassifier</td>\n",
       "      <td>1.000000</td>\n",
       "      <td>0.592593</td>\n",
       "      <td>1.000000</td>\n",
       "      <td>0.588262</td>\n",
       "      <td>1.000000</td>\n",
       "      <td>0.662912</td>\n",
       "      <td>1.000000</td>\n",
       "      <td>0.592593</td>\n",
       "    </tr>\n",
       "    <tr>\n",
       "      <th>7</th>\n",
       "      <td>AdaBoostClassifier</td>\n",
       "      <td>0.185185</td>\n",
       "      <td>0.166667</td>\n",
       "      <td>0.108956</td>\n",
       "      <td>0.112470</td>\n",
       "      <td>0.175501</td>\n",
       "      <td>0.113496</td>\n",
       "      <td>0.185185</td>\n",
       "      <td>0.166667</td>\n",
       "    </tr>\n",
       "    <tr>\n",
       "      <th>8</th>\n",
       "      <td>BaggingClassifier</td>\n",
       "      <td>0.993056</td>\n",
       "      <td>0.648148</td>\n",
       "      <td>0.992902</td>\n",
       "      <td>0.644877</td>\n",
       "      <td>0.993479</td>\n",
       "      <td>0.719290</td>\n",
       "      <td>0.993056</td>\n",
       "      <td>0.648148</td>\n",
       "    </tr>\n",
       "    <tr>\n",
       "      <th>9</th>\n",
       "      <td>ExtraTreesClassifier</td>\n",
       "      <td>1.000000</td>\n",
       "      <td>0.759259</td>\n",
       "      <td>1.000000</td>\n",
       "      <td>0.759420</td>\n",
       "      <td>1.000000</td>\n",
       "      <td>0.864815</td>\n",
       "      <td>1.000000</td>\n",
       "      <td>0.759259</td>\n",
       "    </tr>\n",
       "    <tr>\n",
       "      <th>10</th>\n",
       "      <td>MLPClassifier</td>\n",
       "      <td>1.000000</td>\n",
       "      <td>0.685185</td>\n",
       "      <td>1.000000</td>\n",
       "      <td>0.673886</td>\n",
       "      <td>1.000000</td>\n",
       "      <td>0.742549</td>\n",
       "      <td>1.000000</td>\n",
       "      <td>0.685185</td>\n",
       "    </tr>\n",
       "    <tr>\n",
       "      <th>11</th>\n",
       "      <td>DummyClassifier</td>\n",
       "      <td>0.048611</td>\n",
       "      <td>0.037037</td>\n",
       "      <td>0.004507</td>\n",
       "      <td>0.002646</td>\n",
       "      <td>0.002363</td>\n",
       "      <td>0.001372</td>\n",
       "      <td>0.048611</td>\n",
       "      <td>0.037037</td>\n",
       "    </tr>\n",
       "  </tbody>\n",
       "</table>\n",
       "</div>\n",
       "      <button class=\"colab-df-convert\" onclick=\"convertToInteractive('df-fa4b853e-8786-41e5-ad08-9888152e7372')\"\n",
       "              title=\"Convert this dataframe to an interactive table.\"\n",
       "              style=\"display:none;\">\n",
       "        \n",
       "  <svg xmlns=\"http://www.w3.org/2000/svg\" height=\"24px\"viewBox=\"0 0 24 24\"\n",
       "       width=\"24px\">\n",
       "    <path d=\"M0 0h24v24H0V0z\" fill=\"none\"/>\n",
       "    <path d=\"M18.56 5.44l.94 2.06.94-2.06 2.06-.94-2.06-.94-.94-2.06-.94 2.06-2.06.94zm-11 1L8.5 8.5l.94-2.06 2.06-.94-2.06-.94L8.5 2.5l-.94 2.06-2.06.94zm10 10l.94 2.06.94-2.06 2.06-.94-2.06-.94-.94-2.06-.94 2.06-2.06.94z\"/><path d=\"M17.41 7.96l-1.37-1.37c-.4-.4-.92-.59-1.43-.59-.52 0-1.04.2-1.43.59L10.3 9.45l-7.72 7.72c-.78.78-.78 2.05 0 2.83L4 21.41c.39.39.9.59 1.41.59.51 0 1.02-.2 1.41-.59l7.78-7.78 2.81-2.81c.8-.78.8-2.07 0-2.86zM5.41 20L4 18.59l7.72-7.72 1.47 1.35L5.41 20z\"/>\n",
       "  </svg>\n",
       "      </button>\n",
       "      \n",
       "  <style>\n",
       "    .colab-df-container {\n",
       "      display:flex;\n",
       "      flex-wrap:wrap;\n",
       "      gap: 12px;\n",
       "    }\n",
       "\n",
       "    .colab-df-convert {\n",
       "      background-color: #E8F0FE;\n",
       "      border: none;\n",
       "      border-radius: 50%;\n",
       "      cursor: pointer;\n",
       "      display: none;\n",
       "      fill: #1967D2;\n",
       "      height: 32px;\n",
       "      padding: 0 0 0 0;\n",
       "      width: 32px;\n",
       "    }\n",
       "\n",
       "    .colab-df-convert:hover {\n",
       "      background-color: #E2EBFA;\n",
       "      box-shadow: 0px 1px 2px rgba(60, 64, 67, 0.3), 0px 1px 3px 1px rgba(60, 64, 67, 0.15);\n",
       "      fill: #174EA6;\n",
       "    }\n",
       "\n",
       "    [theme=dark] .colab-df-convert {\n",
       "      background-color: #3B4455;\n",
       "      fill: #D2E3FC;\n",
       "    }\n",
       "\n",
       "    [theme=dark] .colab-df-convert:hover {\n",
       "      background-color: #434B5C;\n",
       "      box-shadow: 0px 1px 3px 1px rgba(0, 0, 0, 0.15);\n",
       "      filter: drop-shadow(0px 1px 2px rgba(0, 0, 0, 0.3));\n",
       "      fill: #FFFFFF;\n",
       "    }\n",
       "  </style>\n",
       "\n",
       "      <script>\n",
       "        const buttonEl =\n",
       "          document.querySelector('#df-fa4b853e-8786-41e5-ad08-9888152e7372 button.colab-df-convert');\n",
       "        buttonEl.style.display =\n",
       "          google.colab.kernel.accessAllowed ? 'block' : 'none';\n",
       "\n",
       "        async function convertToInteractive(key) {\n",
       "          const element = document.querySelector('#df-fa4b853e-8786-41e5-ad08-9888152e7372');\n",
       "          const dataTable =\n",
       "            await google.colab.kernel.invokeFunction('convertToInteractive',\n",
       "                                                     [key], {});\n",
       "          if (!dataTable) return;\n",
       "\n",
       "          const docLinkHtml = 'Like what you see? Visit the ' +\n",
       "            '<a target=\"_blank\" href=https://colab.research.google.com/notebooks/data_table.ipynb>data table notebook</a>'\n",
       "            + ' to learn more about interactive tables.';\n",
       "          element.innerHTML = '';\n",
       "          dataTable['output_type'] = 'display_data';\n",
       "          await google.colab.output.renderOutput(dataTable, element);\n",
       "          const docLink = document.createElement('div');\n",
       "          docLink.innerHTML = docLinkHtml;\n",
       "          element.appendChild(docLink);\n",
       "        }\n",
       "      </script>\n",
       "    </div>\n",
       "  </div>\n",
       "  "
      ],
      "text/plain": [
       "                    classifier  train_accuracy  test_accuracy  train_f1  \\\n",
       "0           LogisticRegression        1.000000       0.712963  1.000000   \n",
       "1       DecisionTreeClassifier        1.000000       0.537037  1.000000   \n",
       "2       RandomForestClassifier        1.000000       0.759259  1.000000   \n",
       "3                          SVC        0.979167       0.601852  0.978828   \n",
       "4         KNeighborsClassifier        0.738426       0.388889  0.730351   \n",
       "5                   GaussianNB        0.949074       0.657407  0.945415   \n",
       "6   GradientBoostingClassifier        1.000000       0.592593  1.000000   \n",
       "7           AdaBoostClassifier        0.185185       0.166667  0.108956   \n",
       "8            BaggingClassifier        0.993056       0.648148  0.992902   \n",
       "9         ExtraTreesClassifier        1.000000       0.759259  1.000000   \n",
       "10               MLPClassifier        1.000000       0.685185  1.000000   \n",
       "11             DummyClassifier        0.048611       0.037037  0.004507   \n",
       "\n",
       "     test_f1  train_precision  test_precision  train_recall  test_recall  \n",
       "0   0.716740         1.000000        0.806481      1.000000     0.712963  \n",
       "1   0.530968         1.000000        0.590351      1.000000     0.537037  \n",
       "2   0.755833         1.000000        0.863911      1.000000     0.759259  \n",
       "3   0.606083         0.981381        0.737140      0.979167     0.601852  \n",
       "4   0.371366         0.789512        0.534796      0.738426     0.388889  \n",
       "5   0.662033         0.955393        0.778660      0.949074     0.657407  \n",
       "6   0.588262         1.000000        0.662912      1.000000     0.592593  \n",
       "7   0.112470         0.175501        0.113496      0.185185     0.166667  \n",
       "8   0.644877         0.993479        0.719290      0.993056     0.648148  \n",
       "9   0.759420         1.000000        0.864815      1.000000     0.759259  \n",
       "10  0.673886         1.000000        0.742549      1.000000     0.685185  \n",
       "11  0.002646         0.002363        0.001372      0.048611     0.037037  "
      ]
     },
     "execution_count": 116,
     "metadata": {},
     "output_type": "execute_result"
    }
   ],
   "source": [
    "results_default"
   ]
  },
  {
   "cell_type": "markdown",
   "metadata": {
    "id": "VfFIfRFssLjM",
    "pycharm": {
     "name": "#%% md\n"
    }
   },
   "source": [
    "The models are evaluated again with different preprocessing parameters (higher cap for outlier capping and mean as imputation method insetad)"
   ]
  },
  {
   "cell_type": "code",
   "execution_count": null,
   "metadata": {
    "colab": {
     "base_uri": "https://localhost:8080/"
    },
    "id": "_Bxb8L7RsL68",
    "outputId": "2e4ab237-8234-4ea6-c902-7885ec89bdf3",
    "pycharm": {
     "name": "#%%\n"
    }
   },
   "outputs": [
    {
     "name": "stdout",
     "output_type": "stream",
     "text": [
      "Training\n",
      "Classifier: LogisticRegression\n",
      "Training\n",
      "Classifier: DecisionTreeClassifier\n",
      "Training\n",
      "Classifier: RandomForestClassifier\n",
      "Training\n",
      "Classifier: SVC\n",
      "Training\n",
      "Classifier: KNeighborsClassifier\n",
      "Training\n",
      "Classifier: GaussianNB\n",
      "Training\n",
      "Classifier: GradientBoostingClassifier\n",
      "Training\n",
      "Classifier: AdaBoostClassifier\n",
      "Training\n",
      "Classifier: BaggingClassifier\n",
      "Training\n",
      "Classifier: ExtraTreesClassifier\n",
      "Training\n",
      "Classifier: MLPClassifier\n",
      "Training\n",
      "Classifier: DummyClassifier\n"
     ]
    }
   ],
   "source": [
    "train_df = run_data_pipeline(training_features, std_cap = 6, impute_method=\"mean\")\n",
    "test_df = run_data_pipeline(test_features, std_cap = 6, impute_method=\"mean\")\n",
    "\n",
    "X = train_df\n",
    "y = training_labels\n",
    "\n",
    "X_train, X_test, y_train, y_test = train_test_split(X, y, test_size=0.2, random_state=42)\n",
    "\n",
    "results_cap_mean = evaluate_all_classifiers(X_train, X_test, y_train, y_test)"
   ]
  },
  {
   "cell_type": "code",
   "execution_count": null,
   "metadata": {
    "colab": {
     "base_uri": "https://localhost:8080/",
     "height": 426
    },
    "id": "hzHoJaUBtUHT",
    "outputId": "4f263db8-8ef9-4b92-898b-27994d2b36c1",
    "pycharm": {
     "name": "#%%\n"
    }
   },
   "outputs": [
    {
     "data": {
      "text/html": [
       "\n",
       "  <div id=\"df-7fc4156a-ba74-46d6-8068-138617362250\">\n",
       "    <div class=\"colab-df-container\">\n",
       "      <div>\n",
       "<style scoped>\n",
       "    .dataframe tbody tr th:only-of-type {\n",
       "        vertical-align: middle;\n",
       "    }\n",
       "\n",
       "    .dataframe tbody tr th {\n",
       "        vertical-align: top;\n",
       "    }\n",
       "\n",
       "    .dataframe thead th {\n",
       "        text-align: right;\n",
       "    }\n",
       "</style>\n",
       "<table border=\"1\" class=\"dataframe\">\n",
       "  <thead>\n",
       "    <tr style=\"text-align: right;\">\n",
       "      <th></th>\n",
       "      <th>classifier</th>\n",
       "      <th>train_accuracy</th>\n",
       "      <th>test_accuracy</th>\n",
       "      <th>train_f1</th>\n",
       "      <th>test_f1</th>\n",
       "      <th>train_precision</th>\n",
       "      <th>test_precision</th>\n",
       "      <th>train_recall</th>\n",
       "      <th>test_recall</th>\n",
       "    </tr>\n",
       "  </thead>\n",
       "  <tbody>\n",
       "    <tr>\n",
       "      <th>0</th>\n",
       "      <td>LogisticRegression</td>\n",
       "      <td>1.000000</td>\n",
       "      <td>0.740741</td>\n",
       "      <td>1.000000</td>\n",
       "      <td>0.746833</td>\n",
       "      <td>1.000000</td>\n",
       "      <td>0.835362</td>\n",
       "      <td>1.000000</td>\n",
       "      <td>0.740741</td>\n",
       "    </tr>\n",
       "    <tr>\n",
       "      <th>1</th>\n",
       "      <td>DecisionTreeClassifier</td>\n",
       "      <td>1.000000</td>\n",
       "      <td>0.555556</td>\n",
       "      <td>1.000000</td>\n",
       "      <td>0.546924</td>\n",
       "      <td>1.000000</td>\n",
       "      <td>0.635995</td>\n",
       "      <td>1.000000</td>\n",
       "      <td>0.555556</td>\n",
       "    </tr>\n",
       "    <tr>\n",
       "      <th>2</th>\n",
       "      <td>RandomForestClassifier</td>\n",
       "      <td>1.000000</td>\n",
       "      <td>0.824074</td>\n",
       "      <td>1.000000</td>\n",
       "      <td>0.818515</td>\n",
       "      <td>1.000000</td>\n",
       "      <td>0.886596</td>\n",
       "      <td>1.000000</td>\n",
       "      <td>0.824074</td>\n",
       "    </tr>\n",
       "    <tr>\n",
       "      <th>3</th>\n",
       "      <td>SVC</td>\n",
       "      <td>0.981481</td>\n",
       "      <td>0.592593</td>\n",
       "      <td>0.981332</td>\n",
       "      <td>0.596478</td>\n",
       "      <td>0.983223</td>\n",
       "      <td>0.720928</td>\n",
       "      <td>0.981481</td>\n",
       "      <td>0.592593</td>\n",
       "    </tr>\n",
       "    <tr>\n",
       "      <th>4</th>\n",
       "      <td>KNeighborsClassifier</td>\n",
       "      <td>0.738426</td>\n",
       "      <td>0.379630</td>\n",
       "      <td>0.728063</td>\n",
       "      <td>0.345032</td>\n",
       "      <td>0.794535</td>\n",
       "      <td>0.386974</td>\n",
       "      <td>0.738426</td>\n",
       "      <td>0.379630</td>\n",
       "    </tr>\n",
       "    <tr>\n",
       "      <th>5</th>\n",
       "      <td>GaussianNB</td>\n",
       "      <td>0.949074</td>\n",
       "      <td>0.675926</td>\n",
       "      <td>0.946706</td>\n",
       "      <td>0.673301</td>\n",
       "      <td>0.952031</td>\n",
       "      <td>0.774228</td>\n",
       "      <td>0.949074</td>\n",
       "      <td>0.675926</td>\n",
       "    </tr>\n",
       "    <tr>\n",
       "      <th>6</th>\n",
       "      <td>GradientBoostingClassifier</td>\n",
       "      <td>1.000000</td>\n",
       "      <td>0.592593</td>\n",
       "      <td>1.000000</td>\n",
       "      <td>0.580413</td>\n",
       "      <td>1.000000</td>\n",
       "      <td>0.648093</td>\n",
       "      <td>1.000000</td>\n",
       "      <td>0.592593</td>\n",
       "    </tr>\n",
       "    <tr>\n",
       "      <th>7</th>\n",
       "      <td>AdaBoostClassifier</td>\n",
       "      <td>0.203704</td>\n",
       "      <td>0.157407</td>\n",
       "      <td>0.123673</td>\n",
       "      <td>0.115759</td>\n",
       "      <td>0.209366</td>\n",
       "      <td>0.111395</td>\n",
       "      <td>0.203704</td>\n",
       "      <td>0.157407</td>\n",
       "    </tr>\n",
       "    <tr>\n",
       "      <th>8</th>\n",
       "      <td>BaggingClassifier</td>\n",
       "      <td>0.993056</td>\n",
       "      <td>0.620370</td>\n",
       "      <td>0.993014</td>\n",
       "      <td>0.596732</td>\n",
       "      <td>0.993455</td>\n",
       "      <td>0.651569</td>\n",
       "      <td>0.993056</td>\n",
       "      <td>0.620370</td>\n",
       "    </tr>\n",
       "    <tr>\n",
       "      <th>9</th>\n",
       "      <td>ExtraTreesClassifier</td>\n",
       "      <td>1.000000</td>\n",
       "      <td>0.787037</td>\n",
       "      <td>1.000000</td>\n",
       "      <td>0.780862</td>\n",
       "      <td>1.000000</td>\n",
       "      <td>0.861883</td>\n",
       "      <td>1.000000</td>\n",
       "      <td>0.787037</td>\n",
       "    </tr>\n",
       "    <tr>\n",
       "      <th>10</th>\n",
       "      <td>MLPClassifier</td>\n",
       "      <td>1.000000</td>\n",
       "      <td>0.657407</td>\n",
       "      <td>1.000000</td>\n",
       "      <td>0.652946</td>\n",
       "      <td>1.000000</td>\n",
       "      <td>0.766182</td>\n",
       "      <td>1.000000</td>\n",
       "      <td>0.657407</td>\n",
       "    </tr>\n",
       "    <tr>\n",
       "      <th>11</th>\n",
       "      <td>DummyClassifier</td>\n",
       "      <td>0.048611</td>\n",
       "      <td>0.037037</td>\n",
       "      <td>0.004507</td>\n",
       "      <td>0.002646</td>\n",
       "      <td>0.002363</td>\n",
       "      <td>0.001372</td>\n",
       "      <td>0.048611</td>\n",
       "      <td>0.037037</td>\n",
       "    </tr>\n",
       "  </tbody>\n",
       "</table>\n",
       "</div>\n",
       "      <button class=\"colab-df-convert\" onclick=\"convertToInteractive('df-7fc4156a-ba74-46d6-8068-138617362250')\"\n",
       "              title=\"Convert this dataframe to an interactive table.\"\n",
       "              style=\"display:none;\">\n",
       "        \n",
       "  <svg xmlns=\"http://www.w3.org/2000/svg\" height=\"24px\"viewBox=\"0 0 24 24\"\n",
       "       width=\"24px\">\n",
       "    <path d=\"M0 0h24v24H0V0z\" fill=\"none\"/>\n",
       "    <path d=\"M18.56 5.44l.94 2.06.94-2.06 2.06-.94-2.06-.94-.94-2.06-.94 2.06-2.06.94zm-11 1L8.5 8.5l.94-2.06 2.06-.94-2.06-.94L8.5 2.5l-.94 2.06-2.06.94zm10 10l.94 2.06.94-2.06 2.06-.94-2.06-.94-.94-2.06-.94 2.06-2.06.94z\"/><path d=\"M17.41 7.96l-1.37-1.37c-.4-.4-.92-.59-1.43-.59-.52 0-1.04.2-1.43.59L10.3 9.45l-7.72 7.72c-.78.78-.78 2.05 0 2.83L4 21.41c.39.39.9.59 1.41.59.51 0 1.02-.2 1.41-.59l7.78-7.78 2.81-2.81c.8-.78.8-2.07 0-2.86zM5.41 20L4 18.59l7.72-7.72 1.47 1.35L5.41 20z\"/>\n",
       "  </svg>\n",
       "      </button>\n",
       "      \n",
       "  <style>\n",
       "    .colab-df-container {\n",
       "      display:flex;\n",
       "      flex-wrap:wrap;\n",
       "      gap: 12px;\n",
       "    }\n",
       "\n",
       "    .colab-df-convert {\n",
       "      background-color: #E8F0FE;\n",
       "      border: none;\n",
       "      border-radius: 50%;\n",
       "      cursor: pointer;\n",
       "      display: none;\n",
       "      fill: #1967D2;\n",
       "      height: 32px;\n",
       "      padding: 0 0 0 0;\n",
       "      width: 32px;\n",
       "    }\n",
       "\n",
       "    .colab-df-convert:hover {\n",
       "      background-color: #E2EBFA;\n",
       "      box-shadow: 0px 1px 2px rgba(60, 64, 67, 0.3), 0px 1px 3px 1px rgba(60, 64, 67, 0.15);\n",
       "      fill: #174EA6;\n",
       "    }\n",
       "\n",
       "    [theme=dark] .colab-df-convert {\n",
       "      background-color: #3B4455;\n",
       "      fill: #D2E3FC;\n",
       "    }\n",
       "\n",
       "    [theme=dark] .colab-df-convert:hover {\n",
       "      background-color: #434B5C;\n",
       "      box-shadow: 0px 1px 3px 1px rgba(0, 0, 0, 0.15);\n",
       "      filter: drop-shadow(0px 1px 2px rgba(0, 0, 0, 0.3));\n",
       "      fill: #FFFFFF;\n",
       "    }\n",
       "  </style>\n",
       "\n",
       "      <script>\n",
       "        const buttonEl =\n",
       "          document.querySelector('#df-7fc4156a-ba74-46d6-8068-138617362250 button.colab-df-convert');\n",
       "        buttonEl.style.display =\n",
       "          google.colab.kernel.accessAllowed ? 'block' : 'none';\n",
       "\n",
       "        async function convertToInteractive(key) {\n",
       "          const element = document.querySelector('#df-7fc4156a-ba74-46d6-8068-138617362250');\n",
       "          const dataTable =\n",
       "            await google.colab.kernel.invokeFunction('convertToInteractive',\n",
       "                                                     [key], {});\n",
       "          if (!dataTable) return;\n",
       "\n",
       "          const docLinkHtml = 'Like what you see? Visit the ' +\n",
       "            '<a target=\"_blank\" href=https://colab.research.google.com/notebooks/data_table.ipynb>data table notebook</a>'\n",
       "            + ' to learn more about interactive tables.';\n",
       "          element.innerHTML = '';\n",
       "          dataTable['output_type'] = 'display_data';\n",
       "          await google.colab.output.renderOutput(dataTable, element);\n",
       "          const docLink = document.createElement('div');\n",
       "          docLink.innerHTML = docLinkHtml;\n",
       "          element.appendChild(docLink);\n",
       "        }\n",
       "      </script>\n",
       "    </div>\n",
       "  </div>\n",
       "  "
      ],
      "text/plain": [
       "                    classifier  train_accuracy  test_accuracy  train_f1  \\\n",
       "0           LogisticRegression        1.000000       0.740741  1.000000   \n",
       "1       DecisionTreeClassifier        1.000000       0.555556  1.000000   \n",
       "2       RandomForestClassifier        1.000000       0.824074  1.000000   \n",
       "3                          SVC        0.981481       0.592593  0.981332   \n",
       "4         KNeighborsClassifier        0.738426       0.379630  0.728063   \n",
       "5                   GaussianNB        0.949074       0.675926  0.946706   \n",
       "6   GradientBoostingClassifier        1.000000       0.592593  1.000000   \n",
       "7           AdaBoostClassifier        0.203704       0.157407  0.123673   \n",
       "8            BaggingClassifier        0.993056       0.620370  0.993014   \n",
       "9         ExtraTreesClassifier        1.000000       0.787037  1.000000   \n",
       "10               MLPClassifier        1.000000       0.657407  1.000000   \n",
       "11             DummyClassifier        0.048611       0.037037  0.004507   \n",
       "\n",
       "     test_f1  train_precision  test_precision  train_recall  test_recall  \n",
       "0   0.746833         1.000000        0.835362      1.000000     0.740741  \n",
       "1   0.546924         1.000000        0.635995      1.000000     0.555556  \n",
       "2   0.818515         1.000000        0.886596      1.000000     0.824074  \n",
       "3   0.596478         0.983223        0.720928      0.981481     0.592593  \n",
       "4   0.345032         0.794535        0.386974      0.738426     0.379630  \n",
       "5   0.673301         0.952031        0.774228      0.949074     0.675926  \n",
       "6   0.580413         1.000000        0.648093      1.000000     0.592593  \n",
       "7   0.115759         0.209366        0.111395      0.203704     0.157407  \n",
       "8   0.596732         0.993455        0.651569      0.993056     0.620370  \n",
       "9   0.780862         1.000000        0.861883      1.000000     0.787037  \n",
       "10  0.652946         1.000000        0.766182      1.000000     0.657407  \n",
       "11  0.002646         0.002363        0.001372      0.048611     0.037037  "
      ]
     },
     "execution_count": 140,
     "metadata": {},
     "output_type": "execute_result"
    }
   ],
   "source": [
    "results_cap_mean"
   ]
  },
  {
   "cell_type": "markdown",
   "metadata": {
    "id": "Uh-Sg510x3_l",
    "pycharm": {
     "name": "#%% md\n"
    }
   },
   "source": [
    "At least with the default parameters for the Random Forest, we get slightly higher result on the test set by increasing the cap and changing to mean imputation.\n",
    "\n",
    "By capping we are reducing the amount of information in the dataset, so it makes sense that a classifier that can make use of the outlier information could potentially perform better (or increase risks of overfitting as well)."
   ]
  },
  {
   "cell_type": "markdown",
   "metadata": {
    "id": "rSdr57n_xb44",
    "pycharm": {
     "name": "#%% md\n"
    }
   },
   "source": [
    "##Regularization"
   ]
  },
  {
   "cell_type": "markdown",
   "metadata": {
    "id": "Cc-fh8VXpLqo",
    "pycharm": {
     "name": "#%% md\n"
    }
   },
   "source": [
    "To reduce overfitting, the feature importance is evaluated on a `RandomForestClassifier` and reduced to 45 features in accordance with the resulting plot."
   ]
  },
  {
   "cell_type": "code",
   "execution_count": null,
   "metadata": {
    "colab": {
     "base_uri": "https://localhost:8080/",
     "height": 265
    },
    "id": "JDdAgEA6pLbg",
    "lines_to_next_cell": 2,
    "outputId": "3de46fc8-9b28-4811-d07e-f5eba68298d3",
    "pycharm": {
     "name": "#%%\n"
    }
   },
   "outputs": [
    {
     "data": {
      "image/png": "[encoded data removed]",
      "text/plain": [
       "<Figure size 432x288 with 1 Axes>"
      ]
     },
     "metadata": {
      "needs_background": "light"
     },
     "output_type": "display_data"
    }
   ],
   "source": [
    "rf = RandomForestClassifier()\n",
    "rf.fit(X_train, y_train)\n",
    "\n",
    "#df_feat_imp = pd.DataFrame(zip(train_df.columns, rf.feature_importances_), columns=[\"feat\", \"feat_imp\"]).sort_values(\"feat_imp\", ascending=False).reset_index(drop=True)#\n",
    "df_feat_imp = pd.DataFrame(zip(X_train.columns, rf.feature_importances_), columns=[\"feat\", \"feat_imp\"]).sort_values(\"feat_imp\", ascending=False).reset_index(drop=True)#\n",
    "df_feat_imp.feat_imp.plot()\n",
    "\n",
    "feats_to_test = df_feat_imp.loc[:45, \"feat\"].values.tolist()"
   ]
  },
  {
   "cell_type": "markdown",
   "metadata": {
    "id": "pKYOOm47wmij",
    "pycharm": {
     "name": "#%% md\n"
    }
   },
   "source": [
    "The models are then evaluated with the reduced feature set."
   ]
  },
  {
   "cell_type": "code",
   "execution_count": null,
   "metadata": {
    "colab": {
     "base_uri": "https://localhost:8080/"
    },
    "id": "OmvKbayQwjgG",
    "outputId": "1c22cff1-20d0-40f8-f1a2-5b7fae26db72",
    "pycharm": {
     "name": "#%%\n"
    }
   },
   "outputs": [
    {
     "name": "stdout",
     "output_type": "stream",
     "text": [
      "Training\n",
      "Classifier: LogisticRegression\n",
      "Training\n",
      "Classifier: DecisionTreeClassifier\n",
      "Training\n",
      "Classifier: RandomForestClassifier\n",
      "Training\n",
      "Classifier: SVC\n",
      "Training\n",
      "Classifier: KNeighborsClassifier\n",
      "Training\n",
      "Classifier: GaussianNB\n",
      "Training\n",
      "Classifier: GradientBoostingClassifier\n",
      "Training\n",
      "Classifier: AdaBoostClassifier\n",
      "Training\n",
      "Classifier: BaggingClassifier\n",
      "Training\n",
      "Classifier: ExtraTreesClassifier\n",
      "Training\n",
      "Classifier: MLPClassifier\n",
      "Training\n",
      "Classifier: DummyClassifier\n"
     ]
    }
   ],
   "source": [
    "\n",
    "X = train_df[feats_to_test].copy()\n",
    "y = training_labels\n",
    "X_train, X_test, y_train, y_test = train_test_split(X, y, test_size=0.2, random_state=42)\n",
    "\n",
    "results_reduced = evaluate_all_classifiers(X_train, X_test, y_train, y_test)\n",
    "\n",
    "feats_to_test = df_feat_imp.loc[:45, \"feat\"].values.tolist()"
   ]
  },
  {
   "cell_type": "code",
   "execution_count": null,
   "metadata": {
    "colab": {
     "base_uri": "https://localhost:8080/",
     "height": 426
    },
    "id": "YAQl8gPvpf-n",
    "outputId": "858a4b15-930e-466d-aee7-5f41a91f681f",
    "pycharm": {
     "name": "#%%\n"
    }
   },
   "outputs": [
    {
     "data": {
      "text/html": [
       "\n",
       "  <div id=\"df-37e09014-8512-4ae5-ad71-2e509c3d1069\">\n",
       "    <div class=\"colab-df-container\">\n",
       "      <div>\n",
       "<style scoped>\n",
       "    .dataframe tbody tr th:only-of-type {\n",
       "        vertical-align: middle;\n",
       "    }\n",
       "\n",
       "    .dataframe tbody tr th {\n",
       "        vertical-align: top;\n",
       "    }\n",
       "\n",
       "    .dataframe thead th {\n",
       "        text-align: right;\n",
       "    }\n",
       "</style>\n",
       "<table border=\"1\" class=\"dataframe\">\n",
       "  <thead>\n",
       "    <tr style=\"text-align: right;\">\n",
       "      <th></th>\n",
       "      <th>classifier</th>\n",
       "      <th>train_accuracy</th>\n",
       "      <th>test_accuracy</th>\n",
       "      <th>train_f1</th>\n",
       "      <th>test_f1</th>\n",
       "      <th>train_precision</th>\n",
       "      <th>test_precision</th>\n",
       "      <th>train_recall</th>\n",
       "      <th>test_recall</th>\n",
       "    </tr>\n",
       "  </thead>\n",
       "  <tbody>\n",
       "    <tr>\n",
       "      <th>0</th>\n",
       "      <td>LogisticRegression</td>\n",
       "      <td>0.993056</td>\n",
       "      <td>0.759259</td>\n",
       "      <td>0.992819</td>\n",
       "      <td>0.762350</td>\n",
       "      <td>0.993530</td>\n",
       "      <td>0.824295</td>\n",
       "      <td>0.993056</td>\n",
       "      <td>0.759259</td>\n",
       "    </tr>\n",
       "    <tr>\n",
       "      <th>1</th>\n",
       "      <td>DecisionTreeClassifier</td>\n",
       "      <td>1.000000</td>\n",
       "      <td>0.592593</td>\n",
       "      <td>1.000000</td>\n",
       "      <td>0.590677</td>\n",
       "      <td>1.000000</td>\n",
       "      <td>0.661596</td>\n",
       "      <td>1.000000</td>\n",
       "      <td>0.592593</td>\n",
       "    </tr>\n",
       "    <tr>\n",
       "      <th>2</th>\n",
       "      <td>RandomForestClassifier</td>\n",
       "      <td>1.000000</td>\n",
       "      <td>0.824074</td>\n",
       "      <td>1.000000</td>\n",
       "      <td>0.822244</td>\n",
       "      <td>1.000000</td>\n",
       "      <td>0.885825</td>\n",
       "      <td>1.000000</td>\n",
       "      <td>0.824074</td>\n",
       "    </tr>\n",
       "    <tr>\n",
       "      <th>3</th>\n",
       "      <td>SVC</td>\n",
       "      <td>0.939815</td>\n",
       "      <td>0.740741</td>\n",
       "      <td>0.939059</td>\n",
       "      <td>0.731763</td>\n",
       "      <td>0.943738</td>\n",
       "      <td>0.823765</td>\n",
       "      <td>0.939815</td>\n",
       "      <td>0.740741</td>\n",
       "    </tr>\n",
       "    <tr>\n",
       "      <th>4</th>\n",
       "      <td>KNeighborsClassifier</td>\n",
       "      <td>0.861111</td>\n",
       "      <td>0.712963</td>\n",
       "      <td>0.854682</td>\n",
       "      <td>0.703453</td>\n",
       "      <td>0.882495</td>\n",
       "      <td>0.790348</td>\n",
       "      <td>0.861111</td>\n",
       "      <td>0.712963</td>\n",
       "    </tr>\n",
       "    <tr>\n",
       "      <th>5</th>\n",
       "      <td>GaussianNB</td>\n",
       "      <td>0.918981</td>\n",
       "      <td>0.712963</td>\n",
       "      <td>0.913904</td>\n",
       "      <td>0.699369</td>\n",
       "      <td>0.926831</td>\n",
       "      <td>0.741402</td>\n",
       "      <td>0.918981</td>\n",
       "      <td>0.712963</td>\n",
       "    </tr>\n",
       "    <tr>\n",
       "      <th>6</th>\n",
       "      <td>GradientBoostingClassifier</td>\n",
       "      <td>1.000000</td>\n",
       "      <td>0.638889</td>\n",
       "      <td>1.000000</td>\n",
       "      <td>0.649793</td>\n",
       "      <td>1.000000</td>\n",
       "      <td>0.716852</td>\n",
       "      <td>1.000000</td>\n",
       "      <td>0.638889</td>\n",
       "    </tr>\n",
       "    <tr>\n",
       "      <th>7</th>\n",
       "      <td>AdaBoostClassifier</td>\n",
       "      <td>0.162037</td>\n",
       "      <td>0.101852</td>\n",
       "      <td>0.074479</td>\n",
       "      <td>0.036503</td>\n",
       "      <td>0.098460</td>\n",
       "      <td>0.035642</td>\n",
       "      <td>0.162037</td>\n",
       "      <td>0.101852</td>\n",
       "    </tr>\n",
       "    <tr>\n",
       "      <th>8</th>\n",
       "      <td>BaggingClassifier</td>\n",
       "      <td>0.995370</td>\n",
       "      <td>0.777778</td>\n",
       "      <td>0.995389</td>\n",
       "      <td>0.772694</td>\n",
       "      <td>0.995773</td>\n",
       "      <td>0.827712</td>\n",
       "      <td>0.995370</td>\n",
       "      <td>0.777778</td>\n",
       "    </tr>\n",
       "    <tr>\n",
       "      <th>9</th>\n",
       "      <td>ExtraTreesClassifier</td>\n",
       "      <td>1.000000</td>\n",
       "      <td>0.842593</td>\n",
       "      <td>1.000000</td>\n",
       "      <td>0.843364</td>\n",
       "      <td>1.000000</td>\n",
       "      <td>0.879321</td>\n",
       "      <td>1.000000</td>\n",
       "      <td>0.842593</td>\n",
       "    </tr>\n",
       "    <tr>\n",
       "      <th>10</th>\n",
       "      <td>MLPClassifier</td>\n",
       "      <td>1.000000</td>\n",
       "      <td>0.768519</td>\n",
       "      <td>1.000000</td>\n",
       "      <td>0.760061</td>\n",
       "      <td>1.000000</td>\n",
       "      <td>0.789308</td>\n",
       "      <td>1.000000</td>\n",
       "      <td>0.768519</td>\n",
       "    </tr>\n",
       "    <tr>\n",
       "      <th>11</th>\n",
       "      <td>DummyClassifier</td>\n",
       "      <td>0.048611</td>\n",
       "      <td>0.037037</td>\n",
       "      <td>0.004507</td>\n",
       "      <td>0.002646</td>\n",
       "      <td>0.002363</td>\n",
       "      <td>0.001372</td>\n",
       "      <td>0.048611</td>\n",
       "      <td>0.037037</td>\n",
       "    </tr>\n",
       "  </tbody>\n",
       "</table>\n",
       "</div>\n",
       "      <button class=\"colab-df-convert\" onclick=\"convertToInteractive('df-37e09014-8512-4ae5-ad71-2e509c3d1069')\"\n",
       "              title=\"Convert this dataframe to an interactive table.\"\n",
       "              style=\"display:none;\">\n",
       "        \n",
       "  <svg xmlns=\"http://www.w3.org/2000/svg\" height=\"24px\"viewBox=\"0 0 24 24\"\n",
       "       width=\"24px\">\n",
       "    <path d=\"M0 0h24v24H0V0z\" fill=\"none\"/>\n",
       "    <path d=\"M18.56 5.44l.94 2.06.94-2.06 2.06-.94-2.06-.94-.94-2.06-.94 2.06-2.06.94zm-11 1L8.5 8.5l.94-2.06 2.06-.94-2.06-.94L8.5 2.5l-.94 2.06-2.06.94zm10 10l.94 2.06.94-2.06 2.06-.94-2.06-.94-.94-2.06-.94 2.06-2.06.94z\"/><path d=\"M17.41 7.96l-1.37-1.37c-.4-.4-.92-.59-1.43-.59-.52 0-1.04.2-1.43.59L10.3 9.45l-7.72 7.72c-.78.78-.78 2.05 0 2.83L4 21.41c.39.39.9.59 1.41.59.51 0 1.02-.2 1.41-.59l7.78-7.78 2.81-2.81c.8-.78.8-2.07 0-2.86zM5.41 20L4 18.59l7.72-7.72 1.47 1.35L5.41 20z\"/>\n",
       "  </svg>\n",
       "      </button>\n",
       "      \n",
       "  <style>\n",
       "    .colab-df-container {\n",
       "      display:flex;\n",
       "      flex-wrap:wrap;\n",
       "      gap: 12px;\n",
       "    }\n",
       "\n",
       "    .colab-df-convert {\n",
       "      background-color: #E8F0FE;\n",
       "      border: none;\n",
       "      border-radius: 50%;\n",
       "      cursor: pointer;\n",
       "      display: none;\n",
       "      fill: #1967D2;\n",
       "      height: 32px;\n",
       "      padding: 0 0 0 0;\n",
       "      width: 32px;\n",
       "    }\n",
       "\n",
       "    .colab-df-convert:hover {\n",
       "      background-color: #E2EBFA;\n",
       "      box-shadow: 0px 1px 2px rgba(60, 64, 67, 0.3), 0px 1px 3px 1px rgba(60, 64, 67, 0.15);\n",
       "      fill: #174EA6;\n",
       "    }\n",
       "\n",
       "    [theme=dark] .colab-df-convert {\n",
       "      background-color: #3B4455;\n",
       "      fill: #D2E3FC;\n",
       "    }\n",
       "\n",
       "    [theme=dark] .colab-df-convert:hover {\n",
       "      background-color: #434B5C;\n",
       "      box-shadow: 0px 1px 3px 1px rgba(0, 0, 0, 0.15);\n",
       "      filter: drop-shadow(0px 1px 2px rgba(0, 0, 0, 0.3));\n",
       "      fill: #FFFFFF;\n",
       "    }\n",
       "  </style>\n",
       "\n",
       "      <script>\n",
       "        const buttonEl =\n",
       "          document.querySelector('#df-37e09014-8512-4ae5-ad71-2e509c3d1069 button.colab-df-convert');\n",
       "        buttonEl.style.display =\n",
       "          google.colab.kernel.accessAllowed ? 'block' : 'none';\n",
       "\n",
       "        async function convertToInteractive(key) {\n",
       "          const element = document.querySelector('#df-37e09014-8512-4ae5-ad71-2e509c3d1069');\n",
       "          const dataTable =\n",
       "            await google.colab.kernel.invokeFunction('convertToInteractive',\n",
       "                                                     [key], {});\n",
       "          if (!dataTable) return;\n",
       "\n",
       "          const docLinkHtml = 'Like what you see? Visit the ' +\n",
       "            '<a target=\"_blank\" href=https://colab.research.google.com/notebooks/data_table.ipynb>data table notebook</a>'\n",
       "            + ' to learn more about interactive tables.';\n",
       "          element.innerHTML = '';\n",
       "          dataTable['output_type'] = 'display_data';\n",
       "          await google.colab.output.renderOutput(dataTable, element);\n",
       "          const docLink = document.createElement('div');\n",
       "          docLink.innerHTML = docLinkHtml;\n",
       "          element.appendChild(docLink);\n",
       "        }\n",
       "      </script>\n",
       "    </div>\n",
       "  </div>\n",
       "  "
      ],
      "text/plain": [
       "                    classifier  train_accuracy  test_accuracy  train_f1  \\\n",
       "0           LogisticRegression        0.993056       0.759259  0.992819   \n",
       "1       DecisionTreeClassifier        1.000000       0.592593  1.000000   \n",
       "2       RandomForestClassifier        1.000000       0.824074  1.000000   \n",
       "3                          SVC        0.939815       0.740741  0.939059   \n",
       "4         KNeighborsClassifier        0.861111       0.712963  0.854682   \n",
       "5                   GaussianNB        0.918981       0.712963  0.913904   \n",
       "6   GradientBoostingClassifier        1.000000       0.638889  1.000000   \n",
       "7           AdaBoostClassifier        0.162037       0.101852  0.074479   \n",
       "8            BaggingClassifier        0.995370       0.777778  0.995389   \n",
       "9         ExtraTreesClassifier        1.000000       0.842593  1.000000   \n",
       "10               MLPClassifier        1.000000       0.768519  1.000000   \n",
       "11             DummyClassifier        0.048611       0.037037  0.004507   \n",
       "\n",
       "     test_f1  train_precision  test_precision  train_recall  test_recall  \n",
       "0   0.762350         0.993530        0.824295      0.993056     0.759259  \n",
       "1   0.590677         1.000000        0.661596      1.000000     0.592593  \n",
       "2   0.822244         1.000000        0.885825      1.000000     0.824074  \n",
       "3   0.731763         0.943738        0.823765      0.939815     0.740741  \n",
       "4   0.703453         0.882495        0.790348      0.861111     0.712963  \n",
       "5   0.699369         0.926831        0.741402      0.918981     0.712963  \n",
       "6   0.649793         1.000000        0.716852      1.000000     0.638889  \n",
       "7   0.036503         0.098460        0.035642      0.162037     0.101852  \n",
       "8   0.772694         0.995773        0.827712      0.995370     0.777778  \n",
       "9   0.843364         1.000000        0.879321      1.000000     0.842593  \n",
       "10  0.760061         1.000000        0.789308      1.000000     0.768519  \n",
       "11  0.002646         0.002363        0.001372      0.048611     0.037037  "
      ]
     },
     "execution_count": 138,
     "metadata": {},
     "output_type": "execute_result"
    }
   ],
   "source": [
    "results_reduced_features"
   ]
  },
  {
   "cell_type": "markdown",
   "metadata": {
    "id": "RkgrJQCEtwUZ",
    "pycharm": {
     "name": "#%% md\n"
    }
   },
   "source": [
    "##\"Old\" code"
   ]
  },
  {
   "cell_type": "code",
   "execution_count": null,
   "metadata": {
    "id": "4AUWMg68WfT3",
    "pycharm": {
     "name": "#%%\n"
    }
   },
   "outputs": [],
   "source": [
    "test_scores_default = {}"
   ]
  },
  {
   "cell_type": "markdown",
   "metadata": {
    "id": "tgfn3gH4L_As",
    "pycharm": {
     "name": "#%% md\n"
    }
   },
   "source": [
    "Random forest with default hyperparameters and the default preprocessing pipeline"
   ]
  },
  {
   "cell_type": "code",
   "execution_count": null,
   "metadata": {
    "colab": {
     "base_uri": "https://localhost:8080/"
    },
    "id": "EagsCfTcMC8-",
    "outputId": "4f12ea9b-ad94-4cb7-fee1-feb2a8572395",
    "pycharm": {
     "name": "#%%\n"
    }
   },
   "outputs": [
    {
     "name": "stdout",
     "output_type": "stream",
     "text": [
      "Score for Random Forest with default hyperparameters:\n",
      "Test Accuracy: 0.8907407407407407\n"
     ]
    }
   ],
   "source": [
    "from sklearn.model_selection import GridSearchCV\n",
    "from sklearn.model_selection import RandomizedSearchCV\n",
    "from sklearn.ensemble import RandomForestClassifier\n",
    "\n",
    "train_df = run_data_pipeline(training_features)\n",
    "test_df = run_data_pipeline(test_features)\n",
    "\n",
    "rf = RandomForestClassifier(random_state=1234)\n",
    "rf.fit(train_df, training_labels)\n",
    "test_scores_default['RandomForest'] = rf.score(test_df, test_labels)\n",
    "\n",
    "print(\"Score for Random Forest with default hyperparameters:\")\n",
    "print(f\"Test Accuracy: {test_scores_default['RandomForest']}\")\n",
    "#print(test_scores['RandomForest'])"
   ]
  },
  {
   "cell_type": "markdown",
   "metadata": {
    "id": "y482KqaswFeB",
    "pycharm": {
     "name": "#%% md\n"
    }
   },
   "source": [
    "Still random forest, but try using different preprocessing parameters (higher cap for outlier capping and mean as imputation method insetad)"
   ]
  },
  {
   "cell_type": "code",
   "execution_count": null,
   "metadata": {
    "colab": {
     "base_uri": "https://localhost:8080/"
    },
    "id": "CSoN3I4Suo6D",
    "outputId": "53f1d213-9a0a-4cf7-9dc1-c8fa37480cc7",
    "pycharm": {
     "name": "#%%\n"
    }
   },
   "outputs": [
    {
     "name": "stdout",
     "output_type": "stream",
     "text": [
      "Score for Random Forest with default hyperparameters:\n",
      "Test Accuracy: 0.8944444444444445\n"
     ]
    }
   ],
   "source": [
    "from sklearn.model_selection import GridSearchCV\n",
    "from sklearn.model_selection import RandomizedSearchCV\n",
    "from sklearn.ensemble import RandomForestClassifier\n",
    "\n",
    "train_df = run_data_pipeline(training_features, std_cap = 6, impute_method=\"mean\")\n",
    "test_df = run_data_pipeline(test_features, std_cap = 6, impute_method=\"mean\")\n",
    "\n",
    "rf = RandomForestClassifier(random_state=1234) # Fix random state for reproducible results\n",
    "rf.fit(train_df, training_labels)\n",
    "test_scores_default['RandomForest_cap_6_mean'] = rf.score(test_df, test_labels)\n",
    "\n",
    "print(\"Score for Random Forest with default hyperparameters:\")\n",
    "print(f\"Test Accuracy: {test_scores_default['RandomForest_cap_6_mean']}\")\n",
    "#print(test_scores['RandomForest'])"
   ]
  },
  {
   "cell_type": "markdown",
   "metadata": {
    "id": "WZJy7TrO05IH",
    "pycharm": {
     "name": "#%% md\n"
    }
   },
   "source": [
    "At least with the default parameters for the Random Forest, we get slightly higher result on the test set by increasing the cap and changing to mean imputation.\n",
    "\n",
    "By capping we are reducing the amount of information in the dataset, so it makes sense that a classifier that can make use of the outlier information could potentially perform better (or increase risks of overfitting as well)."
   ]
  },
  {
   "cell_type": "markdown",
   "metadata": {
    "id": "HsyfK4_8Rdz1",
    "pycharm": {
     "name": "#%% md\n"
    }
   },
   "source": [
    "Optimizing hyperparameters for random forest with GridSearchCV:"
   ]
  },
  {
   "cell_type": "code",
   "execution_count": null,
   "metadata": {
    "colab": {
     "base_uri": "https://localhost:8080/",
     "height": 363
    },
    "id": "gi7Gq7ueMczx",
    "outputId": "1d532ef1-a0c4-41bf-c430-a553bb1de001",
    "pycharm": {
     "name": "#%%\n"
    }
   },
   "outputs": [
    {
     "name": "stdout",
     "output_type": "stream",
     "text": [
      "Fitting 5 folds for each of 360 candidates, totalling 1800 fits\n"
     ]
    },
    {
     "ename": "KeyboardInterrupt",
     "evalue": "ignored",
     "output_type": "error",
     "traceback": [
      "\u001b[0;31m---------------------------------------------------------------------------\u001b[0m",
      "\u001b[0;31mKeyboardInterrupt\u001b[0m                         Traceback (most recent call last)",
      "\u001b[0;32m<ipython-input-38-8621fb362093>\u001b[0m in \u001b[0;36m<module>\u001b[0;34m\u001b[0m\n\u001b[1;32m     29\u001b[0m \u001b[0mrf_grid\u001b[0m \u001b[0;34m=\u001b[0m  \u001b[0mGridSearchCV\u001b[0m\u001b[0;34m(\u001b[0m\u001b[0mestimator\u001b[0m \u001b[0;34m=\u001b[0m \u001b[0mrf\u001b[0m\u001b[0;34m,\u001b[0m \u001b[0mparam_grid\u001b[0m \u001b[0;34m=\u001b[0m \u001b[0mparam_grid\u001b[0m\u001b[0;34m,\u001b[0m \u001b[0mcv\u001b[0m \u001b[0;34m=\u001b[0m \u001b[0;36m5\u001b[0m\u001b[0;34m,\u001b[0m \u001b[0mverbose\u001b[0m\u001b[0;34m=\u001b[0m\u001b[0;36m2\u001b[0m\u001b[0;34m,\u001b[0m \u001b[0mn_jobs\u001b[0m \u001b[0;34m=\u001b[0m \u001b[0;36m4\u001b[0m\u001b[0;34m)\u001b[0m\u001b[0;34m\u001b[0m\u001b[0;34m\u001b[0m\u001b[0m\n\u001b[1;32m     30\u001b[0m \u001b[0;31m# Fit the random search model\u001b[0m\u001b[0;34m\u001b[0m\u001b[0;34m\u001b[0m\u001b[0;34m\u001b[0m\u001b[0m\n\u001b[0;32m---> 31\u001b[0;31m \u001b[0mrf_grid\u001b[0m\u001b[0;34m.\u001b[0m\u001b[0mfit\u001b[0m\u001b[0;34m(\u001b[0m\u001b[0mtrain_df\u001b[0m\u001b[0;34m,\u001b[0m \u001b[0mtraining_labels\u001b[0m\u001b[0;34m)\u001b[0m\u001b[0;34m\u001b[0m\u001b[0;34m\u001b[0m\u001b[0m\n\u001b[0m",
      "\u001b[0;32m/usr/local/lib/python3.7/dist-packages/sklearn/model_selection/_search.py\u001b[0m in \u001b[0;36mfit\u001b[0;34m(self, X, y, groups, **fit_params)\u001b[0m\n\u001b[1;32m    889\u001b[0m                 \u001b[0;32mreturn\u001b[0m \u001b[0mresults\u001b[0m\u001b[0;34m\u001b[0m\u001b[0;34m\u001b[0m\u001b[0m\n\u001b[1;32m    890\u001b[0m \u001b[0;34m\u001b[0m\u001b[0m\n\u001b[0;32m--> 891\u001b[0;31m             \u001b[0mself\u001b[0m\u001b[0;34m.\u001b[0m\u001b[0m_run_search\u001b[0m\u001b[0;34m(\u001b[0m\u001b[0mevaluate_candidates\u001b[0m\u001b[0;34m)\u001b[0m\u001b[0;34m\u001b[0m\u001b[0;34m\u001b[0m\u001b[0m\n\u001b[0m\u001b[1;32m    892\u001b[0m \u001b[0;34m\u001b[0m\u001b[0m\n\u001b[1;32m    893\u001b[0m             \u001b[0;31m# multimetric is determined here because in the case of a callable\u001b[0m\u001b[0;34m\u001b[0m\u001b[0;34m\u001b[0m\u001b[0;34m\u001b[0m\u001b[0m\n",
      "\u001b[0;32m/usr/local/lib/python3.7/dist-packages/sklearn/model_selection/_search.py\u001b[0m in \u001b[0;36m_run_search\u001b[0;34m(self, evaluate_candidates)\u001b[0m\n\u001b[1;32m   1390\u001b[0m     \u001b[0;32mdef\u001b[0m \u001b[0m_run_search\u001b[0m\u001b[0;34m(\u001b[0m\u001b[0mself\u001b[0m\u001b[0;34m,\u001b[0m \u001b[0mevaluate_candidates\u001b[0m\u001b[0;34m)\u001b[0m\u001b[0;34m:\u001b[0m\u001b[0;34m\u001b[0m\u001b[0;34m\u001b[0m\u001b[0m\n\u001b[1;32m   1391\u001b[0m         \u001b[0;34m\"\"\"Search all candidates in param_grid\"\"\"\u001b[0m\u001b[0;34m\u001b[0m\u001b[0;34m\u001b[0m\u001b[0m\n\u001b[0;32m-> 1392\u001b[0;31m         \u001b[0mevaluate_candidates\u001b[0m\u001b[0;34m(\u001b[0m\u001b[0mParameterGrid\u001b[0m\u001b[0;34m(\u001b[0m\u001b[0mself\u001b[0m\u001b[0;34m.\u001b[0m\u001b[0mparam_grid\u001b[0m\u001b[0;34m)\u001b[0m\u001b[0;34m)\u001b[0m\u001b[0;34m\u001b[0m\u001b[0;34m\u001b[0m\u001b[0m\n\u001b[0m\u001b[1;32m   1393\u001b[0m \u001b[0;34m\u001b[0m\u001b[0m\n\u001b[1;32m   1394\u001b[0m \u001b[0;34m\u001b[0m\u001b[0m\n",
      "\u001b[0;32m/usr/local/lib/python3.7/dist-packages/sklearn/model_selection/_search.py\u001b[0m in \u001b[0;36mevaluate_candidates\u001b[0;34m(candidate_params, cv, more_results)\u001b[0m\n\u001b[1;32m    849\u001b[0m                     )\n\u001b[1;32m    850\u001b[0m                     for (cand_idx, parameters), (split_idx, (train, test)) in product(\n\u001b[0;32m--> 851\u001b[0;31m                         \u001b[0menumerate\u001b[0m\u001b[0;34m(\u001b[0m\u001b[0mcandidate_params\u001b[0m\u001b[0;34m)\u001b[0m\u001b[0;34m,\u001b[0m \u001b[0menumerate\u001b[0m\u001b[0;34m(\u001b[0m\u001b[0mcv\u001b[0m\u001b[0;34m.\u001b[0m\u001b[0msplit\u001b[0m\u001b[0;34m(\u001b[0m\u001b[0mX\u001b[0m\u001b[0;34m,\u001b[0m \u001b[0my\u001b[0m\u001b[0;34m,\u001b[0m \u001b[0mgroups\u001b[0m\u001b[0;34m)\u001b[0m\u001b[0;34m)\u001b[0m\u001b[0;34m\u001b[0m\u001b[0;34m\u001b[0m\u001b[0m\n\u001b[0m\u001b[1;32m    852\u001b[0m                     )\n\u001b[1;32m    853\u001b[0m                 )\n",
      "\u001b[0;32m/usr/local/lib/python3.7/dist-packages/joblib/parallel.py\u001b[0m in \u001b[0;36m__call__\u001b[0;34m(self, iterable)\u001b[0m\n\u001b[1;32m   1096\u001b[0m \u001b[0;34m\u001b[0m\u001b[0m\n\u001b[1;32m   1097\u001b[0m             \u001b[0;32mwith\u001b[0m \u001b[0mself\u001b[0m\u001b[0;34m.\u001b[0m\u001b[0m_backend\u001b[0m\u001b[0;34m.\u001b[0m\u001b[0mretrieval_context\u001b[0m\u001b[0;34m(\u001b[0m\u001b[0;34m)\u001b[0m\u001b[0;34m:\u001b[0m\u001b[0;34m\u001b[0m\u001b[0;34m\u001b[0m\u001b[0m\n\u001b[0;32m-> 1098\u001b[0;31m                 \u001b[0mself\u001b[0m\u001b[0;34m.\u001b[0m\u001b[0mretrieve\u001b[0m\u001b[0;34m(\u001b[0m\u001b[0;34m)\u001b[0m\u001b[0;34m\u001b[0m\u001b[0;34m\u001b[0m\u001b[0m\n\u001b[0m\u001b[1;32m   1099\u001b[0m             \u001b[0;31m# Make sure that we get a last message telling us we are done\u001b[0m\u001b[0;34m\u001b[0m\u001b[0;34m\u001b[0m\u001b[0;34m\u001b[0m\u001b[0m\n\u001b[1;32m   1100\u001b[0m             \u001b[0melapsed_time\u001b[0m \u001b[0;34m=\u001b[0m \u001b[0mtime\u001b[0m\u001b[0;34m.\u001b[0m\u001b[0mtime\u001b[0m\u001b[0;34m(\u001b[0m\u001b[0;34m)\u001b[0m \u001b[0;34m-\u001b[0m \u001b[0mself\u001b[0m\u001b[0;34m.\u001b[0m\u001b[0m_start_time\u001b[0m\u001b[0;34m\u001b[0m\u001b[0;34m\u001b[0m\u001b[0m\n",
      "\u001b[0;32m/usr/local/lib/python3.7/dist-packages/joblib/parallel.py\u001b[0m in \u001b[0;36mretrieve\u001b[0;34m(self)\u001b[0m\n\u001b[1;32m    973\u001b[0m             \u001b[0;32mtry\u001b[0m\u001b[0;34m:\u001b[0m\u001b[0;34m\u001b[0m\u001b[0;34m\u001b[0m\u001b[0m\n\u001b[1;32m    974\u001b[0m                 \u001b[0;32mif\u001b[0m \u001b[0mgetattr\u001b[0m\u001b[0;34m(\u001b[0m\u001b[0mself\u001b[0m\u001b[0;34m.\u001b[0m\u001b[0m_backend\u001b[0m\u001b[0;34m,\u001b[0m \u001b[0;34m'supports_timeout'\u001b[0m\u001b[0;34m,\u001b[0m \u001b[0;32mFalse\u001b[0m\u001b[0;34m)\u001b[0m\u001b[0;34m:\u001b[0m\u001b[0;34m\u001b[0m\u001b[0;34m\u001b[0m\u001b[0m\n\u001b[0;32m--> 975\u001b[0;31m                     \u001b[0mself\u001b[0m\u001b[0;34m.\u001b[0m\u001b[0m_output\u001b[0m\u001b[0;34m.\u001b[0m\u001b[0mextend\u001b[0m\u001b[0;34m(\u001b[0m\u001b[0mjob\u001b[0m\u001b[0;34m.\u001b[0m\u001b[0mget\u001b[0m\u001b[0;34m(\u001b[0m\u001b[0mtimeout\u001b[0m\u001b[0;34m=\u001b[0m\u001b[0mself\u001b[0m\u001b[0;34m.\u001b[0m\u001b[0mtimeout\u001b[0m\u001b[0;34m)\u001b[0m\u001b[0;34m)\u001b[0m\u001b[0;34m\u001b[0m\u001b[0;34m\u001b[0m\u001b[0m\n\u001b[0m\u001b[1;32m    976\u001b[0m                 \u001b[0;32melse\u001b[0m\u001b[0;34m:\u001b[0m\u001b[0;34m\u001b[0m\u001b[0;34m\u001b[0m\u001b[0m\n\u001b[1;32m    977\u001b[0m                     \u001b[0mself\u001b[0m\u001b[0;34m.\u001b[0m\u001b[0m_output\u001b[0m\u001b[0;34m.\u001b[0m\u001b[0mextend\u001b[0m\u001b[0;34m(\u001b[0m\u001b[0mjob\u001b[0m\u001b[0;34m.\u001b[0m\u001b[0mget\u001b[0m\u001b[0;34m(\u001b[0m\u001b[0;34m)\u001b[0m\u001b[0;34m)\u001b[0m\u001b[0;34m\u001b[0m\u001b[0;34m\u001b[0m\u001b[0m\n",
      "\u001b[0;32m/usr/local/lib/python3.7/dist-packages/joblib/_parallel_backends.py\u001b[0m in \u001b[0;36mwrap_future_result\u001b[0;34m(future, timeout)\u001b[0m\n\u001b[1;32m    565\u001b[0m         AsyncResults.get from multiprocessing.\"\"\"\n\u001b[1;32m    566\u001b[0m         \u001b[0;32mtry\u001b[0m\u001b[0;34m:\u001b[0m\u001b[0;34m\u001b[0m\u001b[0;34m\u001b[0m\u001b[0m\n\u001b[0;32m--> 567\u001b[0;31m             \u001b[0;32mreturn\u001b[0m \u001b[0mfuture\u001b[0m\u001b[0;34m.\u001b[0m\u001b[0mresult\u001b[0m\u001b[0;34m(\u001b[0m\u001b[0mtimeout\u001b[0m\u001b[0;34m=\u001b[0m\u001b[0mtimeout\u001b[0m\u001b[0;34m)\u001b[0m\u001b[0;34m\u001b[0m\u001b[0;34m\u001b[0m\u001b[0m\n\u001b[0m\u001b[1;32m    568\u001b[0m         \u001b[0;32mexcept\u001b[0m \u001b[0mCfTimeoutError\u001b[0m \u001b[0;32mas\u001b[0m \u001b[0me\u001b[0m\u001b[0;34m:\u001b[0m\u001b[0;34m\u001b[0m\u001b[0;34m\u001b[0m\u001b[0m\n\u001b[1;32m    569\u001b[0m             \u001b[0;32mraise\u001b[0m \u001b[0mTimeoutError\u001b[0m \u001b[0;32mfrom\u001b[0m \u001b[0me\u001b[0m\u001b[0;34m\u001b[0m\u001b[0;34m\u001b[0m\u001b[0m\n",
      "\u001b[0;32m/usr/lib/python3.7/concurrent/futures/_base.py\u001b[0m in \u001b[0;36mresult\u001b[0;34m(self, timeout)\u001b[0m\n\u001b[1;32m    428\u001b[0m                 \u001b[0;32mreturn\u001b[0m \u001b[0mself\u001b[0m\u001b[0;34m.\u001b[0m\u001b[0m__get_result\u001b[0m\u001b[0;34m(\u001b[0m\u001b[0;34m)\u001b[0m\u001b[0;34m\u001b[0m\u001b[0;34m\u001b[0m\u001b[0m\n\u001b[1;32m    429\u001b[0m \u001b[0;34m\u001b[0m\u001b[0m\n\u001b[0;32m--> 430\u001b[0;31m             \u001b[0mself\u001b[0m\u001b[0;34m.\u001b[0m\u001b[0m_condition\u001b[0m\u001b[0;34m.\u001b[0m\u001b[0mwait\u001b[0m\u001b[0;34m(\u001b[0m\u001b[0mtimeout\u001b[0m\u001b[0;34m)\u001b[0m\u001b[0;34m\u001b[0m\u001b[0;34m\u001b[0m\u001b[0m\n\u001b[0m\u001b[1;32m    431\u001b[0m \u001b[0;34m\u001b[0m\u001b[0m\n\u001b[1;32m    432\u001b[0m             \u001b[0;32mif\u001b[0m \u001b[0mself\u001b[0m\u001b[0;34m.\u001b[0m\u001b[0m_state\u001b[0m \u001b[0;32min\u001b[0m \u001b[0;34m[\u001b[0m\u001b[0mCANCELLED\u001b[0m\u001b[0;34m,\u001b[0m \u001b[0mCANCELLED_AND_NOTIFIED\u001b[0m\u001b[0;34m]\u001b[0m\u001b[0;34m:\u001b[0m\u001b[0;34m\u001b[0m\u001b[0;34m\u001b[0m\u001b[0m\n",
      "\u001b[0;32m/usr/lib/python3.7/threading.py\u001b[0m in \u001b[0;36mwait\u001b[0;34m(self, timeout)\u001b[0m\n\u001b[1;32m    294\u001b[0m         \u001b[0;32mtry\u001b[0m\u001b[0;34m:\u001b[0m    \u001b[0;31m# restore state no matter what (e.g., KeyboardInterrupt)\u001b[0m\u001b[0;34m\u001b[0m\u001b[0;34m\u001b[0m\u001b[0m\n\u001b[1;32m    295\u001b[0m             \u001b[0;32mif\u001b[0m \u001b[0mtimeout\u001b[0m \u001b[0;32mis\u001b[0m \u001b[0;32mNone\u001b[0m\u001b[0;34m:\u001b[0m\u001b[0;34m\u001b[0m\u001b[0;34m\u001b[0m\u001b[0m\n\u001b[0;32m--> 296\u001b[0;31m                 \u001b[0mwaiter\u001b[0m\u001b[0;34m.\u001b[0m\u001b[0macquire\u001b[0m\u001b[0;34m(\u001b[0m\u001b[0;34m)\u001b[0m\u001b[0;34m\u001b[0m\u001b[0;34m\u001b[0m\u001b[0m\n\u001b[0m\u001b[1;32m    297\u001b[0m                 \u001b[0mgotit\u001b[0m \u001b[0;34m=\u001b[0m \u001b[0;32mTrue\u001b[0m\u001b[0;34m\u001b[0m\u001b[0;34m\u001b[0m\u001b[0m\n\u001b[1;32m    298\u001b[0m             \u001b[0;32melse\u001b[0m\u001b[0;34m:\u001b[0m\u001b[0;34m\u001b[0m\u001b[0;34m\u001b[0m\u001b[0m\n",
      "\u001b[0;31mKeyboardInterrupt\u001b[0m: "
     ]
    }
   ],
   "source": [
    "'''\n",
    "# Number of trees in random forest\n",
    "n_estimators = [int(x) for x in np.linspace(start = 80, stop = 120, num = 5)]\n",
    "# Number of features to consider at every split\n",
    "max_features = ['auto', 'sqrt']\n",
    "# Maximum number of levels in tree\n",
    "max_depth = [8, 16, 32]\n",
    "# Minimum number of samples required to split a node\n",
    "min_samples_split = [8, 16, 32]\n",
    "# Minimum number of samples required at each leaf node\n",
    "min_samples_leaf = [2, 4]\n",
    "# Method of selecting samples for training each tree\n",
    "bootstrap = [True, False]\n",
    "# Create the random grid\n",
    "param_grid = {'n_estimators': n_estimators,\n",
    "               'max_features': max_features,\n",
    "               'max_depth': max_depth,\n",
    "               'min_samples_split': min_samples_split,\n",
    "               'min_samples_leaf': min_samples_leaf,\n",
    "               'bootstrap': bootstrap}\n",
    "\n",
    "train_df = run_data_pipeline(training_features)\n",
    "test_df = run_data_pipeline(test_features)\n",
    "\n",
    "# Use the random grid to search for best hyperparameters\n",
    "# First create the base model to tune\n",
    "rf = RandomForestClassifier()\n",
    "# Random search of parameters, using 5 fold cross validation, \n",
    "# search across 360 different combinations, and use all available cores\n",
    "rf_grid =  GridSearchCV(estimator = rf, param_grid = param_grid, cv = 5, verbose=2, n_jobs = 4)\n",
    "# Fit the random search model\n",
    "rf_grid.fit(train_df, training_labels)\n",
    "'''"
   ]
  },
  {
   "cell_type": "code",
   "execution_count": null,
   "metadata": {
    "id": "pQn1SHqfUNDm",
    "pycharm": {
     "name": "#%%\n"
    }
   },
   "outputs": [],
   "source": [
    "rf_grid.score(test_df, test_labels)\n",
    "#rf_grid.best_params_"
   ]
  },
  {
   "cell_type": "code",
   "execution_count": null,
   "metadata": {
    "id": "xAfVVNPXNBw_",
    "pycharm": {
     "name": "#%%\n"
    }
   },
   "outputs": [],
   "source": [
    "'''\n",
    "{'bootstrap': False,\n",
    " 'max_depth': 16,\n",
    " 'max_features': 'sqrt',\n",
    " 'min_samples_leaf': 2,\n",
    " 'min_samples_split': 8,\n",
    " 'n_estimators': 90}\n",
    "\n",
    "score = 0.9055555555555556\n",
    "'''"
   ]
  },
  {
   "cell_type": "markdown",
   "metadata": {
    "id": "7A_MttPXQlTf",
    "pycharm": {
     "name": "#%% md\n"
    }
   },
   "source": [
    "Decision tree with default parameters:"
   ]
  },
  {
   "cell_type": "code",
   "execution_count": null,
   "metadata": {
    "id": "nnPW5r0HQtgD",
    "pycharm": {
     "name": "#%%\n"
    }
   },
   "outputs": [],
   "source": [
    "from sklearn import tree\n",
    "\n",
    "decision_tree = tree.DecisionTreeClassifier()\n",
    "decision_tree.fit(train_df, training_labels)\n",
    "test_scores_default['tree'] = decision_tree.score(test_df, test_labels)\n",
    "\n",
    "print(\"Score for Decision Tree with default hyperparameters:\")\n",
    "print(f\"Test Accuracy: {test_scores_default['tree']}\")"
   ]
  },
  {
   "cell_type": "markdown",
   "metadata": {
    "id": "EAO4wYe7UuQc",
    "pycharm": {
     "name": "#%% md\n"
    }
   },
   "source": [
    "MLP with default hyperparameters:"
   ]
  },
  {
   "cell_type": "code",
   "execution_count": null,
   "metadata": {
    "id": "NbBE9yBtUvOr",
    "pycharm": {
     "name": "#%%\n"
    }
   },
   "outputs": [],
   "source": [
    "from sklearn.neural_network import MLPClassifier\n",
    "\n",
    "MLP = MLPClassifier()\n",
    "MLP.fit(train_df, training_labels)\n",
    "test_scores_default['MLP'] = MLP.score(test_df, test_labels)\n",
    "\n",
    "print(\"Score for MLP with default hyperparameters:\")\n",
    "print(f\"Test Accuracy: {test_scores_default['MLP']}\")"
   ]
  },
  {
   "cell_type": "markdown",
   "metadata": {
    "id": "hWItiQLkV7_H",
    "pycharm": {
     "name": "#%% md\n"
    }
   },
   "source": [
    "SVM with default hyperparameters:"
   ]
  },
  {
   "cell_type": "code",
   "execution_count": null,
   "metadata": {
    "id": "XUP2ZzsBV_hZ",
    "pycharm": {
     "name": "#%%\n"
    }
   },
   "outputs": [],
   "source": [
    "from sklearn import svm\n",
    "\n",
    "svm_model = svm.SVC(kernel = 'linear',gamma = 'scale', shrinking = False,)\n",
    "svm_model.fit(train_df, training_labels)\n",
    "test_scores_default['SVM'] = svm_model.score(test_df, test_labels)\n",
    "\n",
    "print(\"Score for SVM with default hyperparameters:\")\n",
    "print(f\"Test Accuracy: {test_scores_default['SVM']}\")"
   ]
  },
  {
   "cell_type": "markdown",
   "metadata": {
    "id": "NbgiQw7bXWTg",
    "pycharm": {
     "name": "#%% md\n"
    }
   },
   "source": [
    "kNN with default hyperparameters:"
   ]
  },
  {
   "cell_type": "code",
   "execution_count": null,
   "metadata": {
    "id": "8glEVEIjXY3M",
    "pycharm": {
     "name": "#%%\n"
    }
   },
   "outputs": [],
   "source": [
    "from sklearn.neighbors import KNeighborsClassifier\n",
    "\n",
    "kNN = KNeighborsClassifier(n_neighbors=3)\n",
    "kNN.fit(train_df, training_labels)\n",
    "test_scores_default['kNN'] = kNN.score(test_df, test_labels)\n",
    "\n",
    "print(\"Score for kNN with default hyperparameters:\")\n",
    "print(f\"Test Accuracy: {test_scores_default['kNN']}\")"
   ]
  },
  {
   "cell_type": "code",
   "execution_count": null,
   "metadata": {
    "id": "F9ynhyLWXpq-",
    "pycharm": {
     "name": "#%%\n"
    }
   },
   "outputs": [],
   "source": [
    "print(\"All scores with default hyperparameters:\")\n",
    "print(test_scores_default)"
   ]
  },
  {
   "cell_type": "code",
   "execution_count": null,
   "metadata": {
    "id": "6V8jJ0qUBlMQ",
    "pycharm": {
     "name": "#%%\n"
    }
   },
   "outputs": [],
   "source": [
    "# suppress warnings\n",
    "import warnings\n",
    "warnings.filterwarnings(\"ignore\")\n",
    "\n",
    "# train a model with every classifier in sklearn and evaluate on both train and test set\n",
    "from sklearn.linear_model import LogisticRegression\n",
    "from sklearn.tree import DecisionTreeClassifier\n",
    "from sklearn.ensemble import RandomForestClassifier\n",
    "from sklearn.svm import SVC\n",
    "from sklearn.neighbors import KNeighborsClassifier\n",
    "from sklearn.naive_bayes import GaussianNB\n",
    "from sklearn.ensemble import GradientBoostingClassifier\n",
    "from sklearn.ensemble import AdaBoostClassifier\n",
    "from sklearn.ensemble import BaggingClassifier\n",
    "from sklearn.ensemble import ExtraTreesClassifier\n",
    "from sklearn.neural_network import MLPClassifier\n",
    "\n",
    "from sklearn.metrics import accuracy_score\n",
    "from sklearn.metrics import confusion_matrix\n",
    "from sklearn.metrics import classification_report\n",
    "# import dummy classifier\n",
    "from sklearn.dummy import DummyClassifier\n",
    "\n",
    "# import classifications metrics\n",
    "from sklearn.metrics import accuracy_score\n",
    "from sklearn.metrics import f1_score\n",
    "from sklearn.metrics import precision_score\n",
    "from sklearn.metrics import recall_score\n",
    "from sklearn.metrics import roc_auc_score\n",
    "\n",
    "#import train_test_split\n",
    "from sklearn.model_selection import train_test_split\n",
    "X = train_df\n",
    "y = training_labels\n",
    "X_train, X_test, y_train, y_test = train_test_split(X, y, test_size=0.2, random_state=42)\n",
    "\n",
    "classifiers = [\n",
    "    LogisticRegression(),\n",
    "    DecisionTreeClassifier(),\n",
    "    RandomForestClassifier(),\n",
    "    SVC(),\n",
    "    KNeighborsClassifier(),\n",
    "    GaussianNB(),\n",
    "    GradientBoostingClassifier(),\n",
    "    AdaBoostClassifier(),\n",
    "    BaggingClassifier(),\n",
    "    ExtraTreesClassifier(),\n",
    "    MLPClassifier(),\n",
    "    # use dummy classifier to get a baseline\n",
    "    DummyClassifier(strategy=\"most_frequent\")\n",
    "]\n",
    "\n",
    "# initialize a dataframe to store the results\n",
    "df_results_all = pd.DataFrame(columns=[\"classifier\", \"train_accuracy\", \"test_accuracy\", \"train_f1\", \"test_f1\", \"train_precision\", \"test_precision\", \"train_recall\", \"test_recall\"])\n",
    "\n",
    "for clf in classifiers:\n",
    "    clf.fit(X_train, y_train)\n",
    "    y_test_pred = clf.predict(X_test)\n",
    "    y_train_pred = clf.predict(X_train)\n",
    "    print(\"Training\")\n",
    "    print(f\"Classifier: {clf.__class__.__name__}\")\n",
    "\n",
    "    # save the evaluation results in a dataframe\n",
    "    df_results = pd.DataFrame({\"classifier\": [clf.__class__.__name__],\n",
    "                                 \"train_accuracy\": [accuracy_score(y_train, y_train_pred)],\n",
    "                                    \"test_accuracy\": [accuracy_score(y_test, y_test_pred)],\n",
    "                                    \"train_f1\": [f1_score(y_train, y_train_pred, average='weighted')],\n",
    "                                    \"test_f1\": [f1_score(y_test, y_test_pred, average='weighted')],\n",
    "                                    \"train_precision\": [precision_score(y_train, y_train_pred, average='weighted')],\n",
    "                                    \"test_precision\": [precision_score(y_test, y_test_pred, average='weighted')],\n",
    "                                    \"train_recall\": [recall_score(y_train, y_train_pred, average='weighted')],\n",
    "                                    \"test_recall\": [recall_score(y_test, y_test_pred, average='weighted')],\n",
    "                                    })\n",
    "    # append the results to the dataframe\n",
    "    df_results_all = df_results_all.append(df_results, ignore_index=True)\n",
    "\n",
    "df_results_all"
   ]
  },
  {
   "cell_type": "code",
   "execution_count": null,
   "metadata": {
    "colab": {
     "base_uri": "https://localhost:8080/"
    },
    "id": "0z5bd_1ECtf0",
    "outputId": "6b98ee27-bc15-4160-a80b-b1243ba6e2ce",
    "pycharm": {
     "name": "#%%\n"
    }
   },
   "outputs": [
    {
     "data": {
      "text/plain": [
       "RandomForestClassifier()"
      ]
     },
     "execution_count": 122,
     "metadata": {},
     "output_type": "execute_result"
    }
   ],
   "source": [
    "rf = RandomForestClassifier()\n",
    "rf.fit(X_train, y_train)"
   ]
  },
  {
   "cell_type": "code",
   "execution_count": null,
   "metadata": {
    "colab": {
     "base_uri": "https://localhost:8080/",
     "height": 282
    },
    "id": "bB4uqvJdFrff",
    "outputId": "e26c11bc-9ffe-4171-fbe0-2ab68b8972a3",
    "pycharm": {
     "name": "#%%\n"
    }
   },
   "outputs": [
    {
     "data": {
      "text/plain": [
       "<matplotlib.axes._subplots.AxesSubplot at 0x7fedfdd46b50>"
      ]
     },
     "execution_count": 123,
     "metadata": {},
     "output_type": "execute_result"
    },
    {
     "data": {
      "image/png": "[encoded data removed]",
      "text/plain": [
       "<Figure size 432x288 with 1 Axes>"
      ]
     },
     "metadata": {
      "needs_background": "light"
     },
     "output_type": "display_data"
    }
   ],
   "source": [
    "df_feat_imp = pd.DataFrame(zip(train_df.columns, rf.feature_importances_), columns=[\"feat\", \"feat_imp\"]).sort_values(\"feat_imp\", ascending=False).reset_index(drop=True)#\n",
    "df_feat_imp.feat_imp.plot()"
   ]
  },
  {
   "cell_type": "code",
   "execution_count": null,
   "metadata": {
    "id": "ZJH44WiuG1v9",
    "pycharm": {
     "name": "#%%\n"
    }
   },
   "outputs": [],
   "source": [
    "feats_to_test = df_feat_imp.loc[:45, \"feat\"].values.tolist()\n",
    "\n",
    "X = train_df[feats_to_test].copy()\n",
    "y = training_labels\n",
    "X_train, X_test, y_train, y_test = train_test_split(X, y, test_size=0.2, random_state=42)\n",
    "\n",
    "classifiers = [\n",
    "    LogisticRegression(),\n",
    "    DecisionTreeClassifier(),\n",
    "    RandomForestClassifier(),\n",
    "    SVC(),\n",
    "    KNeighborsClassifier(),\n",
    "    GaussianNB(),\n",
    "    GradientBoostingClassifier(),\n",
    "    AdaBoostClassifier(),\n",
    "    BaggingClassifier(),\n",
    "    ExtraTreesClassifier(),\n",
    "    MLPClassifier(),\n",
    "    # use dummy classifier to get a baseline\n",
    "    DummyClassifier(strategy=\"most_frequent\")\n",
    "]\n",
    "\n",
    "# initialize a dataframe to store the results\n",
    "df_results_all = pd.DataFrame(columns=[\"classifier\", \"train_accuracy\", \"test_accuracy\", \"train_f1\", \"test_f1\", \"train_precision\", \"test_precision\", \"train_recall\", \"test_recall\"])\n",
    "\n",
    "for clf in classifiers:\n",
    "    clf.fit(X_train, y_train)\n",
    "    y_test_pred = clf.predict(X_test)\n",
    "    y_train_pred = clf.predict(X_train)\n",
    "    print(\"Training\")\n",
    "    print(f\"Classifier: {clf.__class__.__name__}\")\n",
    "\n",
    "    # save the evaluation results in a dataframe\n",
    "    df_results = pd.DataFrame({\"classifier\": [clf.__class__.__name__],\n",
    "                                 \"train_accuracy\": [accuracy_score(y_train, y_train_pred)],\n",
    "                                    \"test_accuracy\": [accuracy_score(y_test, y_test_pred)],\n",
    "                                    \"train_f1\": [f1_score(y_train, y_train_pred, average='weighted')],\n",
    "                                    \"test_f1\": [f1_score(y_test, y_test_pred, average='weighted')],\n",
    "                                    \"train_precision\": [precision_score(y_train, y_train_pred, average='weighted')],\n",
    "                                    \"test_precision\": [precision_score(y_test, y_test_pred, average='weighted')],\n",
    "                                    \"train_recall\": [recall_score(y_train, y_train_pred, average='weighted')],\n",
    "                                    \"test_recall\": [recall_score(y_test, y_test_pred, average='weighted')],\n",
    "                                    })\n",
    "    # append the results to the dataframe\n",
    "    df_results_all = df_results_all.append(df_results, ignore_index=True)\n",
    "\n",
    "df_results_all"
   ]
  },
  {
   "cell_type": "code",
   "execution_count": null,
   "metadata": {
    "id": "Z6s1G_VWT3RS",
    "pycharm": {
     "name": "#%%\n"
    }
   },
   "outputs": [],
   "source": [
    "train_df.head()"
   ]
  },
  {
   "cell_type": "code",
   "execution_count": null,
   "metadata": {
    "id": "bD_uv4DEU6hK",
    "pycharm": {
     "name": "#%%\n"
    }
   },
   "outputs": [],
   "source": [
    "training_codes.shape"
   ]
  },
  {
   "cell_type": "code",
   "execution_count": null,
   "metadata": {
    "id": "njCNl3mkVVee",
    "pycharm": {
     "name": "#%%\n"
    }
   },
   "outputs": [],
   "source": [
    "df = pd.read_csv('train-final.csv', header=None)\n",
    "df.head()"
   ]
  },
  {
   "cell_type": "code",
   "execution_count": null,
   "metadata": {
    "id": "-UzkFJAZV1ne",
    "pycharm": {
     "name": "#%%\n"
    }
   },
   "outputs": [],
   "source": [
    "X_train.mean()"
   ]
  },
  {
   "cell_type": "code",
   "execution_count": null,
   "metadata": {
    "colab": {
     "base_uri": "https://localhost:8080/",
     "height": 502
    },
    "id": "olRV7BryLC5Y",
    "lines_to_next_cell": 2,
    "outputId": "6fd54bd8-f3bb-43c4-f48f-ff9e13593bee",
    "pycharm": {
     "name": "#%%\n"
    }
   },
   "outputs": [
    {
     "ename": "KeyError",
     "evalue": "ignored",
     "output_type": "error",
     "traceback": [
      "\u001b[0;31m---------------------------------------------------------------------------\u001b[0m",
      "\u001b[0;31mKeyError\u001b[0m                                  Traceback (most recent call last)",
      "\u001b[0;32m/usr/local/lib/python3.7/dist-packages/pandas/core/indexes/base.py\u001b[0m in \u001b[0;36mget_loc\u001b[0;34m(self, key, method, tolerance)\u001b[0m\n\u001b[1;32m   3360\u001b[0m             \u001b[0;32mtry\u001b[0m\u001b[0;34m:\u001b[0m\u001b[0;34m\u001b[0m\u001b[0;34m\u001b[0m\u001b[0m\n\u001b[0;32m-> 3361\u001b[0;31m                 \u001b[0;32mreturn\u001b[0m \u001b[0mself\u001b[0m\u001b[0;34m.\u001b[0m\u001b[0m_engine\u001b[0m\u001b[0;34m.\u001b[0m\u001b[0mget_loc\u001b[0m\u001b[0;34m(\u001b[0m\u001b[0mcasted_key\u001b[0m\u001b[0;34m)\u001b[0m\u001b[0;34m\u001b[0m\u001b[0;34m\u001b[0m\u001b[0m\n\u001b[0m\u001b[1;32m   3362\u001b[0m             \u001b[0;32mexcept\u001b[0m \u001b[0mKeyError\u001b[0m \u001b[0;32mas\u001b[0m \u001b[0merr\u001b[0m\u001b[0;34m:\u001b[0m\u001b[0;34m\u001b[0m\u001b[0;34m\u001b[0m\u001b[0m\n",
      "\u001b[0;32m/usr/local/lib/python3.7/dist-packages/pandas/_libs/index.pyx\u001b[0m in \u001b[0;36mpandas._libs.index.IndexEngine.get_loc\u001b[0;34m()\u001b[0m\n",
      "\u001b[0;32m/usr/local/lib/python3.7/dist-packages/pandas/_libs/index.pyx\u001b[0m in \u001b[0;36mpandas._libs.index.IndexEngine.get_loc\u001b[0;34m()\u001b[0m\n",
      "\u001b[0;32mpandas/_libs/hashtable_class_helper.pxi\u001b[0m in \u001b[0;36mpandas._libs.hashtable.PyObjectHashTable.get_item\u001b[0;34m()\u001b[0m\n",
      "\u001b[0;32mpandas/_libs/hashtable_class_helper.pxi\u001b[0m in \u001b[0;36mpandas._libs.hashtable.PyObjectHashTable.get_item\u001b[0;34m()\u001b[0m\n",
      "\u001b[0;31mKeyError\u001b[0m: 241",
      "\nThe above exception was the direct cause of the following exception:\n",
      "\u001b[0;31mKeyError\u001b[0m                                  Traceback (most recent call last)",
      "\u001b[0;32m<ipython-input-132-a9f10daa72c9>\u001b[0m in \u001b[0;36m<module>\u001b[0;34m\u001b[0m\n\u001b[1;32m     16\u001b[0m \u001b[0;31m#y = training_labels\u001b[0m\u001b[0;34m\u001b[0m\u001b[0;34m\u001b[0m\u001b[0;34m\u001b[0m\u001b[0m\n\u001b[1;32m     17\u001b[0m \u001b[0;31m#y = training_codes\u001b[0m\u001b[0;34m\u001b[0m\u001b[0;34m\u001b[0m\u001b[0;34m\u001b[0m\u001b[0m\n\u001b[0;32m---> 18\u001b[0;31m \u001b[0my\u001b[0m \u001b[0;34m=\u001b[0m \u001b[0mdf\u001b[0m\u001b[0;34m[\u001b[0m\u001b[0;36m241\u001b[0m\u001b[0;34m]\u001b[0m\u001b[0;34m\u001b[0m\u001b[0;34m\u001b[0m\u001b[0m\n\u001b[0m\u001b[1;32m     19\u001b[0m \u001b[0mX_train\u001b[0m\u001b[0;34m,\u001b[0m \u001b[0mX_test\u001b[0m\u001b[0;34m,\u001b[0m \u001b[0my_train\u001b[0m\u001b[0;34m,\u001b[0m \u001b[0my_test\u001b[0m \u001b[0;34m=\u001b[0m \u001b[0mtrain_test_split\u001b[0m\u001b[0;34m(\u001b[0m\u001b[0mX\u001b[0m\u001b[0;34m,\u001b[0m \u001b[0my\u001b[0m\u001b[0;34m,\u001b[0m \u001b[0mtest_size\u001b[0m\u001b[0;34m=\u001b[0m\u001b[0;36m0.5\u001b[0m\u001b[0;34m,\u001b[0m \u001b[0mrandom_state\u001b[0m\u001b[0;34m=\u001b[0m\u001b[0;36m42\u001b[0m\u001b[0;34m,\u001b[0m \u001b[0mstratify\u001b[0m\u001b[0;34m=\u001b[0m\u001b[0my\u001b[0m\u001b[0;34m)\u001b[0m\u001b[0;34m\u001b[0m\u001b[0;34m\u001b[0m\u001b[0m\n\u001b[1;32m     20\u001b[0m \u001b[0mmean_values\u001b[0m \u001b[0;34m=\u001b[0m \u001b[0mX_train\u001b[0m\u001b[0;34m.\u001b[0m\u001b[0mmean\u001b[0m\u001b[0;34m(\u001b[0m\u001b[0;34m)\u001b[0m\u001b[0;34m\u001b[0m\u001b[0;34m\u001b[0m\u001b[0m\n",
      "\u001b[0;32m/usr/local/lib/python3.7/dist-packages/pandas/core/frame.py\u001b[0m in \u001b[0;36m__getitem__\u001b[0;34m(self, key)\u001b[0m\n\u001b[1;32m   3456\u001b[0m             \u001b[0;32mif\u001b[0m \u001b[0mself\u001b[0m\u001b[0;34m.\u001b[0m\u001b[0mcolumns\u001b[0m\u001b[0;34m.\u001b[0m\u001b[0mnlevels\u001b[0m \u001b[0;34m>\u001b[0m \u001b[0;36m1\u001b[0m\u001b[0;34m:\u001b[0m\u001b[0;34m\u001b[0m\u001b[0;34m\u001b[0m\u001b[0m\n\u001b[1;32m   3457\u001b[0m                 \u001b[0;32mreturn\u001b[0m \u001b[0mself\u001b[0m\u001b[0;34m.\u001b[0m\u001b[0m_getitem_multilevel\u001b[0m\u001b[0;34m(\u001b[0m\u001b[0mkey\u001b[0m\u001b[0;34m)\u001b[0m\u001b[0;34m\u001b[0m\u001b[0;34m\u001b[0m\u001b[0m\n\u001b[0;32m-> 3458\u001b[0;31m             \u001b[0mindexer\u001b[0m \u001b[0;34m=\u001b[0m \u001b[0mself\u001b[0m\u001b[0;34m.\u001b[0m\u001b[0mcolumns\u001b[0m\u001b[0;34m.\u001b[0m\u001b[0mget_loc\u001b[0m\u001b[0;34m(\u001b[0m\u001b[0mkey\u001b[0m\u001b[0;34m)\u001b[0m\u001b[0;34m\u001b[0m\u001b[0;34m\u001b[0m\u001b[0m\n\u001b[0m\u001b[1;32m   3459\u001b[0m             \u001b[0;32mif\u001b[0m \u001b[0mis_integer\u001b[0m\u001b[0;34m(\u001b[0m\u001b[0mindexer\u001b[0m\u001b[0;34m)\u001b[0m\u001b[0;34m:\u001b[0m\u001b[0;34m\u001b[0m\u001b[0;34m\u001b[0m\u001b[0m\n\u001b[1;32m   3460\u001b[0m                 \u001b[0mindexer\u001b[0m \u001b[0;34m=\u001b[0m \u001b[0;34m[\u001b[0m\u001b[0mindexer\u001b[0m\u001b[0;34m]\u001b[0m\u001b[0;34m\u001b[0m\u001b[0;34m\u001b[0m\u001b[0m\n",
      "\u001b[0;32m/usr/local/lib/python3.7/dist-packages/pandas/core/indexes/base.py\u001b[0m in \u001b[0;36mget_loc\u001b[0;34m(self, key, method, tolerance)\u001b[0m\n\u001b[1;32m   3361\u001b[0m                 \u001b[0;32mreturn\u001b[0m \u001b[0mself\u001b[0m\u001b[0;34m.\u001b[0m\u001b[0m_engine\u001b[0m\u001b[0;34m.\u001b[0m\u001b[0mget_loc\u001b[0m\u001b[0;34m(\u001b[0m\u001b[0mcasted_key\u001b[0m\u001b[0;34m)\u001b[0m\u001b[0;34m\u001b[0m\u001b[0;34m\u001b[0m\u001b[0m\n\u001b[1;32m   3362\u001b[0m             \u001b[0;32mexcept\u001b[0m \u001b[0mKeyError\u001b[0m \u001b[0;32mas\u001b[0m \u001b[0merr\u001b[0m\u001b[0;34m:\u001b[0m\u001b[0;34m\u001b[0m\u001b[0;34m\u001b[0m\u001b[0m\n\u001b[0;32m-> 3363\u001b[0;31m                 \u001b[0;32mraise\u001b[0m \u001b[0mKeyError\u001b[0m\u001b[0;34m(\u001b[0m\u001b[0mkey\u001b[0m\u001b[0;34m)\u001b[0m \u001b[0;32mfrom\u001b[0m \u001b[0merr\u001b[0m\u001b[0;34m\u001b[0m\u001b[0;34m\u001b[0m\u001b[0m\n\u001b[0m\u001b[1;32m   3364\u001b[0m \u001b[0;34m\u001b[0m\u001b[0m\n\u001b[1;32m   3365\u001b[0m         \u001b[0;32mif\u001b[0m \u001b[0mis_scalar\u001b[0m\u001b[0;34m(\u001b[0m\u001b[0mkey\u001b[0m\u001b[0;34m)\u001b[0m \u001b[0;32mand\u001b[0m \u001b[0misna\u001b[0m\u001b[0;34m(\u001b[0m\u001b[0mkey\u001b[0m\u001b[0;34m)\u001b[0m \u001b[0;32mand\u001b[0m \u001b[0;32mnot\u001b[0m \u001b[0mself\u001b[0m\u001b[0;34m.\u001b[0m\u001b[0mhasnans\u001b[0m\u001b[0;34m:\u001b[0m\u001b[0;34m\u001b[0m\u001b[0;34m\u001b[0m\u001b[0m\n",
      "\u001b[0;31mKeyError\u001b[0m: 241"
     ]
    }
   ],
   "source": [
    "import warnings\n",
    "warnings.filterwarnings(\"ignore\")\n",
    "\n",
    "from sklearn.feature_selection import RFE\n",
    "from sklearn.linear_model import LogisticRegression\n",
    "from sklearn.ensemble import RandomForestClassifier\n",
    "\n",
    "from sklearn.model_selection import train_test_split\n",
    "\n",
    "\n",
    "#train_df = train_df#run_data_pipeline(training_features)\n",
    "#test_df = run_data_pipeline(test_features)\n",
    "\n",
    "X = df.iloc[:, :239]\n",
    "#X = train_df\n",
    "#y = training_labels\n",
    "#y = training_codes\n",
    "y = df[241]\n",
    "X_train, X_test, y_train, y_test = train_test_split(X, y, test_size=0.5, random_state=42, stratify=y)\n",
    "mean_values = X_train.mean()\n",
    "X_train = X_train.fillna(mean_values)\n",
    "X_test = X_test.fillna(mean_values)\n",
    "\n",
    "# logistic regression\n",
    "logreg = LogisticRegression(C=200, penalty=\"l2\")\n",
    "rfe_lr = RFE(logreg, n_features_to_select=10, step=10)\n",
    "rfe_lr = rfe_lr.fit(X_train, y_train)\n",
    "#print(rfe.support_)\n",
    "#print(rfe.ranking_)\n",
    "print(X_train.columns[rfe_lr.support_])\n",
    "\n",
    "# random forest\n",
    "rf = RandomForestClassifier()\n",
    "rfe_rf = RFE(rf, n_features_to_select=10, step=10)\n",
    "rfe_rf = rfe_rf.fit(X_train, y_train)\n",
    "#print(rfe.support_)\n",
    "#print(rfe.ranking_)\n",
    "print(X_train.columns[rfe_rf.support_])\n",
    "\n",
    "X_train2 = rfe_lr.transform(X_train)\n",
    "X_test2 = rfe_lr.transform(X_test)\n",
    "logreg.fit(X_train2, y_train)\n",
    "y_train_pred_lr = logreg.predict(X_train2)\n",
    "y_test_pred_lr = logreg.predict(X_test2)\n",
    "\n",
    "X_train2 = rfe_rf.transform(X_train)\n",
    "X_test2 = rfe_rf.transform(X_test)\n",
    "rf.fit(X_train2, y_train)\n",
    "y_train_pred_rf = rf.predict(X_train2)\n",
    "y_test_pred_rf = rf.predict(X_test2)\n",
    "\n",
    "print(f\"Logistic regression score: {accuracy_score(y_train, y_train_pred_lr):.2f}\")\n",
    "print(f\"Logistic regression score: {accuracy_score(y_test, y_test_pred_lr):.2f}\")\n",
    "print(f\"Random forest score: {accuracy_score(y_train, y_train_pred_rf):.2f}\")\n",
    "print(f\"Random forest score: {accuracy_score(y_test, y_test_pred_rf):.2f}\")\n"
   ]
  },
  {
   "cell_type": "code",
   "execution_count": null,
   "metadata": {
    "id": "jIPn7EzVbVjj",
    "pycharm": {
     "name": "#%%\n"
    }
   },
   "outputs": [],
   "source": [
    "logreg.coef_.shape"
   ]
  },
  {
   "cell_type": "code",
   "execution_count": null,
   "metadata": {
    "id": "ZCxLd77NbArk",
    "pycharm": {
     "name": "#%%\n"
    }
   },
   "outputs": [],
   "source": [
    "pd.DataFrame(zip(list(X_train.columns[(rfe_rf.support_)]), rf.feature_importances_), columns=[\"feat\", \"feat_imp\"]).sort_values(\"feat_imp\", ascending=False)"
   ]
  },
  {
   "cell_type": "code",
   "execution_count": null,
   "metadata": {
    "colab": {
     "base_uri": "https://localhost:8080/",
     "height": 70
    },
    "id": "JCInmgW5kOVr",
    "outputId": "0bd9b368-6986-4ce6-9161-a217f3a72803",
    "pycharm": {
     "name": "#%%\n"
    }
   },
   "outputs": [
    {
     "data": {
      "application/vnd.google.colaboratory.intrinsic+json": {
       "type": "string"
      },
      "text/plain": [
       "'\\nfig, ax = plt.subplots(ncols=1)\\nx = np.arange(0, len(results_all[\"classifier\"]))\\n\\nax[0].bar(x, results_all[\"train_accuracy\"])\\nax[0].set_xticks(x)\\nax[0].set_xticklabels(results_all[\"classifier\"], rotation=\\'vertical\\')\\n\\nax[1].bar(x, results_all[\"test_accuracy\"])\\nax[1].set_xticks(x)\\nax[1].set_xticklabels(results_all[\"classifier\"], rotation=\\'vertical\\')\\n\\ndiff = results_all[\"train_accuracy\"] - results_all[\"test_accuracy\"]\\nax[0].bar(x, diff)\\nax[0].set_xticks(x)\\nax[0].set_xticklabels(results_all[\"classifier\"], rotation=\\'vertical\\')\\n\\n\\ndiff = results_all[\"train_accuracy\"] - results_all[\"test_accuracy\"]\\nx = np.arange(0, len(results_all[\"classifier\"]))\\nplt.bar(x, diff)\\nplt.xticks(x, results_all[\"classifier\"], rotation=\\'vertical\\')\\n\\nfig.tight_layout()\\nplt.show()\\n'"
      ]
     },
     "execution_count": 131,
     "metadata": {},
     "output_type": "execute_result"
    }
   ],
   "source": [
    "'''\n",
    "fig, ax = plt.subplots(ncols=1)\n",
    "x = np.arange(0, len(results_all[\"classifier\"]))\n",
    "\n",
    "ax[0].bar(x, results_all[\"train_accuracy\"])\n",
    "ax[0].set_xticks(x)\n",
    "ax[0].set_xticklabels(results_all[\"classifier\"], rotation='vertical')\n",
    "\n",
    "ax[1].bar(x, results_all[\"test_accuracy\"])\n",
    "ax[1].set_xticks(x)\n",
    "ax[1].set_xticklabels(results_all[\"classifier\"], rotation='vertical')\n",
    "\n",
    "diff = results_all[\"train_accuracy\"] - results_all[\"test_accuracy\"]\n",
    "ax[0].bar(x, diff)\n",
    "ax[0].set_xticks(x)\n",
    "ax[0].set_xticklabels(results_all[\"classifier\"], rotation='vertical')\n",
    "\n",
    "\n",
    "diff = results_all[\"train_accuracy\"] - results_all[\"test_accuracy\"]\n",
    "x = np.arange(0, len(results_all[\"classifier\"]))\n",
    "plt.bar(x, diff)\n",
    "plt.xticks(x, results_all[\"classifier\"], rotation='vertical')\n",
    "\n",
    "fig.tight_layout()\n",
    "plt.show()\n",
    "'''"
   ]
  }
 ],
 "metadata": {
  "colab": {
   "collapsed_sections": [
    "xsm10C7KRTiq",
    "sNw45BR0m62X",
    "XyY6wwS-m62a",
    "J1sVekRXoT4Q",
    "QHeOA5iqm62g",
    "EtCVnW3um62i",
    "Unie-y19uJpv"
   ],
   "provenance": [],
   "toc_visible": true
  },
  "jupytext": {
   "formats": "ipynb,py"
  },
  "kernelspec": {
   "display_name": "Python 3.8.10 ('ml4t')",
   "language": "python",
   "name": "python3"
  },
  "language_info": {
   "codemirror_mode": {
    "name": "ipython",
    "version": 3
   },
   "file_extension": ".py",
   "mimetype": "text/x-python",
   "name": "python",
   "nbconvert_exporter": "python",
   "pygments_lexer": "ipython3",
   "version": "3.8.10"
  },
  "vscode": {
   "interpreter": {
    "hash": "24d583f1203bdfe50eab2a92d34cce79a7ce63c8befccd2ca229701da87b9007"
   }
  }
 },
 "nbformat": 4,
 "nbformat_minor": 0
}
